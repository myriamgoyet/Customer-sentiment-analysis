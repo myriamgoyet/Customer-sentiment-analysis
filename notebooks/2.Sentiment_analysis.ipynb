{
 "cells": [
  {
   "cell_type": "code",
   "execution_count": 1,
   "id": "99bca030",
   "metadata": {},
   "outputs": [],
   "source": [
    "import pandas as pd"
   ]
  },
  {
   "cell_type": "code",
   "execution_count": 2,
   "id": "dec41fbc",
   "metadata": {},
   "outputs": [],
   "source": [
    "df1 = pd.read_csv(\"data/cleaned_data.csv\")"
   ]
  },
  {
   "cell_type": "markdown",
   "id": "35be613b",
   "metadata": {},
   "source": [
    "# EDA"
   ]
  },
  {
   "cell_type": "code",
   "execution_count": 3,
   "id": "f9f3bc4e",
   "metadata": {},
   "outputs": [
    {
     "data": {
      "text/plain": [
       "actual_sentiment\n",
       "positive    43.501124\n",
       "negative    42.413483\n",
       "neutral     14.085393\n",
       "Name: proportion, dtype: float64"
      ]
     },
     "execution_count": 3,
     "metadata": {},
     "output_type": "execute_result"
    }
   ],
   "source": [
    "df1[\"actual_sentiment\"].value_counts(normalize=True, dropna=False) * 100"
   ]
  },
  {
   "cell_type": "code",
   "execution_count": 4,
   "id": "18289402",
   "metadata": {},
   "outputs": [
    {
     "data": {
      "text/plain": [
       "rating\n",
       "1    32.359551\n",
       "5    27.577528\n",
       "4    15.923596\n",
       "3    14.085393\n",
       "2    10.053933\n",
       "Name: proportion, dtype: float64"
      ]
     },
     "execution_count": 4,
     "metadata": {},
     "output_type": "execute_result"
    }
   ],
   "source": [
    "df1[\"rating\"].value_counts(normalize=True, dropna=False) * 100"
   ]
  },
  {
   "cell_type": "code",
   "execution_count": 5,
   "id": "76da7ffe",
   "metadata": {},
   "outputs": [
    {
     "data": {
      "text/plain": [
       "City\n",
       "New York             11.775281\n",
       "Orlando              10.022472\n",
       "Austin                5.649438\n",
       "Los Angeles           4.606742\n",
       "Miami                 4.480899\n",
       "Dallas                4.422472\n",
       "Queens                4.274157\n",
       "Kissimmee             4.224719\n",
       "Las Vegas             4.170787\n",
       "Salt Lake City        3.973034\n",
       "San Diego             3.896629\n",
       "North Hollywood       3.128090\n",
       "Honolulu              2.930337\n",
       "Sunnyvale             2.925843\n",
       "Fern Park             2.921348\n",
       "Newark                2.687640\n",
       "Santa Monica          2.633708\n",
       "Miami Beach           2.539326\n",
       "San Antonio           2.525843\n",
       "Oak Park              2.498876\n",
       "Champlain             2.485393\n",
       "Brodheadsville        2.301124\n",
       "Washington            2.053933\n",
       "Roanoke               2.013483\n",
       "Voorhees Township     1.946067\n",
       "Fort Worth            1.941573\n",
       "Annandale             0.970787\n",
       "Name: proportion, dtype: float64"
      ]
     },
     "execution_count": 5,
     "metadata": {},
     "output_type": "execute_result"
    }
   ],
   "source": [
    "df1[\"City\"].value_counts(normalize=True, dropna=False) * 100"
   ]
  },
  {
   "cell_type": "code",
   "execution_count": 6,
   "id": "1a8b13a1",
   "metadata": {},
   "outputs": [
    {
     "data": {
      "text/plain": [
       "State\n",
       "FL    24.188764\n",
       "NY    18.534831\n",
       "CA    17.191011\n",
       "TX    16.552809\n",
       "NJ     4.633708\n",
       "NV     4.170787\n",
       "UT     3.973034\n",
       "HI     2.930337\n",
       "IL     2.498876\n",
       "PA     2.301124\n",
       "DC     2.053933\n",
       "VA     0.970787\n",
       "Name: proportion, dtype: float64"
      ]
     },
     "execution_count": 6,
     "metadata": {},
     "output_type": "execute_result"
    }
   ],
   "source": [
    "df1[\"State\"].value_counts(normalize=True, dropna=False) * 100"
   ]
  },
  {
   "cell_type": "markdown",
   "id": "e369bed9",
   "metadata": {},
   "source": [
    "# Sentiment Analyser"
   ]
  },
  {
   "cell_type": "code",
   "execution_count": 7,
   "id": "d5bc2718",
   "metadata": {},
   "outputs": [],
   "source": [
    "df2 = df1.copy(deep = True)"
   ]
  },
  {
   "cell_type": "markdown",
   "id": "dd2c25b8",
   "metadata": {},
   "source": [
    "## Using NLTK’s Pre-Trained Sentiment Analyzer:"
   ]
  },
  {
   "cell_type": "code",
   "execution_count": 8,
   "id": "c3bae3c7",
   "metadata": {},
   "outputs": [
    {
     "name": "stdout",
     "output_type": "stream",
     "text": [
      "   sentiment_score_SIA sentiment_SIA actual_sentiment  \\\n",
      "0               0.5541      positive         negative   \n",
      "1               0.8591      positive         positive   \n",
      "2              -0.2960      negative         negative   \n",
      "3               0.0000       neutral         positive   \n",
      "4              -0.7184      negative         negative   \n",
      "\n",
      "                                              review  \n",
      "0  Why does it look like someone spit on my food?...  \n",
      "1  It'd McDonalds. It is what it is as far as the...  \n",
      "2  Made a mobile order got to the speaker and che...  \n",
      "3  My mc. Crispy chicken sandwich was ..............  \n",
      "4  I repeat my order 3 times in the drive thru, a...  \n"
     ]
    }
   ],
   "source": [
    "from nltk.sentiment import SentimentIntensityAnalyzer \n",
    "\n",
    "\n",
    "analyzer = SentimentIntensityAnalyzer()\n",
    "\n",
    "#Sentiment score from -1 (very negative) to 1 (very positive)\n",
    "df2['sentiment_score_SIA'] = df2['tokenized_reviews'].apply(lambda text: analyzer.polarity_scores(str(text))['compound'])\n",
    "df2['sentiment_SIA'] = None\n",
    "\n",
    "df2['sentiment_SIA'] = df2['sentiment_score_SIA'].apply(lambda score: 'positive' if score >= 0.4 else ('negative' if score <= -0.1 else 'neutral'))\n",
    "print(df2[['sentiment_score_SIA', 'sentiment_SIA', 'actual_sentiment', \"review\"]].head())"
   ]
  },
  {
   "cell_type": "code",
   "execution_count": 9,
   "id": "d4a4776a",
   "metadata": {},
   "outputs": [
    {
     "data": {
      "text/plain": [
       "<Figure size 800x600 with 0 Axes>"
      ]
     },
     "metadata": {},
     "output_type": "display_data"
    },
    {
     "data": {
      "image/png": "[encoded data removed]",
      "text/plain": [
       "<Figure size 800x600 with 1 Axes>"
      ]
     },
     "metadata": {},
     "output_type": "display_data"
    }
   ],
   "source": [
    "import matplotlib.pyplot as plt\n",
    "import seaborn as sns\n",
    "\n",
    "plt.figure(figsize=(8, 6))\n",
    "\n",
    "# Compute percentages and convert format for seaborn\n",
    "rates = df2.groupby(['sentiment_SIA', 'actual_sentiment']).size().unstack().fillna(0)\n",
    "rates = rates.div(rates.sum(axis=1), axis=0) * 100\n",
    "rates_long = rates.reset_index().melt(id_vars='sentiment_SIA', value_name='percentage')\n",
    "\n",
    "# Creat graph\n",
    "plt.figure(figsize=(8, 6))\n",
    "ax = sns.barplot(data=rates_long, x='sentiment_SIA', y='percentage', hue='actual_sentiment')\n",
    "\n",
    "for p in ax.patches:\n",
    "    height = p.get_height()\n",
    "    ax.annotate(f'{height:.1f}%', (p.get_x() + p.get_width() / 2., height),\n",
    "                ha='center', va='bottom')\n",
    "\n",
    "plt.title('Model Coherence vs. Actual Sentiment')\n",
    "plt.xlabel('Sentiment from model SIA')\n",
    "plt.ylabel('Percentage')\n",
    "plt.legend(title='actual sentiment from rating')\n",
    "plt.xticks(rotation=0)\n",
    "\n",
    "plt.show()"
   ]
  },
  {
   "cell_type": "markdown",
   "id": "54eeb514",
   "metadata": {},
   "source": [
    "## Model Text_classification from DistilBERT"
   ]
  },
  {
   "cell_type": "code",
   "execution_count": 10,
   "id": "ee8ef0b5",
   "metadata": {},
   "outputs": [
    {
     "name": "stderr",
     "output_type": "stream",
     "text": [
      "No model was supplied, defaulted to distilbert/distilbert-base-uncased-finetuned-sst-2-english and revision 714eb0f (https://huggingface.co/distilbert/distilbert-base-uncased-finetuned-sst-2-english).\n",
      "Using a pipeline without specifying a model name and revision in production is not recommended.\n",
      "Device set to use cpu\n"
     ]
    },
    {
     "name": "stdout",
     "output_type": "stream",
     "text": [
      "[{'label': 'POSITIVE', 'score': 0.8121552467346191}]\n"
     ]
    }
   ],
   "source": [
    "from transformers import pipeline\n",
    "\n",
    "classifier = pipeline(\"sentiment-analysis\", framework=\"pt\")\n",
    "print(classifier(\"This should now work without TensorFlow.\"))"
   ]
  },
  {
   "cell_type": "code",
   "execution_count": 11,
   "id": "b901ed92",
   "metadata": {},
   "outputs": [
    {
     "name": "stderr",
     "output_type": "stream",
     "text": [
      "Device set to use cpu\n"
     ]
    },
    {
     "data": {
      "application/vnd.jupyter.widget-view+json": {
       "model_id": "e35bc3f7f67f4332bc08f85d096baa2e",
       "version_major": 2,
       "version_minor": 0
      },
      "text/plain": [
       "Processing reviews:   0%|          | 0/22250 [00:00<?, ?it/s]"
      ]
     },
     "metadata": {},
     "output_type": "display_data"
    }
   ],
   "source": [
    "from transformers import pipeline\n",
    "from tqdm.notebook import tqdm\n",
    "\n",
    "pipe = pipeline(\"text-classification\", model=\"distilbert-base-uncased-finetuned-sst-2-english\", truncation=True, max_length=512) #model par défaut. tronqué car il ne support pas les reviews de plus de 512 tokens\n",
    "\n",
    "reviews = df2[\"review\"].tolist()\n",
    "\n",
    "results = []\n",
    "for review in tqdm(reviews, desc=\"Processing reviews\"):\n",
    "    result = pipe(review)\n",
    "    results.append(result)\n",
    "\n",
    "df2['DistilBERT'] = results"
   ]
  },
  {
   "cell_type": "code",
   "execution_count": 12,
   "id": "f68c69d1",
   "metadata": {},
   "outputs": [],
   "source": [
    "for i in df2.index:\n",
    "    result = df2.loc[i, \"DistilBERT\"][0]\n",
    "    df2.loc[i, \"DistilBERT_sentiment\"] = result[\"label\"]\n",
    "    df2.loc[i, \"DistilBERT_score\"] = result[\"score\"]\n",
    "\n",
    "df2 = df2.drop([\"DistilBERT\"], axis=1)"
   ]
  },
  {
   "cell_type": "code",
   "execution_count": 13,
   "id": "96dd2794",
   "metadata": {},
   "outputs": [
    {
     "data": {
      "text/plain": [
       "<Figure size 800x600 with 0 Axes>"
      ]
     },
     "metadata": {},
     "output_type": "display_data"
    },
    {
     "data": {
      "image/png": "[encoded data removed]",
      "text/plain": [
       "<Figure size 800x600 with 1 Axes>"
      ]
     },
     "metadata": {},
     "output_type": "display_data"
    }
   ],
   "source": [
    "plt.figure(figsize=(8, 6))\n",
    "\n",
    "# Calculate percentages\n",
    "rates = df2.groupby(['DistilBERT_sentiment', 'actual_sentiment']).size().unstack().fillna(0)\n",
    "rates = rates.div(rates.sum(axis=1), axis=0) * 100\n",
    "\n",
    "# Convert rates to long format for seaborn\n",
    "rates_long = rates.reset_index().melt(id_vars='DistilBERT_sentiment', value_name='percentage')\n",
    "\n",
    "# Create bar plot with seaborn\n",
    "plt.figure(figsize=(8, 6))\n",
    "ax = sns.barplot(data=rates_long, x='DistilBERT_sentiment', y='percentage', hue='actual_sentiment')\n",
    "\n",
    "# Add annotations\n",
    "for p in ax.patches:\n",
    "    height = p.get_height()\n",
    "    ax.annotate(f'{height:.1f}%', (p.get_x() + p.get_width() / 2., height),\n",
    "                ha='center', va='bottom')\n",
    "\n",
    "plt.title('Model Coherence vs. Actual Sentiment')\n",
    "plt.xlabel('Sentiment from model DistilBERT')\n",
    "plt.ylabel('Percentage')\n",
    "plt.xticks(rotation=0)\n",
    "plt.legend(title='actual sentiment from rating')\n",
    "plt.show()\n"
   ]
  },
  {
   "cell_type": "markdown",
   "id": "9504d5fd",
   "metadata": {},
   "source": [
    "## Model RoBERTa"
   ]
  },
  {
   "cell_type": "code",
   "execution_count": 14,
   "id": "61e812f5",
   "metadata": {},
   "outputs": [
    {
     "name": "stderr",
     "output_type": "stream",
     "text": [
      "Device set to use cpu\n"
     ]
    }
   ],
   "source": [
    "# Load model\n",
    "from transformers import pipeline\n",
    "\n",
    "# Initialize the sentiment analysis pipeline\n",
    "model_roberta = pipeline(\"text-classification\", model=\"cardiffnlp/twitter-roberta-base-sentiment\")"
   ]
  },
  {
   "cell_type": "code",
   "execution_count": 16,
   "id": "d1622226",
   "metadata": {},
   "outputs": [
    {
     "data": {
      "application/vnd.jupyter.widget-view+json": {
       "model_id": "a81b2523122f4239a4fa777f7eb6bf95",
       "version_major": 2,
       "version_minor": 0
      },
      "text/plain": [
       "  0%|          | 0/22250 [00:00<?, ?it/s]"
      ]
     },
     "metadata": {},
     "output_type": "display_data"
    }
   ],
   "source": [
    "from tqdm.notebook import tqdm\n",
    "\n",
    "# Define the maximum length\n",
    "max_length = 514\n",
    "\n",
    "# Store results in a list before assigning to the DataFrame (faster than df.at in loop)\n",
    "roberta_outputs = []\n",
    "\n",
    "for i, row in tqdm(df2.iterrows(), total=len(df2)):\n",
    "    try:\n",
    "        text = row.get('clean_reviews', '')\n",
    "\n",
    "        # Skip if not a string\n",
    "        if not isinstance(text, str):\n",
    "            print(f\"Skipping non-string value at index {i}: {text}\")\n",
    "            roberta_outputs.append({})\n",
    "            continue\n",
    "\n",
    "        # Truncate if necessary\n",
    "        text = text[:max_length]\n",
    "\n",
    "        # Run inference\n",
    "        roberta_result = model_roberta(text)\n",
    "        roberta_result_model = {}\n",
    "\n",
    "        if roberta_result and isinstance(roberta_result, list):\n",
    "            for key, value in roberta_result[0].items():\n",
    "                roberta_result_model[f'Roberta_{key}'] = value\n",
    "\n",
    "        roberta_outputs.append(roberta_result_model)\n",
    "\n",
    "    except RuntimeError as e:\n",
    "        print(f\"Runtime error at index {i}: {e}\")\n",
    "        roberta_outputs.append({})\n",
    "\n",
    "# Assign the results to the DataFrame in one go (much faster)\n",
    "df2[\"Roberta\"] = roberta_outputs\n"
   ]
  },
  {
   "cell_type": "code",
   "execution_count": 17,
   "id": "76de3e5d",
   "metadata": {},
   "outputs": [],
   "source": [
    "# Create columns to store the extracted label and score from the Roberta results\n",
    "df2[\"Roberta_label\"] = None\n",
    "df2[\"Roberta_score\"] = None\n",
    "\n",
    "# Extract values from the \"Roberta\" dictionary column into separate columns\n",
    "for i, result in df2[\"Roberta\"].items():\n",
    "    if \"Roberta_label\" in result:\n",
    "        df2.at[i, \"Roberta_label\"] = result[\"Roberta_label\"]\n",
    "        df2.at[i, \"Roberta_score\"] = result[\"Roberta_score\"]\n",
    "\n",
    "# Drop the original \"Roberta\" column now that the values are extracted\n",
    "df2.drop(\"Roberta\", axis=1, inplace=True)\n"
   ]
  },
  {
   "cell_type": "code",
   "execution_count": 18,
   "id": "b6c55cf2",
   "metadata": {},
   "outputs": [],
   "source": [
    "# RoBERTa labeled results as: for negative review as LABEL_0, for neutral as LABEL_1, and for positive as LABEL_2\n",
    "# Below is to map  the Labels as negative , neutral and positive\n",
    "\n",
    "def map_roberta_labels(label):\n",
    "    if label == 'LABEL_0':\n",
    "        return 'negative'\n",
    "    elif label == 'LABEL_1':\n",
    "        return 'neutral'\n",
    "    elif label == 'LABEL_2':\n",
    "        return 'positive'\n",
    "    else:\n",
    "        return 'unknown'\n",
    "\n",
    "# Apply the function to the 'Roberta_label' column\n",
    "df2['Roberta_label'] = df2['Roberta_label'].apply(map_roberta_labels)"
   ]
  },
  {
   "cell_type": "code",
   "execution_count": 19,
   "id": "26eac483",
   "metadata": {},
   "outputs": [],
   "source": [
    "df2['Roberta_score'] = df2['Roberta_score'].astype(float)"
   ]
  },
  {
   "cell_type": "code",
   "execution_count": 20,
   "id": "22e720ce",
   "metadata": {},
   "outputs": [
    {
     "data": {
      "image/png": "[encoded data removed]",
      "text/plain": [
       "<Figure size 800x600 with 1 Axes>"
      ]
     },
     "metadata": {},
     "output_type": "display_data"
    }
   ],
   "source": [
    "df_refults_filtered = df2.copy()\n",
    "\n",
    "# Group and compute percentages\n",
    "rates = df_refults_filtered.groupby(['Roberta_label', 'actual_sentiment']).size().unstack().fillna(0)\n",
    "rates = rates.div(rates.sum(axis=1), axis=0) * 100\n",
    "\n",
    "# Convert to long format\n",
    "rates_long = rates.reset_index().melt(id_vars='Roberta_label', value_name='percentage', var_name='actual_sentiment')\n",
    "\n",
    "# Barplot\n",
    "plt.figure(figsize=(8, 6))\n",
    "ax = sns.barplot(data=rates_long, x='Roberta_label', y='percentage', hue='actual_sentiment')\n",
    "\n",
    "# Add percentage labels on top of bars\n",
    "for p in ax.patches:\n",
    "    height = p.get_height()\n",
    "    if height > 0:\n",
    "        ax.annotate(f'{height:.1f}%',\n",
    "                    (p.get_x() + p.get_width() / 2., height),\n",
    "                    ha='center', va='bottom', fontsize=9)\n",
    "\n",
    "plt.title('Model Coherence vs. Actual Sentiment')\n",
    "plt.xlabel('Sentiment from model RoBERTa')\n",
    "plt.ylabel('Percentage')\n",
    "plt.legend(title='Actual Review', loc='lower center', bbox_to_anchor=(0.5, 1.1), ncol=3)\n",
    "plt.xticks(rotation=0)\n",
    "plt.tight_layout()\n",
    "plt.show()\n"
   ]
  },
  {
   "cell_type": "markdown",
   "id": "93cdf036",
   "metadata": {},
   "source": [
    "RoBERTA model shows the best results"
   ]
  },
  {
   "cell_type": "code",
   "execution_count": 21,
   "id": "bb3c3538",
   "metadata": {},
   "outputs": [],
   "source": [
    "df2.to_csv(\"data/data_with_models_sentiment_analysis.csv\")"
   ]
  },
  {
   "cell_type": "code",
   "execution_count": 22,
   "id": "e27a4f48",
   "metadata": {},
   "outputs": [
    {
     "data": {
      "text/html": [
       "<div>\n",
       "<style scoped>\n",
       "    .dataframe tbody tr th:only-of-type {\n",
       "        vertical-align: middle;\n",
       "    }\n",
       "\n",
       "    .dataframe tbody tr th {\n",
       "        vertical-align: top;\n",
       "    }\n",
       "\n",
       "    .dataframe thead th {\n",
       "        text-align: right;\n",
       "    }\n",
       "</style>\n",
       "<table border=\"1\" class=\"dataframe\">\n",
       "  <thead>\n",
       "    <tr style=\"text-align: right;\">\n",
       "      <th></th>\n",
       "      <th>reviewer_id</th>\n",
       "      <th>store_address</th>\n",
       "      <th>latitude</th>\n",
       "      <th>longitude</th>\n",
       "      <th>City</th>\n",
       "      <th>State</th>\n",
       "      <th>review</th>\n",
       "      <th>rating</th>\n",
       "      <th>review_date</th>\n",
       "      <th>clean_reviews</th>\n",
       "      <th>tokenized_reviews</th>\n",
       "      <th>actual_sentiment</th>\n",
       "      <th>sentiment_score_SIA</th>\n",
       "      <th>sentiment_SIA</th>\n",
       "      <th>DistilBERT_sentiment</th>\n",
       "      <th>DistilBERT_score</th>\n",
       "      <th>Roberta_label</th>\n",
       "      <th>Roberta_score</th>\n",
       "    </tr>\n",
       "  </thead>\n",
       "  <tbody>\n",
       "    <tr>\n",
       "      <th>0</th>\n",
       "      <td>1</td>\n",
       "      <td>13749 US-183 Hwy</td>\n",
       "      <td>30.460718</td>\n",
       "      <td>-97.792874</td>\n",
       "      <td>Austin</td>\n",
       "      <td>TX</td>\n",
       "      <td>Why does it look like someone spit on my food?...</td>\n",
       "      <td>1</td>\n",
       "      <td>2025-03-05</td>\n",
       "      <td>why does it look like someone spit on my food ...</td>\n",
       "      <td>look like someone spit food normal transaction...</td>\n",
       "      <td>negative</td>\n",
       "      <td>0.5541</td>\n",
       "      <td>positive</td>\n",
       "      <td>NEGATIVE</td>\n",
       "      <td>0.999151</td>\n",
       "      <td>negative</td>\n",
       "      <td>0.975279</td>\n",
       "    </tr>\n",
       "    <tr>\n",
       "      <th>1</th>\n",
       "      <td>2</td>\n",
       "      <td>13749 US-183 Hwy</td>\n",
       "      <td>30.460718</td>\n",
       "      <td>-97.792874</td>\n",
       "      <td>Austin</td>\n",
       "      <td>TX</td>\n",
       "      <td>It'd McDonalds. It is what it is as far as the...</td>\n",
       "      <td>4</td>\n",
       "      <td>2025-05-31</td>\n",
       "      <td>itd mcdonalds it is what it is as far as the f...</td>\n",
       "      <td>itd mcdonalds far food atmosphere go staff mak...</td>\n",
       "      <td>positive</td>\n",
       "      <td>0.8591</td>\n",
       "      <td>positive</td>\n",
       "      <td>POSITIVE</td>\n",
       "      <td>0.999840</td>\n",
       "      <td>positive</td>\n",
       "      <td>0.973995</td>\n",
       "    </tr>\n",
       "    <tr>\n",
       "      <th>2</th>\n",
       "      <td>3</td>\n",
       "      <td>13749 US-183 Hwy</td>\n",
       "      <td>30.460718</td>\n",
       "      <td>-97.792874</td>\n",
       "      <td>Austin</td>\n",
       "      <td>TX</td>\n",
       "      <td>Made a mobile order got to the speaker and che...</td>\n",
       "      <td>1</td>\n",
       "      <td>2025-05-31</td>\n",
       "      <td>made a mobile order got to the speaker and che...</td>\n",
       "      <td>made mobile order got speaker checked line mov...</td>\n",
       "      <td>negative</td>\n",
       "      <td>-0.2960</td>\n",
       "      <td>negative</td>\n",
       "      <td>NEGATIVE</td>\n",
       "      <td>0.999660</td>\n",
       "      <td>negative</td>\n",
       "      <td>0.775206</td>\n",
       "    </tr>\n",
       "    <tr>\n",
       "      <th>3</th>\n",
       "      <td>4</td>\n",
       "      <td>13749 US-183 Hwy</td>\n",
       "      <td>30.460718</td>\n",
       "      <td>-97.792874</td>\n",
       "      <td>Austin</td>\n",
       "      <td>TX</td>\n",
       "      <td>My mc. Crispy chicken sandwich was ..............</td>\n",
       "      <td>5</td>\n",
       "      <td>2025-05-05</td>\n",
       "      <td>my mc crispy chicken sandwich was customer ser...</td>\n",
       "      <td>mc crispy chicken sandwich customer service qu...</td>\n",
       "      <td>positive</td>\n",
       "      <td>0.0000</td>\n",
       "      <td>neutral</td>\n",
       "      <td>NEGATIVE</td>\n",
       "      <td>0.991270</td>\n",
       "      <td>positive</td>\n",
       "      <td>0.901184</td>\n",
       "    </tr>\n",
       "    <tr>\n",
       "      <th>4</th>\n",
       "      <td>5</td>\n",
       "      <td>13749 US-183 Hwy</td>\n",
       "      <td>30.460718</td>\n",
       "      <td>-97.792874</td>\n",
       "      <td>Austin</td>\n",
       "      <td>TX</td>\n",
       "      <td>I repeat my order 3 times in the drive thru, a...</td>\n",
       "      <td>1</td>\n",
       "      <td>2025-04-05</td>\n",
       "      <td>i repeat my order times in the drive thru and ...</td>\n",
       "      <td>repeat order times drive thru still manage mes...</td>\n",
       "      <td>negative</td>\n",
       "      <td>-0.7184</td>\n",
       "      <td>negative</td>\n",
       "      <td>NEGATIVE</td>\n",
       "      <td>0.999598</td>\n",
       "      <td>negative</td>\n",
       "      <td>0.937037</td>\n",
       "    </tr>\n",
       "  </tbody>\n",
       "</table>\n",
       "</div>"
      ],
      "text/plain": [
       "   reviewer_id     store_address   latitude  longitude    City State  \\\n",
       "0            1  13749 US-183 Hwy  30.460718 -97.792874  Austin    TX   \n",
       "1            2  13749 US-183 Hwy  30.460718 -97.792874  Austin    TX   \n",
       "2            3  13749 US-183 Hwy  30.460718 -97.792874  Austin    TX   \n",
       "3            4  13749 US-183 Hwy  30.460718 -97.792874  Austin    TX   \n",
       "4            5  13749 US-183 Hwy  30.460718 -97.792874  Austin    TX   \n",
       "\n",
       "                                              review  rating review_date  \\\n",
       "0  Why does it look like someone spit on my food?...       1  2025-03-05   \n",
       "1  It'd McDonalds. It is what it is as far as the...       4  2025-05-31   \n",
       "2  Made a mobile order got to the speaker and che...       1  2025-05-31   \n",
       "3  My mc. Crispy chicken sandwich was ..............       5  2025-05-05   \n",
       "4  I repeat my order 3 times in the drive thru, a...       1  2025-04-05   \n",
       "\n",
       "                                       clean_reviews  \\\n",
       "0  why does it look like someone spit on my food ...   \n",
       "1  itd mcdonalds it is what it is as far as the f...   \n",
       "2  made a mobile order got to the speaker and che...   \n",
       "3  my mc crispy chicken sandwich was customer ser...   \n",
       "4  i repeat my order times in the drive thru and ...   \n",
       "\n",
       "                                   tokenized_reviews actual_sentiment  \\\n",
       "0  look like someone spit food normal transaction...         negative   \n",
       "1  itd mcdonalds far food atmosphere go staff mak...         positive   \n",
       "2  made mobile order got speaker checked line mov...         negative   \n",
       "3  mc crispy chicken sandwich customer service qu...         positive   \n",
       "4  repeat order times drive thru still manage mes...         negative   \n",
       "\n",
       "   sentiment_score_SIA sentiment_SIA DistilBERT_sentiment  DistilBERT_score  \\\n",
       "0               0.5541      positive             NEGATIVE          0.999151   \n",
       "1               0.8591      positive             POSITIVE          0.999840   \n",
       "2              -0.2960      negative             NEGATIVE          0.999660   \n",
       "3               0.0000       neutral             NEGATIVE          0.991270   \n",
       "4              -0.7184      negative             NEGATIVE          0.999598   \n",
       "\n",
       "  Roberta_label  Roberta_score  \n",
       "0      negative       0.975279  \n",
       "1      positive       0.973995  \n",
       "2      negative       0.775206  \n",
       "3      positive       0.901184  \n",
       "4      negative       0.937037  "
      ]
     },
     "execution_count": 22,
     "metadata": {},
     "output_type": "execute_result"
    }
   ],
   "source": [
    "df2.head()"
   ]
  },
  {
   "cell_type": "markdown",
   "id": "d5ead911",
   "metadata": {},
   "source": [
    "# Cleaning dataset for dashboard"
   ]
  },
  {
   "cell_type": "code",
   "execution_count": 23,
   "id": "06d15ec1",
   "metadata": {},
   "outputs": [],
   "source": [
    "df3 = df2.copy(deep=True)"
   ]
  },
  {
   "cell_type": "code",
   "execution_count": 24,
   "id": "9d5210b3",
   "metadata": {},
   "outputs": [
    {
     "data": {
      "text/plain": [
       "Index(['reviewer_id', 'store_address', 'latitude', 'longitude', 'City',\n",
       "       'State', 'review', 'rating', 'review_date', 'clean_reviews',\n",
       "       'tokenized_reviews', 'actual_sentiment', 'sentiment_score_SIA',\n",
       "       'sentiment_SIA', 'DistilBERT_sentiment', 'DistilBERT_score',\n",
       "       'Roberta_label', 'Roberta_score'],\n",
       "      dtype='object')"
      ]
     },
     "execution_count": 24,
     "metadata": {},
     "output_type": "execute_result"
    }
   ],
   "source": [
    "df3.columns"
   ]
  },
  {
   "cell_type": "code",
   "execution_count": 25,
   "id": "5345ceb4",
   "metadata": {},
   "outputs": [],
   "source": [
    "df3=df3[[\"reviewer_id\",\"store_address\",\"City\",\"State\",\"longitude\",\"latitude\",\"review_date\",'clean_reviews',\"review\",\"tokenized_reviews\",\"rating\",\"actual_sentiment\",\"Roberta_label\",\"Roberta_score\"]]"
   ]
  },
  {
   "cell_type": "code",
   "execution_count": 26,
   "id": "6da33458",
   "metadata": {},
   "outputs": [
    {
     "data": {
      "text/html": [
       "<div>\n",
       "<style scoped>\n",
       "    .dataframe tbody tr th:only-of-type {\n",
       "        vertical-align: middle;\n",
       "    }\n",
       "\n",
       "    .dataframe tbody tr th {\n",
       "        vertical-align: top;\n",
       "    }\n",
       "\n",
       "    .dataframe thead th {\n",
       "        text-align: right;\n",
       "    }\n",
       "</style>\n",
       "<table border=\"1\" class=\"dataframe\">\n",
       "  <thead>\n",
       "    <tr style=\"text-align: right;\">\n",
       "      <th></th>\n",
       "      <th>reviewer_id</th>\n",
       "      <th>store_address</th>\n",
       "      <th>City</th>\n",
       "      <th>State</th>\n",
       "      <th>longitude</th>\n",
       "      <th>latitude</th>\n",
       "      <th>review_date</th>\n",
       "      <th>clean_reviews</th>\n",
       "      <th>review</th>\n",
       "      <th>tokenized_reviews</th>\n",
       "      <th>rating</th>\n",
       "      <th>actual_sentiment</th>\n",
       "      <th>Roberta_label</th>\n",
       "      <th>Roberta_score</th>\n",
       "    </tr>\n",
       "  </thead>\n",
       "  <tbody>\n",
       "    <tr>\n",
       "      <th>0</th>\n",
       "      <td>1</td>\n",
       "      <td>13749 US-183 Hwy</td>\n",
       "      <td>Austin</td>\n",
       "      <td>TX</td>\n",
       "      <td>-97.792874</td>\n",
       "      <td>30.460718</td>\n",
       "      <td>2025-03-05</td>\n",
       "      <td>why does it look like someone spit on my food ...</td>\n",
       "      <td>Why does it look like someone spit on my food?...</td>\n",
       "      <td>look like someone spit food normal transaction...</td>\n",
       "      <td>1</td>\n",
       "      <td>negative</td>\n",
       "      <td>negative</td>\n",
       "      <td>0.975279</td>\n",
       "    </tr>\n",
       "    <tr>\n",
       "      <th>1</th>\n",
       "      <td>2</td>\n",
       "      <td>13749 US-183 Hwy</td>\n",
       "      <td>Austin</td>\n",
       "      <td>TX</td>\n",
       "      <td>-97.792874</td>\n",
       "      <td>30.460718</td>\n",
       "      <td>2025-05-31</td>\n",
       "      <td>itd mcdonalds it is what it is as far as the f...</td>\n",
       "      <td>It'd McDonalds. It is what it is as far as the...</td>\n",
       "      <td>itd mcdonalds far food atmosphere go staff mak...</td>\n",
       "      <td>4</td>\n",
       "      <td>positive</td>\n",
       "      <td>positive</td>\n",
       "      <td>0.973995</td>\n",
       "    </tr>\n",
       "    <tr>\n",
       "      <th>2</th>\n",
       "      <td>3</td>\n",
       "      <td>13749 US-183 Hwy</td>\n",
       "      <td>Austin</td>\n",
       "      <td>TX</td>\n",
       "      <td>-97.792874</td>\n",
       "      <td>30.460718</td>\n",
       "      <td>2025-05-31</td>\n",
       "      <td>made a mobile order got to the speaker and che...</td>\n",
       "      <td>Made a mobile order got to the speaker and che...</td>\n",
       "      <td>made mobile order got speaker checked line mov...</td>\n",
       "      <td>1</td>\n",
       "      <td>negative</td>\n",
       "      <td>negative</td>\n",
       "      <td>0.775206</td>\n",
       "    </tr>\n",
       "    <tr>\n",
       "      <th>3</th>\n",
       "      <td>4</td>\n",
       "      <td>13749 US-183 Hwy</td>\n",
       "      <td>Austin</td>\n",
       "      <td>TX</td>\n",
       "      <td>-97.792874</td>\n",
       "      <td>30.460718</td>\n",
       "      <td>2025-05-05</td>\n",
       "      <td>my mc crispy chicken sandwich was customer ser...</td>\n",
       "      <td>My mc. Crispy chicken sandwich was ..............</td>\n",
       "      <td>mc crispy chicken sandwich customer service qu...</td>\n",
       "      <td>5</td>\n",
       "      <td>positive</td>\n",
       "      <td>positive</td>\n",
       "      <td>0.901184</td>\n",
       "    </tr>\n",
       "    <tr>\n",
       "      <th>4</th>\n",
       "      <td>5</td>\n",
       "      <td>13749 US-183 Hwy</td>\n",
       "      <td>Austin</td>\n",
       "      <td>TX</td>\n",
       "      <td>-97.792874</td>\n",
       "      <td>30.460718</td>\n",
       "      <td>2025-04-05</td>\n",
       "      <td>i repeat my order times in the drive thru and ...</td>\n",
       "      <td>I repeat my order 3 times in the drive thru, a...</td>\n",
       "      <td>repeat order times drive thru still manage mes...</td>\n",
       "      <td>1</td>\n",
       "      <td>negative</td>\n",
       "      <td>negative</td>\n",
       "      <td>0.937037</td>\n",
       "    </tr>\n",
       "  </tbody>\n",
       "</table>\n",
       "</div>"
      ],
      "text/plain": [
       "   reviewer_id     store_address    City State  longitude   latitude  \\\n",
       "0            1  13749 US-183 Hwy  Austin    TX -97.792874  30.460718   \n",
       "1            2  13749 US-183 Hwy  Austin    TX -97.792874  30.460718   \n",
       "2            3  13749 US-183 Hwy  Austin    TX -97.792874  30.460718   \n",
       "3            4  13749 US-183 Hwy  Austin    TX -97.792874  30.460718   \n",
       "4            5  13749 US-183 Hwy  Austin    TX -97.792874  30.460718   \n",
       "\n",
       "  review_date                                      clean_reviews  \\\n",
       "0  2025-03-05  why does it look like someone spit on my food ...   \n",
       "1  2025-05-31  itd mcdonalds it is what it is as far as the f...   \n",
       "2  2025-05-31  made a mobile order got to the speaker and che...   \n",
       "3  2025-05-05  my mc crispy chicken sandwich was customer ser...   \n",
       "4  2025-04-05  i repeat my order times in the drive thru and ...   \n",
       "\n",
       "                                              review  \\\n",
       "0  Why does it look like someone spit on my food?...   \n",
       "1  It'd McDonalds. It is what it is as far as the...   \n",
       "2  Made a mobile order got to the speaker and che...   \n",
       "3  My mc. Crispy chicken sandwich was ..............   \n",
       "4  I repeat my order 3 times in the drive thru, a...   \n",
       "\n",
       "                                   tokenized_reviews  rating actual_sentiment  \\\n",
       "0  look like someone spit food normal transaction...       1         negative   \n",
       "1  itd mcdonalds far food atmosphere go staff mak...       4         positive   \n",
       "2  made mobile order got speaker checked line mov...       1         negative   \n",
       "3  mc crispy chicken sandwich customer service qu...       5         positive   \n",
       "4  repeat order times drive thru still manage mes...       1         negative   \n",
       "\n",
       "  Roberta_label  Roberta_score  \n",
       "0      negative       0.975279  \n",
       "1      positive       0.973995  \n",
       "2      negative       0.775206  \n",
       "3      positive       0.901184  \n",
       "4      negative       0.937037  "
      ]
     },
     "execution_count": 26,
     "metadata": {},
     "output_type": "execute_result"
    }
   ],
   "source": [
    "df3.head()"
   ]
  },
  {
   "cell_type": "code",
   "execution_count": 27,
   "id": "a89e0509",
   "metadata": {},
   "outputs": [],
   "source": [
    "df3.to_csv(\"data/data_with_best_model_sentiment_analysis.csv\")"
   ]
  },
  {
   "cell_type": "code",
   "execution_count": null,
   "id": "9f23f69c",
   "metadata": {},
   "outputs": [],
   "source": []
  }
 ],
 "metadata": {
  "kernelspec": {
   "display_name": "myenv",
   "language": "python",
   "name": "python3"
  },
  "language_info": {
   "codemirror_mode": {
    "name": "ipython",
    "version": 3
   },
   "file_extension": ".py",
   "mimetype": "text/x-python",
   "name": "python",
   "nbconvert_exporter": "python",
   "pygments_lexer": "ipython3",
   "version": "3.10.13"
  }
 },
 "nbformat": 4,
 "nbformat_minor": 5
}
