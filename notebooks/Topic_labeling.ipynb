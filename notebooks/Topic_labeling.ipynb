{
 "cells": [
  {
   "cell_type": "code",
   "execution_count": 2,
   "id": "564a3711",
   "metadata": {},
   "outputs": [
    {
     "name": "stdout",
     "output_type": "stream",
     "text": [
      "Collecting sentence_transformers\n",
      "  Downloading sentence_transformers-4.1.0-py3-none-any.whl.metadata (13 kB)\n",
      "Requirement already satisfied: transformers<5.0.0,>=4.41.0 in c:\\users\\myriam\\anaconda3\\envs\\myenv\\lib\\site-packages (from sentence_transformers) (4.50.3)\n",
      "Requirement already satisfied: tqdm in c:\\users\\myriam\\anaconda3\\envs\\myenv\\lib\\site-packages (from sentence_transformers) (4.67.1)\n",
      "Requirement already satisfied: torch>=1.11.0 in c:\\users\\myriam\\anaconda3\\envs\\myenv\\lib\\site-packages (from sentence_transformers) (2.6.0)\n",
      "Requirement already satisfied: scikit-learn in c:\\users\\myriam\\anaconda3\\envs\\myenv\\lib\\site-packages (from sentence_transformers) (1.6.1)\n",
      "Requirement already satisfied: scipy in c:\\users\\myriam\\anaconda3\\envs\\myenv\\lib\\site-packages (from sentence_transformers) (1.15.1)\n",
      "Requirement already satisfied: huggingface-hub>=0.20.0 in c:\\users\\myriam\\anaconda3\\envs\\myenv\\lib\\site-packages (from sentence_transformers) (0.30.1)\n",
      "Requirement already satisfied: Pillow in c:\\users\\myriam\\anaconda3\\envs\\myenv\\lib\\site-packages (from sentence_transformers) (11.1.0)\n",
      "Requirement already satisfied: typing_extensions>=4.5.0 in c:\\users\\myriam\\anaconda3\\envs\\myenv\\lib\\site-packages (from sentence_transformers) (4.12.2)\n",
      "Requirement already satisfied: filelock in c:\\users\\myriam\\anaconda3\\envs\\myenv\\lib\\site-packages (from huggingface-hub>=0.20.0->sentence_transformers) (3.18.0)\n",
      "Requirement already satisfied: fsspec>=2023.5.0 in c:\\users\\myriam\\anaconda3\\envs\\myenv\\lib\\site-packages (from huggingface-hub>=0.20.0->sentence_transformers) (2024.12.0)\n",
      "Requirement already satisfied: packaging>=20.9 in c:\\users\\myriam\\anaconda3\\envs\\myenv\\lib\\site-packages (from huggingface-hub>=0.20.0->sentence_transformers) (24.2)\n",
      "Requirement already satisfied: pyyaml>=5.1 in c:\\users\\myriam\\anaconda3\\envs\\myenv\\lib\\site-packages (from huggingface-hub>=0.20.0->sentence_transformers) (6.0.2)\n",
      "Requirement already satisfied: requests in c:\\users\\myriam\\anaconda3\\envs\\myenv\\lib\\site-packages (from huggingface-hub>=0.20.0->sentence_transformers) (2.32.3)\n",
      "Requirement already satisfied: networkx in c:\\users\\myriam\\anaconda3\\envs\\myenv\\lib\\site-packages (from torch>=1.11.0->sentence_transformers) (3.4.2)\n",
      "Requirement already satisfied: jinja2 in c:\\users\\myriam\\anaconda3\\envs\\myenv\\lib\\site-packages (from torch>=1.11.0->sentence_transformers) (3.1.6)\n",
      "Requirement already satisfied: sympy==1.13.1 in c:\\users\\myriam\\anaconda3\\envs\\myenv\\lib\\site-packages (from torch>=1.11.0->sentence_transformers) (1.13.1)\n",
      "Requirement already satisfied: mpmath<1.4,>=1.1.0 in c:\\users\\myriam\\anaconda3\\envs\\myenv\\lib\\site-packages (from sympy==1.13.1->torch>=1.11.0->sentence_transformers) (1.3.0)\n",
      "Requirement already satisfied: colorama in c:\\users\\myriam\\anaconda3\\envs\\myenv\\lib\\site-packages (from tqdm->sentence_transformers) (0.4.6)\n",
      "Requirement already satisfied: numpy>=1.17 in c:\\users\\myriam\\anaconda3\\envs\\myenv\\lib\\site-packages (from transformers<5.0.0,>=4.41.0->sentence_transformers) (1.26.4)\n",
      "Requirement already satisfied: regex!=2019.12.17 in c:\\users\\myriam\\anaconda3\\envs\\myenv\\lib\\site-packages (from transformers<5.0.0,>=4.41.0->sentence_transformers) (2024.11.6)\n",
      "Requirement already satisfied: tokenizers<0.22,>=0.21 in c:\\users\\myriam\\anaconda3\\envs\\myenv\\lib\\site-packages (from transformers<5.0.0,>=4.41.0->sentence_transformers) (0.21.1)\n",
      "Requirement already satisfied: safetensors>=0.4.3 in c:\\users\\myriam\\anaconda3\\envs\\myenv\\lib\\site-packages (from transformers<5.0.0,>=4.41.0->sentence_transformers) (0.5.3)\n",
      "Requirement already satisfied: joblib>=1.2.0 in c:\\users\\myriam\\anaconda3\\envs\\myenv\\lib\\site-packages (from scikit-learn->sentence_transformers) (1.4.2)\n",
      "Requirement already satisfied: threadpoolctl>=3.1.0 in c:\\users\\myriam\\anaconda3\\envs\\myenv\\lib\\site-packages (from scikit-learn->sentence_transformers) (3.5.0)\n",
      "Requirement already satisfied: MarkupSafe>=2.0 in c:\\users\\myriam\\anaconda3\\envs\\myenv\\lib\\site-packages (from jinja2->torch>=1.11.0->sentence_transformers) (3.0.2)\n",
      "Requirement already satisfied: charset-normalizer<4,>=2 in c:\\users\\myriam\\anaconda3\\envs\\myenv\\lib\\site-packages (from requests->huggingface-hub>=0.20.0->sentence_transformers) (3.3.2)\n",
      "Requirement already satisfied: idna<4,>=2.5 in c:\\users\\myriam\\anaconda3\\envs\\myenv\\lib\\site-packages (from requests->huggingface-hub>=0.20.0->sentence_transformers) (3.7)\n",
      "Requirement already satisfied: urllib3<3,>=1.21.1 in c:\\users\\myriam\\anaconda3\\envs\\myenv\\lib\\site-packages (from requests->huggingface-hub>=0.20.0->sentence_transformers) (2.3.0)\n",
      "Requirement already satisfied: certifi>=2017.4.17 in c:\\users\\myriam\\anaconda3\\envs\\myenv\\lib\\site-packages (from requests->huggingface-hub>=0.20.0->sentence_transformers) (2025.1.31)\n",
      "Downloading sentence_transformers-4.1.0-py3-none-any.whl (345 kB)\n",
      "Installing collected packages: sentence_transformers\n",
      "Successfully installed sentence_transformers-4.1.0\n"
     ]
    }
   ],
   "source": [
    "!pip install sentence_transformers"
   ]
  },
  {
   "cell_type": "code",
   "execution_count": 3,
   "id": "7Xwa4oI8m-SP",
   "metadata": {
    "executionInfo": {
     "elapsed": 21,
     "status": "ok",
     "timestamp": 1744741751190,
     "user": {
      "displayName": "myriam Goyet",
      "userId": "00728654997239869789"
     },
     "user_tz": -120
    },
    "id": "7Xwa4oI8m-SP"
   },
   "outputs": [],
   "source": [
    "import pandas as pd\n",
    "import numpy as np\n",
    "from sentence_transformers import SentenceTransformer\n",
    "from numpy.linalg import norm"
   ]
  },
  {
   "cell_type": "code",
   "execution_count": 99,
   "id": "ks0WwqWkm-OB",
   "metadata": {
    "colab": {
     "base_uri": "https://localhost:8080/"
    },
    "executionInfo": {
     "elapsed": 2797,
     "status": "ok",
     "timestamp": 1744747369482,
     "user": {
      "displayName": "myriam Goyet",
      "userId": "00728654997239869789"
     },
     "user_tz": -120
    },
    "id": "ks0WwqWkm-OB",
    "outputId": "5c97702d-abcf-4046-d3dc-abba73c4e013"
   },
   "outputs": [
    {
     "name": "stdout",
     "output_type": "stream",
     "text": [
      "Mounted at /content/drive\n",
      "data_avec_labels.csv\t\t\t     model_roberta_results.csv.csv\n",
      "data_with_best_model_sentiment_analysis.csv  roberta_results.csv\n",
      "model_roberta_results.csv\n"
     ]
    }
   ],
   "source": [
    "from google.colab import drive\n",
    "\n",
    "# Monter Google Drive\n",
    "drive.mount(\"/content/drive\", force_remount=True)\n",
    "!ls '/content/drive/My Drive/Colab Notebooks/Jedha/Projet/data/'\n",
    "path = \"/content/drive/My Drive/Colab Notebooks/Jedha/Projet/data/data_with_best_model_sentiment_analysis.csv\""
   ]
  },
  {
   "cell_type": "code",
   "execution_count": 4,
   "id": "5f21634f",
   "metadata": {},
   "outputs": [],
   "source": [
    "path = \"data/data_with_best_model_sentiment_analysis.csv\""
   ]
  },
  {
   "cell_type": "code",
   "execution_count": 5,
   "id": "ME48JUCknNL2",
   "metadata": {
    "executionInfo": {
     "elapsed": 840,
     "status": "ok",
     "timestamp": 1744747372740,
     "user": {
      "displayName": "myriam Goyet",
      "userId": "00728654997239869789"
     },
     "user_tz": -120
    },
    "id": "ME48JUCknNL2"
   },
   "outputs": [],
   "source": [
    "df = pd.read_csv(path, encoding='latin-1')"
   ]
  },
  {
   "cell_type": "code",
   "execution_count": 6,
   "id": "asxX6ux5gIW9",
   "metadata": {
    "colab": {
     "base_uri": "https://localhost:8080/"
    },
    "executionInfo": {
     "elapsed": 34,
     "status": "ok",
     "timestamp": 1744747373170,
     "user": {
      "displayName": "myriam Goyet",
      "userId": "00728654997239869789"
     },
     "user_tz": -120
    },
    "id": "asxX6ux5gIW9",
    "outputId": "76eee1df-cca8-4669-e1d4-901112702f75"
   },
   "outputs": [
    {
     "data": {
      "text/plain": [
       "Index(['Unnamed: 0', 'reviewer_id', 'store_address', 'City', 'State',\n",
       "       'longitude', 'latitude', 'review_date', 'review', 'clean_reviews',\n",
       "       'tokenized_reviews', 'rating', 'actual_sentiment', 'Roberta_label',\n",
       "       'Roberta_score'],\n",
       "      dtype='object')"
      ]
     },
     "execution_count": 6,
     "metadata": {},
     "output_type": "execute_result"
    }
   ],
   "source": [
    "df.columns"
   ]
  },
  {
   "cell_type": "code",
   "execution_count": 7,
   "id": "dbO-7Qc02P0f",
   "metadata": {
    "colab": {
     "base_uri": "https://localhost:8080/",
     "height": 782
    },
    "executionInfo": {
     "elapsed": 603,
     "status": "ok",
     "timestamp": 1744747378120,
     "user": {
      "displayName": "myriam Goyet",
      "userId": "00728654997239869789"
     },
     "user_tz": -120
    },
    "id": "dbO-7Qc02P0f",
    "outputId": "7c097361-e092-4dbe-e671-e863353e6fcc"
   },
   "outputs": [
    {
     "data": {
      "text/html": [
       "<div>\n",
       "<style scoped>\n",
       "    .dataframe tbody tr th:only-of-type {\n",
       "        vertical-align: middle;\n",
       "    }\n",
       "\n",
       "    .dataframe tbody tr th {\n",
       "        vertical-align: top;\n",
       "    }\n",
       "\n",
       "    .dataframe thead th {\n",
       "        text-align: right;\n",
       "    }\n",
       "</style>\n",
       "<table border=\"1\" class=\"dataframe\">\n",
       "  <thead>\n",
       "    <tr style=\"text-align: right;\">\n",
       "      <th></th>\n",
       "      <th>Unnamed: 0</th>\n",
       "      <th>reviewer_id</th>\n",
       "      <th>store_address</th>\n",
       "      <th>City</th>\n",
       "      <th>State</th>\n",
       "      <th>longitude</th>\n",
       "      <th>latitude</th>\n",
       "      <th>review_date</th>\n",
       "      <th>review</th>\n",
       "      <th>clean_reviews</th>\n",
       "      <th>tokenized_reviews</th>\n",
       "      <th>rating</th>\n",
       "      <th>actual_sentiment</th>\n",
       "      <th>Roberta_label</th>\n",
       "      <th>Roberta_score</th>\n",
       "    </tr>\n",
       "  </thead>\n",
       "  <tbody>\n",
       "    <tr>\n",
       "      <th>0</th>\n",
       "      <td>0</td>\n",
       "      <td>1</td>\n",
       "      <td>13749 US-183 Hwy</td>\n",
       "      <td>Austin</td>\n",
       "      <td>TX</td>\n",
       "      <td>-97.792874</td>\n",
       "      <td>30.460718</td>\n",
       "      <td>2025-01-15</td>\n",
       "      <td>Why does it look like someone spit on my food?...</td>\n",
       "      <td>why does it look like someone spit on my food ...</td>\n",
       "      <td>look like someone spit food normal transaction...</td>\n",
       "      <td>1</td>\n",
       "      <td>negative</td>\n",
       "      <td>negative</td>\n",
       "      <td>0.975279</td>\n",
       "    </tr>\n",
       "    <tr>\n",
       "      <th>1</th>\n",
       "      <td>1</td>\n",
       "      <td>2</td>\n",
       "      <td>13749 US-183 Hwy</td>\n",
       "      <td>Austin</td>\n",
       "      <td>TX</td>\n",
       "      <td>-97.792874</td>\n",
       "      <td>30.460718</td>\n",
       "      <td>2025-04-10</td>\n",
       "      <td>It'd McDonalds. It is what it is as far as the...</td>\n",
       "      <td>itd mcdonalds it is what it is as far as the f...</td>\n",
       "      <td>itd mcdonalds far food atmosphere go staff mak...</td>\n",
       "      <td>4</td>\n",
       "      <td>positive</td>\n",
       "      <td>positive</td>\n",
       "      <td>0.973995</td>\n",
       "    </tr>\n",
       "    <tr>\n",
       "      <th>2</th>\n",
       "      <td>2</td>\n",
       "      <td>3</td>\n",
       "      <td>13749 US-183 Hwy</td>\n",
       "      <td>Austin</td>\n",
       "      <td>TX</td>\n",
       "      <td>-97.792874</td>\n",
       "      <td>30.460718</td>\n",
       "      <td>2025-04-10</td>\n",
       "      <td>Made a mobile order got to the speaker and che...</td>\n",
       "      <td>made a mobile order got to the speaker and che...</td>\n",
       "      <td>made mobile order got speaker checked line mov...</td>\n",
       "      <td>1</td>\n",
       "      <td>negative</td>\n",
       "      <td>negative</td>\n",
       "      <td>0.775206</td>\n",
       "    </tr>\n",
       "    <tr>\n",
       "      <th>3</th>\n",
       "      <td>3</td>\n",
       "      <td>4</td>\n",
       "      <td>13749 US-183 Hwy</td>\n",
       "      <td>Austin</td>\n",
       "      <td>TX</td>\n",
       "      <td>-97.792874</td>\n",
       "      <td>30.460718</td>\n",
       "      <td>2025-03-15</td>\n",
       "      <td>My mc. Crispy chicken sandwich was ..............</td>\n",
       "      <td>my mc crispy chicken sandwich was customer ser...</td>\n",
       "      <td>mc crispy chicken sandwich customer service qu...</td>\n",
       "      <td>5</td>\n",
       "      <td>positive</td>\n",
       "      <td>positive</td>\n",
       "      <td>0.901184</td>\n",
       "    </tr>\n",
       "    <tr>\n",
       "      <th>4</th>\n",
       "      <td>4</td>\n",
       "      <td>5</td>\n",
       "      <td>13749 US-183 Hwy</td>\n",
       "      <td>Austin</td>\n",
       "      <td>TX</td>\n",
       "      <td>-97.792874</td>\n",
       "      <td>30.460718</td>\n",
       "      <td>2025-02-15</td>\n",
       "      <td>I repeat my order 3 times in the drive thru, a...</td>\n",
       "      <td>i repeat my order times in the drive thru and ...</td>\n",
       "      <td>repeat order times drive thru still manage mes...</td>\n",
       "      <td>1</td>\n",
       "      <td>negative</td>\n",
       "      <td>negative</td>\n",
       "      <td>0.937037</td>\n",
       "    </tr>\n",
       "  </tbody>\n",
       "</table>\n",
       "</div>"
      ],
      "text/plain": [
       "   Unnamed: 0  reviewer_id     store_address    City State  longitude  \\\n",
       "0           0            1  13749 US-183 Hwy  Austin    TX -97.792874   \n",
       "1           1            2  13749 US-183 Hwy  Austin    TX -97.792874   \n",
       "2           2            3  13749 US-183 Hwy  Austin    TX -97.792874   \n",
       "3           3            4  13749 US-183 Hwy  Austin    TX -97.792874   \n",
       "4           4            5  13749 US-183 Hwy  Austin    TX -97.792874   \n",
       "\n",
       "    latitude review_date                                             review  \\\n",
       "0  30.460718  2025-01-15  Why does it look like someone spit on my food?...   \n",
       "1  30.460718  2025-04-10  It'd McDonalds. It is what it is as far as the...   \n",
       "2  30.460718  2025-04-10  Made a mobile order got to the speaker and che...   \n",
       "3  30.460718  2025-03-15  My mc. Crispy chicken sandwich was ..............   \n",
       "4  30.460718  2025-02-15  I repeat my order 3 times in the drive thru, a...   \n",
       "\n",
       "                                       clean_reviews  \\\n",
       "0  why does it look like someone spit on my food ...   \n",
       "1  itd mcdonalds it is what it is as far as the f...   \n",
       "2  made a mobile order got to the speaker and che...   \n",
       "3  my mc crispy chicken sandwich was customer ser...   \n",
       "4  i repeat my order times in the drive thru and ...   \n",
       "\n",
       "                                   tokenized_reviews  rating actual_sentiment  \\\n",
       "0  look like someone spit food normal transaction...       1         negative   \n",
       "1  itd mcdonalds far food atmosphere go staff mak...       4         positive   \n",
       "2  made mobile order got speaker checked line mov...       1         negative   \n",
       "3  mc crispy chicken sandwich customer service qu...       5         positive   \n",
       "4  repeat order times drive thru still manage mes...       1         negative   \n",
       "\n",
       "  Roberta_label  Roberta_score  \n",
       "0      negative       0.975279  \n",
       "1      positive       0.973995  \n",
       "2      negative       0.775206  \n",
       "3      positive       0.901184  \n",
       "4      negative       0.937037  "
      ]
     },
     "execution_count": 7,
     "metadata": {},
     "output_type": "execute_result"
    }
   ],
   "source": [
    "df.head()"
   ]
  },
  {
   "cell_type": "code",
   "execution_count": 8,
   "id": "uC5bfLd_x58A",
   "metadata": {
    "colab": {
     "base_uri": "https://localhost:8080/"
    },
    "executionInfo": {
     "elapsed": 33,
     "status": "ok",
     "timestamp": 1744747378607,
     "user": {
      "displayName": "myriam Goyet",
      "userId": "00728654997239869789"
     },
     "user_tz": -120
    },
    "id": "uC5bfLd_x58A",
    "outputId": "eab5b6e0-4a16-458f-e433-3df95a10b796"
   },
   "outputs": [
    {
     "name": "stdout",
     "output_type": "stream",
     "text": [
      "longeure moyenne : 143.1391011235955\n",
      "longeure mediane : 82.0\n",
      "longeure max : 3114\n",
      "longeure min : 1\n"
     ]
    }
   ],
   "source": [
    "#pour vérifier que la limite de token du model est suffisante\n",
    "print(\"longeure moyenne :\" , df['review'].apply(len).mean())\n",
    "print(\"longeure mediane :\" , df['review'].apply(len).median())\n",
    "print(\"longeure max :\" , df['review'].apply(len).max())\n",
    "print(\"longeure min :\" , df['review'].apply(len).min())"
   ]
  },
  {
   "cell_type": "markdown",
   "id": "oxzCtvpY6FfR",
   "metadata": {
    "id": "oxzCtvpY6FfR"
   },
   "source": [
    "# Embedding des labels"
   ]
  },
  {
   "cell_type": "code",
   "execution_count": 9,
   "id": "zTsO6CaFuSkY",
   "metadata": {
    "executionInfo": {
     "elapsed": 12,
     "status": "ok",
     "timestamp": 1744747381362,
     "user": {
      "displayName": "myriam Goyet",
      "userId": "00728654997239869789"
     },
     "user_tz": -120
    },
    "id": "zTsO6CaFuSkY"
   },
   "outputs": [],
   "source": [
    "first_liste_from_llm = [\"Customer Service\", \"Service\", \"service\",\"service_experience\",\"Service Quality\",\"Service Refusal\",\n",
    " \"Staff Behavior\", \"Staffing\",\"Staff Attitude\",\"Manager_Interaction\",\"Staff Friendliness\",\"Staff_Behavior\",\"Management\",\"Behavior\",\n",
    " \"Food Quality\", \"Food_Quality\",\"food_quality\",\n",
    " \"Operating Hours\", \"Closing Time\",\n",
    "  \"Order Accuracy\",\"Order_Accuracy\",\"Order Resolution\",\"Order\",\"Order Issue\",\"wrong_order\",\n",
    " \"Location\", \"Location Size\",\"Decor\",\n",
    " \"Dining Experience\",\"General Experience\",\"general_experience\",\"satisfaction\", \"Overall Experience\",\"overall_experience\",\"experience\",\n",
    " \"Cleanliness\",\"cleanliness\",\n",
    " \"Refund_Policy\",\n",
    " \"Recommendation\",\n",
    " \"Drive-thru experience\",\"drive_through_experience\",\n",
    " \"Safety Concerns\",\"Security\",\n",
    " \"Advice\",\n",
    " \"Receipt Issue\",\n",
    " \"Menu Options\",\"Dissatisfaction with menu\",\"Menu_Options\",\n",
    " \"Customer Loyalty\",\"app_rewards\",\n",
    " \"Product Consistency\",\n",
    " \"Language Barrier\",\n",
    " \"Long Wait Time\",\"Wait_Time\",\"Service Speed\",\"wait_time\",\"service_speed\",\"Speed\",\"slow_service\",\n",
    " \"Left Without Ordering\",\n",
    " \"Product Availability\",\n",
    " \"convenience\",\n",
    " \"Affordability\",\n",
    "\"Busyness\",\n",
    " \"Request\",\n",
    " \"Atmosphere\",\n",
    " \"Rating\",\n",
    " ]\n"
   ]
  },
  {
   "cell_type": "code",
   "execution_count": 10,
   "id": "wChJdciJ0S0R",
   "metadata": {
    "executionInfo": {
     "elapsed": 5,
     "status": "ok",
     "timestamp": 1744747383089,
     "user": {
      "displayName": "myriam Goyet",
      "userId": "00728654997239869789"
     },
     "user_tz": -120
    },
    "id": "wChJdciJ0S0R"
   },
   "outputs": [],
   "source": [
    "labels=[\n",
    "  'customer service', 'service', 'service_experience', 'service quality', 'service refusal',\n",
    "  'staff behavior', 'staffing', 'staff attitude', 'manager_interaction', 'staff friendliness', 'staff_behavior', 'management', 'behavior',\n",
    "  'food quality', 'food_quality', 'product consistency',\n",
    "  'operating hours', 'closing time',\n",
    "  'order accuracy', 'order_accuracy', 'order resolution', 'order', 'order issue', 'wrong_order',\n",
    "  'location', 'location size', 'decor','atmosphere',\n",
    "  'dining experience', 'general experience', 'general_experience', 'satisfaction', 'overall experience', 'overall_experience', 'experience',\n",
    "  'cleanliness',\n",
    "  'refund_policy',\n",
    "  'recommendation',\n",
    "  'drive-thru experience', 'drive_through_experience',\n",
    "  'safety concerns', 'security',\n",
    "  'advice',\n",
    "  'receipt issue',\n",
    "  'menu options', 'dissatisfaction with menu', 'menu_options',\n",
    "  'customer loyalty', 'app_rewards',\n",
    "  'language barrier',\n",
    "  'long wait time', 'wait_time', 'service speed', 'service_speed', 'speed', 'slow_service',\n",
    "  'left without ordering',\n",
    "  'product availability',\n",
    "  'convenience',\n",
    "  'affordability',\n",
    "  'busyness',\n",
    "  'request',\n",
    " ]\n"
   ]
  },
  {
   "cell_type": "code",
   "execution_count": 11,
   "id": "mTIvvMlu6EXD",
   "metadata": {
    "executionInfo": {
     "elapsed": 1333,
     "status": "ok",
     "timestamp": 1744747386514,
     "user": {
      "displayName": "myriam Goyet",
      "userId": "00728654997239869789"
     },
     "user_tz": -120
    },
    "id": "mTIvvMlu6EXD"
   },
   "outputs": [
    {
     "data": {
      "application/vnd.jupyter.widget-view+json": {
       "model_id": "de0a4b9487e74fdf8ec50d0d77e6422b",
       "version_major": 2,
       "version_minor": 0
      },
      "text/plain": [
       "modules.json:   0%|          | 0.00/349 [00:00<?, ?B/s]"
      ]
     },
     "metadata": {},
     "output_type": "display_data"
    },
    {
     "name": "stderr",
     "output_type": "stream",
     "text": [
      "c:\\Users\\Myriam\\anaconda3\\envs\\myenv\\lib\\site-packages\\huggingface_hub\\file_download.py:144: UserWarning: `huggingface_hub` cache-system uses symlinks by default to efficiently store duplicated files but your machine does not support them in C:\\Users\\Myriam\\.cache\\huggingface\\hub\\models--sentence-transformers--all-MiniLM-L6-v2. Caching files will still work but in a degraded version that might require more space on your disk. This warning can be disabled by setting the `HF_HUB_DISABLE_SYMLINKS_WARNING` environment variable. For more details, see https://huggingface.co/docs/huggingface_hub/how-to-cache#limitations.\n",
      "To support symlinks on Windows, you either need to activate Developer Mode or to run Python as an administrator. In order to activate developer mode, see this article: https://docs.microsoft.com/en-us/windows/apps/get-started/enable-your-device-for-development\n",
      "  warnings.warn(message)\n"
     ]
    },
    {
     "data": {
      "application/vnd.jupyter.widget-view+json": {
       "model_id": "1c0283f6149149beb833d3c037e8f71a",
       "version_major": 2,
       "version_minor": 0
      },
      "text/plain": [
       "config_sentence_transformers.json:   0%|          | 0.00/116 [00:00<?, ?B/s]"
      ]
     },
     "metadata": {},
     "output_type": "display_data"
    },
    {
     "data": {
      "application/vnd.jupyter.widget-view+json": {
       "model_id": "e3a7c13ce13949a2bed1822eca9363d1",
       "version_major": 2,
       "version_minor": 0
      },
      "text/plain": [
       "README.md:   0%|          | 0.00/10.5k [00:00<?, ?B/s]"
      ]
     },
     "metadata": {},
     "output_type": "display_data"
    },
    {
     "data": {
      "application/vnd.jupyter.widget-view+json": {
       "model_id": "1e141dc935c5416b91a8c97aba55e63a",
       "version_major": 2,
       "version_minor": 0
      },
      "text/plain": [
       "sentence_bert_config.json:   0%|          | 0.00/53.0 [00:00<?, ?B/s]"
      ]
     },
     "metadata": {},
     "output_type": "display_data"
    },
    {
     "data": {
      "application/vnd.jupyter.widget-view+json": {
       "model_id": "f698250e731f4807a62a25002603b4b8",
       "version_major": 2,
       "version_minor": 0
      },
      "text/plain": [
       "config.json:   0%|          | 0.00/612 [00:00<?, ?B/s]"
      ]
     },
     "metadata": {},
     "output_type": "display_data"
    },
    {
     "name": "stderr",
     "output_type": "stream",
     "text": [
      "Xet Storage is enabled for this repo, but the 'hf_xet' package is not installed. Falling back to regular HTTP download. For better performance, install the package with: `pip install huggingface_hub[hf_xet]` or `pip install hf_xet`\n"
     ]
    },
    {
     "data": {
      "application/vnd.jupyter.widget-view+json": {
       "model_id": "47a9652f70a3402fa3e968deee8b339e",
       "version_major": 2,
       "version_minor": 0
      },
      "text/plain": [
       "model.safetensors:   0%|          | 0.00/90.9M [00:00<?, ?B/s]"
      ]
     },
     "metadata": {},
     "output_type": "display_data"
    },
    {
     "data": {
      "application/vnd.jupyter.widget-view+json": {
       "model_id": "370bfcc443454926a1e4e152a89d9fdc",
       "version_major": 2,
       "version_minor": 0
      },
      "text/plain": [
       "tokenizer_config.json:   0%|          | 0.00/350 [00:00<?, ?B/s]"
      ]
     },
     "metadata": {},
     "output_type": "display_data"
    },
    {
     "data": {
      "application/vnd.jupyter.widget-view+json": {
       "model_id": "4d5704c0935c4e868f7ac579885de6d8",
       "version_major": 2,
       "version_minor": 0
      },
      "text/plain": [
       "vocab.txt:   0%|          | 0.00/232k [00:00<?, ?B/s]"
      ]
     },
     "metadata": {},
     "output_type": "display_data"
    },
    {
     "data": {
      "application/vnd.jupyter.widget-view+json": {
       "model_id": "c8186258f38d4f0692ada4bbda2dd7e0",
       "version_major": 2,
       "version_minor": 0
      },
      "text/plain": [
       "tokenizer.json:   0%|          | 0.00/466k [00:00<?, ?B/s]"
      ]
     },
     "metadata": {},
     "output_type": "display_data"
    },
    {
     "data": {
      "application/vnd.jupyter.widget-view+json": {
       "model_id": "232b9e14107f4fa79199622ac2608966",
       "version_major": 2,
       "version_minor": 0
      },
      "text/plain": [
       "special_tokens_map.json:   0%|          | 0.00/112 [00:00<?, ?B/s]"
      ]
     },
     "metadata": {},
     "output_type": "display_data"
    },
    {
     "data": {
      "application/vnd.jupyter.widget-view+json": {
       "model_id": "7b8cb6d6b648436ea96c403ad8ed7dbb",
       "version_major": 2,
       "version_minor": 0
      },
      "text/plain": [
       "config.json:   0%|          | 0.00/190 [00:00<?, ?B/s]"
      ]
     },
     "metadata": {},
     "output_type": "display_data"
    }
   ],
   "source": [
    "model = SentenceTransformer('sentence-transformers/all-MiniLM-L6-v2') #embeding à 384 dimentions, max token = 256\n",
    "labels_embedded = model.encode(labels)"
   ]
  },
  {
   "cell_type": "code",
   "execution_count": 12,
   "id": "EzNpEqEo6B5B",
   "metadata": {
    "executionInfo": {
     "elapsed": 7,
     "status": "ok",
     "timestamp": 1744747388872,
     "user": {
      "displayName": "myriam Goyet",
      "userId": "00728654997239869789"
     },
     "user_tz": -120
    },
    "id": "EzNpEqEo6B5B"
   },
   "outputs": [],
   "source": [
    "# Group definitions\n",
    "label_groups = {\n",
    "    \"customer service\": ['customer service', 'service', 'service_experience', 'service quality', 'service refusal'],\n",
    "    \"staff\": ['staff behavior', 'staffing', 'staff attitude', 'manager_interaction', 'staff friendliness', 'staff_behavior', 'management', 'behavior'],\n",
    "    \"food quality\": ['food quality', 'food_quality', 'product consistency'],\n",
    "    \"operating hours\": ['operating hours', 'closing time'],\n",
    "    \"order accuracy\": ['order accuracy', 'order_accuracy', 'order resolution', 'order', 'order issue', 'wrong_order'],\n",
    "    \"location\": ['location', 'location size', 'decor', 'atmosphere'],\n",
    "    \"general experience\": ['dining experience', 'general experience', 'general_experience', 'satisfaction', 'overall experience', 'overall_experience', 'experience'],\n",
    "    \"cleanliness\": ['cleanliness'],\n",
    "    \"refund_policy\": ['refund_policy'],\n",
    "    \"recommendation\": ['recommendation'],\n",
    "    \"drive-thru experience\": ['drive-thru experience', 'drive_through_experience'],\n",
    "    \"security\": ['safety concerns', 'security'],\n",
    "    \"advice\": ['advice'],\n",
    "    \"receipt issue\": ['receipt issue'],\n",
    "    \"menu\": ['menu options', 'dissatisfaction with menu', 'menu_options'],\n",
    "    \"customer loyalty\": ['customer loyalty', 'app_rewards'],\n",
    "    \"language barrier\": ['language barrier'],\n",
    "    \"waiting time\": ['long wait time', 'wait_time', 'service speed', 'service_speed', 'speed', 'slow_service'],\n",
    "    \"left without ordering\": ['left without ordering'],\n",
    "    \"product availability\": ['product availability'],\n",
    "    \"convenience\": ['convenience'],\n",
    "    \"affordability\": ['affordability'],\n",
    "    \"busyness\": ['busyness'],\n",
    "    \"request\": ['request'],\n",
    "}\n",
    "\n",
    "# Inverse mapping: label -> group\n",
    "label_to_group = {}\n",
    "for group, group_labels in label_groups.items():\n",
    "    for label in group_labels:\n",
    "        label_to_group[label] = group\n"
   ]
  },
  {
   "cell_type": "code",
   "execution_count": 13,
   "id": "mcc8FLFv8xen",
   "metadata": {
    "colab": {
     "base_uri": "https://localhost:8080/"
    },
    "executionInfo": {
     "elapsed": 19,
     "status": "ok",
     "timestamp": 1744747391357,
     "user": {
      "displayName": "myriam Goyet",
      "userId": "00728654997239869789"
     },
     "user_tz": -120
    },
    "id": "mcc8FLFv8xen",
    "outputId": "6c74926a-f6c7-41aa-c8c7-82269b6c1036"
   },
   "outputs": [
    {
     "data": {
      "text/plain": [
       "24"
      ]
     },
     "execution_count": 13,
     "metadata": {},
     "output_type": "execute_result"
    }
   ],
   "source": [
    "len(label_groups)"
   ]
  },
  {
   "cell_type": "markdown",
   "id": "ynxw-JGHi4me",
   "metadata": {
    "id": "ynxw-JGHi4me"
   },
   "source": [
    "# test du l'embedin et dot product sur un seul restaurant"
   ]
  },
  {
   "cell_type": "code",
   "execution_count": 14,
   "id": "2uL6sa0ztv-g",
   "metadata": {
    "colab": {
     "base_uri": "https://localhost:8080/",
     "height": 35
    },
    "executionInfo": {
     "elapsed": 19,
     "status": "ok",
     "timestamp": 1744747395001,
     "user": {
      "displayName": "myriam Goyet",
      "userId": "00728654997239869789"
     },
     "user_tz": -120
    },
    "id": "2uL6sa0ztv-g",
    "outputId": "5085c2ae-a0c2-4e84-f72c-fc3c1d128276"
   },
   "outputs": [
    {
     "data": {
      "text/plain": [
       "'13749 US-183 Hwy'"
      ]
     },
     "execution_count": 14,
     "metadata": {},
     "output_type": "execute_result"
    }
   ],
   "source": [
    "df[\"store_address\"][0]"
   ]
  },
  {
   "cell_type": "code",
   "execution_count": 15,
   "id": "37MSVhaIu8gR",
   "metadata": {
    "colab": {
     "base_uri": "https://localhost:8080/"
    },
    "executionInfo": {
     "elapsed": 18,
     "status": "ok",
     "timestamp": 1744747543346,
     "user": {
      "displayName": "myriam Goyet",
      "userId": "00728654997239869789"
     },
     "user_tz": -120
    },
    "id": "37MSVhaIu8gR",
    "outputId": "c2c083a2-f302-4192-a4b6-38c434b4139c"
   },
   "outputs": [
    {
     "data": {
      "text/plain": [
       "(583, 15)"
      ]
     },
     "execution_count": 15,
     "metadata": {},
     "output_type": "execute_result"
    }
   ],
   "source": [
    "#selection du premier restaurant\n",
    "df_1restaurant = df[df[\"store_address\"]==\"13749 US-183 Hwy\"]\n",
    "df_1restaurant.shape"
   ]
  },
  {
   "cell_type": "code",
   "execution_count": 16,
   "id": "lh1cfI5sw_vl",
   "metadata": {
    "colab": {
     "base_uri": "https://localhost:8080/"
    },
    "executionInfo": {
     "elapsed": 7615,
     "status": "ok",
     "timestamp": 1744747641775,
     "user": {
      "displayName": "myriam Goyet",
      "userId": "00728654997239869789"
     },
     "user_tz": -120
    },
    "id": "lh1cfI5sw_vl",
    "outputId": "0a868ae8-be32-432f-a279-8fcd89d7bfa9"
   },
   "outputs": [
    {
     "name": "stderr",
     "output_type": "stream",
     "text": [
      "C:\\Users\\Myriam\\AppData\\Local\\Temp\\ipykernel_9864\\2751898637.py:3: SettingWithCopyWarning: \n",
      "A value is trying to be set on a copy of a slice from a DataFrame.\n",
      "Try using .loc[row_indexer,col_indexer] = value instead\n",
      "\n",
      "See the caveats in the documentation: https://pandas.pydata.org/pandas-docs/stable/user_guide/indexing.html#returning-a-view-versus-a-copy\n",
      "  df_1restaurant['review_embedded'] = reviews_embedded.tolist()\n"
     ]
    }
   ],
   "source": [
    "model = SentenceTransformer('sentence-transformers/all-MiniLM-L6-v2') #embeding à 384 dimentions, max token = 256\n",
    "reviews_embedded = model.encode(df_1restaurant[\"tokenized_reviews\"])\n",
    "df_1restaurant['review_embedded'] = reviews_embedded.tolist()"
   ]
  },
  {
   "cell_type": "code",
   "execution_count": 17,
   "id": "l-j3QzEoJHJe",
   "metadata": {
    "colab": {
     "base_uri": "https://localhost:8080/"
    },
    "executionInfo": {
     "elapsed": 48,
     "status": "ok",
     "timestamp": 1744747643090,
     "user": {
      "displayName": "myriam Goyet",
      "userId": "00728654997239869789"
     },
     "user_tz": -120
    },
    "id": "l-j3QzEoJHJe",
    "outputId": "6c4546c1-46bf-4ceb-84e6-4be7bd769fa2"
   },
   "outputs": [
    {
     "data": {
      "text/plain": [
       "(583,)"
      ]
     },
     "execution_count": 17,
     "metadata": {},
     "output_type": "execute_result"
    }
   ],
   "source": [
    "df_1restaurant[\"review_embedded\"].shape"
   ]
  },
  {
   "cell_type": "code",
   "execution_count": 18,
   "id": "nfPgSANotZfk",
   "metadata": {
    "colab": {
     "base_uri": "https://localhost:8080/",
     "height": 241
    },
    "executionInfo": {
     "elapsed": 45,
     "status": "ok",
     "timestamp": 1744747644195,
     "user": {
      "displayName": "myriam Goyet",
      "userId": "00728654997239869789"
     },
     "user_tz": -120
    },
    "id": "nfPgSANotZfk",
    "outputId": "f2b87255-1cf8-4616-c43c-7198b6ad4d03"
   },
   "outputs": [
    {
     "data": {
      "text/plain": [
       "0    [-0.008658831007778645, -0.06432923674583435, ...\n",
       "1    [-0.0052186050452291965, -0.0366365946829319, ...\n",
       "2    [-0.07434768229722977, 0.02320007234811783, 0....\n",
       "3    [-0.07665494829416275, -0.05378516763448715, 0...\n",
       "4    [0.05535503849387169, -0.06459932029247284, 0....\n",
       "Name: review_embedded, dtype: object"
      ]
     },
     "execution_count": 18,
     "metadata": {},
     "output_type": "execute_result"
    }
   ],
   "source": [
    "df_1restaurant['review_embedded'].head()"
   ]
  },
  {
   "cell_type": "code",
   "execution_count": 19,
   "id": "59zYEvvT6PiU",
   "metadata": {
    "executionInfo": {
     "elapsed": 1075,
     "status": "ok",
     "timestamp": 1744747646866,
     "user": {
      "displayName": "myriam Goyet",
      "userId": "00728654997239869789"
     },
     "user_tz": -120
    },
    "id": "59zYEvvT6PiU"
   },
   "outputs": [],
   "source": [
    "from collections import defaultdict\n",
    "import numpy as np\n",
    "from numpy.linalg import norm\n",
    "\n",
    "# Prepare list of list of tuples: top 5 (group, score) per review\n",
    "top_group_scores = []\n",
    "\n",
    "for review in reviews_embedded:\n",
    "    group_scores = defaultdict(list)\n",
    "\n",
    "    for i, label in enumerate(labels):\n",
    "        group = label_to_group.get(label, label)\n",
    "        score = np.dot(review, labels_embedded[i]) / (norm(review) * norm(labels_embedded[i]))\n",
    "        group_scores[group].append(score)\n",
    "\n",
    "    # For each group, keep the highest score\n",
    "    group_max_scores = [(group, max(scores)) for group, scores in group_scores.items()]\n",
    "    group_max_scores.sort(key=lambda x: x[1], reverse=True)\n",
    "\n",
    "    # Only top 5 tuples\n",
    "    top_group_scores.append(group_max_scores[:5])\n"
   ]
  },
  {
   "cell_type": "code",
   "execution_count": 20,
   "id": "pRUca3y86gav",
   "metadata": {
    "colab": {
     "base_uri": "https://localhost:8080/"
    },
    "executionInfo": {
     "elapsed": 18,
     "status": "ok",
     "timestamp": 1744747646896,
     "user": {
      "displayName": "myriam Goyet",
      "userId": "00728654997239869789"
     },
     "user_tz": -120
    },
    "id": "pRUca3y86gav",
    "outputId": "dbdfc43f-b642-47ce-8ce4-4ec25a5b234d"
   },
   "outputs": [
    {
     "name": "stderr",
     "output_type": "stream",
     "text": [
      "C:\\Users\\Myriam\\AppData\\Local\\Temp\\ipykernel_9864\\1034889075.py:3: SettingWithCopyWarning: \n",
      "A value is trying to be set on a copy of a slice from a DataFrame.\n",
      "Try using .loc[row_indexer,col_indexer] = value instead\n",
      "\n",
      "See the caveats in the documentation: https://pandas.pydata.org/pandas-docs/stable/user_guide/indexing.html#returning-a-view-versus-a-copy\n",
      "  df_1restaurant[f\"top_{i+1}\"] = [\n",
      "C:\\Users\\Myriam\\AppData\\Local\\Temp\\ipykernel_9864\\1034889075.py:3: SettingWithCopyWarning: \n",
      "A value is trying to be set on a copy of a slice from a DataFrame.\n",
      "Try using .loc[row_indexer,col_indexer] = value instead\n",
      "\n",
      "See the caveats in the documentation: https://pandas.pydata.org/pandas-docs/stable/user_guide/indexing.html#returning-a-view-versus-a-copy\n",
      "  df_1restaurant[f\"top_{i+1}\"] = [\n",
      "C:\\Users\\Myriam\\AppData\\Local\\Temp\\ipykernel_9864\\1034889075.py:3: SettingWithCopyWarning: \n",
      "A value is trying to be set on a copy of a slice from a DataFrame.\n",
      "Try using .loc[row_indexer,col_indexer] = value instead\n",
      "\n",
      "See the caveats in the documentation: https://pandas.pydata.org/pandas-docs/stable/user_guide/indexing.html#returning-a-view-versus-a-copy\n",
      "  df_1restaurant[f\"top_{i+1}\"] = [\n",
      "C:\\Users\\Myriam\\AppData\\Local\\Temp\\ipykernel_9864\\1034889075.py:3: SettingWithCopyWarning: \n",
      "A value is trying to be set on a copy of a slice from a DataFrame.\n",
      "Try using .loc[row_indexer,col_indexer] = value instead\n",
      "\n",
      "See the caveats in the documentation: https://pandas.pydata.org/pandas-docs/stable/user_guide/indexing.html#returning-a-view-versus-a-copy\n",
      "  df_1restaurant[f\"top_{i+1}\"] = [\n",
      "C:\\Users\\Myriam\\AppData\\Local\\Temp\\ipykernel_9864\\1034889075.py:3: SettingWithCopyWarning: \n",
      "A value is trying to be set on a copy of a slice from a DataFrame.\n",
      "Try using .loc[row_indexer,col_indexer] = value instead\n",
      "\n",
      "See the caveats in the documentation: https://pandas.pydata.org/pandas-docs/stable/user_guide/indexing.html#returning-a-view-versus-a-copy\n",
      "  df_1restaurant[f\"top_{i+1}\"] = [\n"
     ]
    }
   ],
   "source": [
    "# Assign each top tuple to its own column\n",
    "for i in range(5):\n",
    "    df_1restaurant[f\"top_{i+1}\"] = [\n",
    "        group_scores[i] if i < len(group_scores) else (None, None)\n",
    "        for group_scores in top_group_scores\n",
    "    ]\n"
   ]
  },
  {
   "cell_type": "code",
   "execution_count": 21,
   "id": "TnJHKsGj7fQr",
   "metadata": {
    "colab": {
     "base_uri": "https://localhost:8080/",
     "height": 811
    },
    "executionInfo": {
     "elapsed": 84,
     "status": "ok",
     "timestamp": 1744747648169,
     "user": {
      "displayName": "myriam Goyet",
      "userId": "00728654997239869789"
     },
     "user_tz": -120
    },
    "id": "TnJHKsGj7fQr",
    "outputId": "e531dd97-430f-4d71-826f-2876a5851816"
   },
   "outputs": [
    {
     "data": {
      "text/html": [
       "<div>\n",
       "<style scoped>\n",
       "    .dataframe tbody tr th:only-of-type {\n",
       "        vertical-align: middle;\n",
       "    }\n",
       "\n",
       "    .dataframe tbody tr th {\n",
       "        vertical-align: top;\n",
       "    }\n",
       "\n",
       "    .dataframe thead th {\n",
       "        text-align: right;\n",
       "    }\n",
       "</style>\n",
       "<table border=\"1\" class=\"dataframe\">\n",
       "  <thead>\n",
       "    <tr style=\"text-align: right;\">\n",
       "      <th></th>\n",
       "      <th>Unnamed: 0</th>\n",
       "      <th>reviewer_id</th>\n",
       "      <th>store_address</th>\n",
       "      <th>City</th>\n",
       "      <th>State</th>\n",
       "      <th>longitude</th>\n",
       "      <th>latitude</th>\n",
       "      <th>review_date</th>\n",
       "      <th>review</th>\n",
       "      <th>clean_reviews</th>\n",
       "      <th>...</th>\n",
       "      <th>rating</th>\n",
       "      <th>actual_sentiment</th>\n",
       "      <th>Roberta_label</th>\n",
       "      <th>Roberta_score</th>\n",
       "      <th>review_embedded</th>\n",
       "      <th>top_1</th>\n",
       "      <th>top_2</th>\n",
       "      <th>top_3</th>\n",
       "      <th>top_4</th>\n",
       "      <th>top_5</th>\n",
       "    </tr>\n",
       "  </thead>\n",
       "  <tbody>\n",
       "    <tr>\n",
       "      <th>0</th>\n",
       "      <td>0</td>\n",
       "      <td>1</td>\n",
       "      <td>13749 US-183 Hwy</td>\n",
       "      <td>Austin</td>\n",
       "      <td>TX</td>\n",
       "      <td>-97.792874</td>\n",
       "      <td>30.460718</td>\n",
       "      <td>2025-01-15</td>\n",
       "      <td>Why does it look like someone spit on my food?...</td>\n",
       "      <td>why does it look like someone spit on my food ...</td>\n",
       "      <td>...</td>\n",
       "      <td>1</td>\n",
       "      <td>negative</td>\n",
       "      <td>negative</td>\n",
       "      <td>0.975279</td>\n",
       "      <td>[-0.008658831007778645, -0.06432923674583435, ...</td>\n",
       "      <td>(food quality, 0.31562415)</td>\n",
       "      <td>(cleanliness, 0.27512175)</td>\n",
       "      <td>(general experience, 0.23939148)</td>\n",
       "      <td>(staff, 0.23229383)</td>\n",
       "      <td>(busyness, 0.19266687)</td>\n",
       "    </tr>\n",
       "    <tr>\n",
       "      <th>1</th>\n",
       "      <td>1</td>\n",
       "      <td>2</td>\n",
       "      <td>13749 US-183 Hwy</td>\n",
       "      <td>Austin</td>\n",
       "      <td>TX</td>\n",
       "      <td>-97.792874</td>\n",
       "      <td>30.460718</td>\n",
       "      <td>2025-04-10</td>\n",
       "      <td>It'd McDonalds. It is what it is as far as the...</td>\n",
       "      <td>itd mcdonalds it is what it is as far as the f...</td>\n",
       "      <td>...</td>\n",
       "      <td>4</td>\n",
       "      <td>positive</td>\n",
       "      <td>positive</td>\n",
       "      <td>0.973995</td>\n",
       "      <td>[-0.0052186050452291965, -0.0366365946829319, ...</td>\n",
       "      <td>(general experience, 0.50233704)</td>\n",
       "      <td>(food quality, 0.4219886)</td>\n",
       "      <td>(staff, 0.4207175)</td>\n",
       "      <td>(customer service, 0.35618725)</td>\n",
       "      <td>(customer loyalty, 0.3340216)</td>\n",
       "    </tr>\n",
       "    <tr>\n",
       "      <th>2</th>\n",
       "      <td>2</td>\n",
       "      <td>3</td>\n",
       "      <td>13749 US-183 Hwy</td>\n",
       "      <td>Austin</td>\n",
       "      <td>TX</td>\n",
       "      <td>-97.792874</td>\n",
       "      <td>30.460718</td>\n",
       "      <td>2025-04-10</td>\n",
       "      <td>Made a mobile order got to the speaker and che...</td>\n",
       "      <td>made a mobile order got to the speaker and che...</td>\n",
       "      <td>...</td>\n",
       "      <td>1</td>\n",
       "      <td>negative</td>\n",
       "      <td>negative</td>\n",
       "      <td>0.775206</td>\n",
       "      <td>[-0.07434768229722977, 0.02320007234811783, 0....</td>\n",
       "      <td>(customer service, 0.4463125)</td>\n",
       "      <td>(order accuracy, 0.43302265)</td>\n",
       "      <td>(refund_policy, 0.3828023)</td>\n",
       "      <td>(receipt issue, 0.3628762)</td>\n",
       "      <td>(staff, 0.2736548)</td>\n",
       "    </tr>\n",
       "    <tr>\n",
       "      <th>3</th>\n",
       "      <td>3</td>\n",
       "      <td>4</td>\n",
       "      <td>13749 US-183 Hwy</td>\n",
       "      <td>Austin</td>\n",
       "      <td>TX</td>\n",
       "      <td>-97.792874</td>\n",
       "      <td>30.460718</td>\n",
       "      <td>2025-03-15</td>\n",
       "      <td>My mc. Crispy chicken sandwich was ..............</td>\n",
       "      <td>my mc crispy chicken sandwich was customer ser...</td>\n",
       "      <td>...</td>\n",
       "      <td>5</td>\n",
       "      <td>positive</td>\n",
       "      <td>positive</td>\n",
       "      <td>0.901184</td>\n",
       "      <td>[-0.07665494829416275, -0.05378516763448715, 0...</td>\n",
       "      <td>(customer service, 0.39361772)</td>\n",
       "      <td>(food quality, 0.39207894)</td>\n",
       "      <td>(customer loyalty, 0.29757112)</td>\n",
       "      <td>(general experience, 0.2721585)</td>\n",
       "      <td>(order accuracy, 0.26110744)</td>\n",
       "    </tr>\n",
       "    <tr>\n",
       "      <th>4</th>\n",
       "      <td>4</td>\n",
       "      <td>5</td>\n",
       "      <td>13749 US-183 Hwy</td>\n",
       "      <td>Austin</td>\n",
       "      <td>TX</td>\n",
       "      <td>-97.792874</td>\n",
       "      <td>30.460718</td>\n",
       "      <td>2025-02-15</td>\n",
       "      <td>I repeat my order 3 times in the drive thru, a...</td>\n",
       "      <td>i repeat my order times in the drive thru and ...</td>\n",
       "      <td>...</td>\n",
       "      <td>1</td>\n",
       "      <td>negative</td>\n",
       "      <td>negative</td>\n",
       "      <td>0.937037</td>\n",
       "      <td>[0.05535503849387169, -0.06459932029247284, 0....</td>\n",
       "      <td>(order accuracy, 0.4382611)</td>\n",
       "      <td>(drive-thru experience, 0.41875172)</td>\n",
       "      <td>(general experience, 0.33675212)</td>\n",
       "      <td>(food quality, 0.29102874)</td>\n",
       "      <td>(busyness, 0.2879883)</td>\n",
       "    </tr>\n",
       "  </tbody>\n",
       "</table>\n",
       "<p>5 rows × 21 columns</p>\n",
       "</div>"
      ],
      "text/plain": [
       "   Unnamed: 0  reviewer_id     store_address    City State  longitude  \\\n",
       "0           0            1  13749 US-183 Hwy  Austin    TX -97.792874   \n",
       "1           1            2  13749 US-183 Hwy  Austin    TX -97.792874   \n",
       "2           2            3  13749 US-183 Hwy  Austin    TX -97.792874   \n",
       "3           3            4  13749 US-183 Hwy  Austin    TX -97.792874   \n",
       "4           4            5  13749 US-183 Hwy  Austin    TX -97.792874   \n",
       "\n",
       "    latitude review_date                                             review  \\\n",
       "0  30.460718  2025-01-15  Why does it look like someone spit on my food?...   \n",
       "1  30.460718  2025-04-10  It'd McDonalds. It is what it is as far as the...   \n",
       "2  30.460718  2025-04-10  Made a mobile order got to the speaker and che...   \n",
       "3  30.460718  2025-03-15  My mc. Crispy chicken sandwich was ..............   \n",
       "4  30.460718  2025-02-15  I repeat my order 3 times in the drive thru, a...   \n",
       "\n",
       "                                       clean_reviews  ... rating  \\\n",
       "0  why does it look like someone spit on my food ...  ...      1   \n",
       "1  itd mcdonalds it is what it is as far as the f...  ...      4   \n",
       "2  made a mobile order got to the speaker and che...  ...      1   \n",
       "3  my mc crispy chicken sandwich was customer ser...  ...      5   \n",
       "4  i repeat my order times in the drive thru and ...  ...      1   \n",
       "\n",
       "   actual_sentiment Roberta_label Roberta_score  \\\n",
       "0          negative      negative      0.975279   \n",
       "1          positive      positive      0.973995   \n",
       "2          negative      negative      0.775206   \n",
       "3          positive      positive      0.901184   \n",
       "4          negative      negative      0.937037   \n",
       "\n",
       "                                     review_embedded  \\\n",
       "0  [-0.008658831007778645, -0.06432923674583435, ...   \n",
       "1  [-0.0052186050452291965, -0.0366365946829319, ...   \n",
       "2  [-0.07434768229722977, 0.02320007234811783, 0....   \n",
       "3  [-0.07665494829416275, -0.05378516763448715, 0...   \n",
       "4  [0.05535503849387169, -0.06459932029247284, 0....   \n",
       "\n",
       "                              top_1                                top_2  \\\n",
       "0        (food quality, 0.31562415)            (cleanliness, 0.27512175)   \n",
       "1  (general experience, 0.50233704)            (food quality, 0.4219886)   \n",
       "2     (customer service, 0.4463125)         (order accuracy, 0.43302265)   \n",
       "3    (customer service, 0.39361772)           (food quality, 0.39207894)   \n",
       "4       (order accuracy, 0.4382611)  (drive-thru experience, 0.41875172)   \n",
       "\n",
       "                              top_3                            top_4  \\\n",
       "0  (general experience, 0.23939148)              (staff, 0.23229383)   \n",
       "1                (staff, 0.4207175)   (customer service, 0.35618725)   \n",
       "2        (refund_policy, 0.3828023)       (receipt issue, 0.3628762)   \n",
       "3    (customer loyalty, 0.29757112)  (general experience, 0.2721585)   \n",
       "4  (general experience, 0.33675212)       (food quality, 0.29102874)   \n",
       "\n",
       "                           top_5  \n",
       "0         (busyness, 0.19266687)  \n",
       "1  (customer loyalty, 0.3340216)  \n",
       "2             (staff, 0.2736548)  \n",
       "3   (order accuracy, 0.26110744)  \n",
       "4          (busyness, 0.2879883)  \n",
       "\n",
       "[5 rows x 21 columns]"
      ]
     },
     "execution_count": 21,
     "metadata": {},
     "output_type": "execute_result"
    }
   ],
   "source": [
    "df_1restaurant.head()"
   ]
  },
  {
   "cell_type": "code",
   "execution_count": 22,
   "id": "kn2I5orz903W",
   "metadata": {
    "executionInfo": {
     "elapsed": 50,
     "status": "ok",
     "timestamp": 1744747719460,
     "user": {
      "displayName": "myriam Goyet",
      "userId": "00728654997239869789"
     },
     "user_tz": -120
    },
    "id": "kn2I5orz903W"
   },
   "outputs": [],
   "source": [
    "# List of all unique group labels\n",
    "all_group_labels = list(set(label_to_group.values()))\n",
    "\n",
    "# This will be a list of dicts, one per review\n",
    "group_score_dicts = []\n",
    "\n",
    "for review in reviews_embedded:\n",
    "    group_scores = defaultdict(list)\n",
    "\n",
    "    for i, label in enumerate(labels):\n",
    "        group = label_to_group.get(label, label)\n",
    "        score = np.dot(review, labels_embedded[i]) / (norm(review) * norm(labels_embedded[i]))\n",
    "        group_scores[group].append(score)\n",
    "\n",
    "    # Take max score per group\n",
    "    group_max_scores = {group: max(scores) for group, scores in group_scores.items()}\n",
    "    group_score_dicts.append(group_max_scores)\n"
   ]
  },
  {
   "cell_type": "code",
   "execution_count": 23,
   "id": "xKN9kfY096ug",
   "metadata": {
    "executionInfo": {
     "elapsed": 6,
     "status": "ok",
     "timestamp": 1744747719515,
     "user": {
      "displayName": "myriam Goyet",
      "userId": "00728654997239869789"
     },
     "user_tz": -120
    },
    "id": "xKN9kfY096ug"
   },
   "outputs": [],
   "source": [
    "# Convert list of dicts to DataFrame (each group becomes a column)\n",
    "group_scores_df = pd.DataFrame(group_score_dicts)\n",
    "\n",
    "# Merge into your main DataFrame\n",
    "df_1restaurant = pd.concat([df_1restaurant.reset_index(drop=True), group_scores_df], axis=1)\n"
   ]
  },
  {
   "cell_type": "code",
   "execution_count": 24,
   "id": "SjFxmbrn-MZZ",
   "metadata": {
    "colab": {
     "base_uri": "https://localhost:8080/"
    },
    "executionInfo": {
     "elapsed": 19,
     "status": "ok",
     "timestamp": 1744747720620,
     "user": {
      "displayName": "myriam Goyet",
      "userId": "00728654997239869789"
     },
     "user_tz": -120
    },
    "id": "SjFxmbrn-MZZ",
    "outputId": "d84fa3ee-267c-4faf-bea4-7081abd5b5da"
   },
   "outputs": [
    {
     "data": {
      "text/plain": [
       "Index(['Unnamed: 0', 'reviewer_id', 'store_address', 'City', 'State',\n",
       "       'longitude', 'latitude', 'review_date', 'review', 'clean_reviews',\n",
       "       'tokenized_reviews', 'rating', 'actual_sentiment', 'Roberta_label',\n",
       "       'Roberta_score', 'review_embedded', 'top_1', 'top_2', 'top_3', 'top_4',\n",
       "       'top_5', 'customer service', 'staff', 'food quality', 'operating hours',\n",
       "       'order accuracy', 'location', 'general experience', 'cleanliness',\n",
       "       'refund_policy', 'recommendation', 'drive-thru experience', 'security',\n",
       "       'advice', 'receipt issue', 'menu', 'customer loyalty',\n",
       "       'language barrier', 'waiting time', 'left without ordering',\n",
       "       'product availability', 'convenience', 'affordability', 'busyness',\n",
       "       'request'],\n",
       "      dtype='object')"
      ]
     },
     "execution_count": 24,
     "metadata": {},
     "output_type": "execute_result"
    }
   ],
   "source": [
    "df_1restaurant.columns"
   ]
  },
  {
   "cell_type": "code",
   "execution_count": 25,
   "id": "JHUdE9NA-BmN",
   "metadata": {
    "executionInfo": {
     "elapsed": 8,
     "status": "ok",
     "timestamp": 1744747722429,
     "user": {
      "displayName": "myriam Goyet",
      "userId": "00728654997239869789"
     },
     "user_tz": -120
    },
    "id": "JHUdE9NA-BmN"
   },
   "outputs": [],
   "source": [
    "df_1restaurant= df_1restaurant[['reviewer_id', 'store_address', 'City', 'State',\n",
    "       'longitude', 'latitude', 'review_date', 'review', 'clean_reviews',\n",
    "       'tokenized_reviews', 'rating',\n",
    "       'actual_sentiment', 'Roberta_label', 'Roberta_score',\n",
    "       'top_1', 'top_2', 'top_3', 'top_4', 'top_5', 'customer service',\n",
    "       'staff', 'food quality', 'operating hours', 'order accuracy',\n",
    "       'location', 'general experience', 'cleanliness', 'refund_policy',\n",
    "       'recommendation', 'drive-thru experience', 'security', 'advice',\n",
    "       'receipt issue', 'menu', 'customer loyalty', 'language barrier',\n",
    "       'waiting time', 'left without ordering', 'product availability',\n",
    "       'convenience', 'affordability', 'busyness', 'request']]"
   ]
  },
  {
   "cell_type": "code",
   "execution_count": 26,
   "id": "N3OXuuwcAf1_",
   "metadata": {
    "colab": {
     "base_uri": "https://localhost:8080/",
     "height": 464
    },
    "executionInfo": {
     "elapsed": 16,
     "status": "ok",
     "timestamp": 1744747723551,
     "user": {
      "displayName": "myriam Goyet",
      "userId": "00728654997239869789"
     },
     "user_tz": -120
    },
    "id": "N3OXuuwcAf1_",
    "outputId": "f7970e65-8440-44a0-9a10-f486dd72debb"
   },
   "outputs": [
    {
     "data": {
      "text/html": [
       "<div>\n",
       "<style scoped>\n",
       "    .dataframe tbody tr th:only-of-type {\n",
       "        vertical-align: middle;\n",
       "    }\n",
       "\n",
       "    .dataframe tbody tr th {\n",
       "        vertical-align: top;\n",
       "    }\n",
       "\n",
       "    .dataframe thead th {\n",
       "        text-align: right;\n",
       "    }\n",
       "</style>\n",
       "<table border=\"1\" class=\"dataframe\">\n",
       "  <thead>\n",
       "    <tr style=\"text-align: right;\">\n",
       "      <th></th>\n",
       "      <th>review</th>\n",
       "      <th>actual_sentiment</th>\n",
       "      <th>Roberta_label</th>\n",
       "      <th>top_1</th>\n",
       "      <th>top_2</th>\n",
       "      <th>top_3</th>\n",
       "      <th>top_4</th>\n",
       "      <th>top_5</th>\n",
       "      <th>customer service</th>\n",
       "      <th>staff</th>\n",
       "      <th>...</th>\n",
       "      <th>menu</th>\n",
       "      <th>customer loyalty</th>\n",
       "      <th>language barrier</th>\n",
       "      <th>waiting time</th>\n",
       "      <th>left without ordering</th>\n",
       "      <th>product availability</th>\n",
       "      <th>convenience</th>\n",
       "      <th>affordability</th>\n",
       "      <th>busyness</th>\n",
       "      <th>request</th>\n",
       "    </tr>\n",
       "  </thead>\n",
       "  <tbody>\n",
       "    <tr>\n",
       "      <th>0</th>\n",
       "      <td>Why does it look like someone spit on my food?...</td>\n",
       "      <td>negative</td>\n",
       "      <td>negative</td>\n",
       "      <td>(food quality, 0.31562415)</td>\n",
       "      <td>(cleanliness, 0.27512175)</td>\n",
       "      <td>(general experience, 0.23939148)</td>\n",
       "      <td>(staff, 0.23229383)</td>\n",
       "      <td>(busyness, 0.19266687)</td>\n",
       "      <td>0.155685</td>\n",
       "      <td>0.232294</td>\n",
       "      <td>...</td>\n",
       "      <td>0.158993</td>\n",
       "      <td>0.074503</td>\n",
       "      <td>0.112069</td>\n",
       "      <td>0.141913</td>\n",
       "      <td>0.139210</td>\n",
       "      <td>0.112632</td>\n",
       "      <td>0.095136</td>\n",
       "      <td>0.010976</td>\n",
       "      <td>0.192667</td>\n",
       "      <td>0.132173</td>\n",
       "    </tr>\n",
       "    <tr>\n",
       "      <th>1</th>\n",
       "      <td>It'd McDonalds. It is what it is as far as the...</td>\n",
       "      <td>positive</td>\n",
       "      <td>positive</td>\n",
       "      <td>(general experience, 0.50233704)</td>\n",
       "      <td>(food quality, 0.4219886)</td>\n",
       "      <td>(staff, 0.4207175)</td>\n",
       "      <td>(customer service, 0.35618725)</td>\n",
       "      <td>(customer loyalty, 0.3340216)</td>\n",
       "      <td>0.356187</td>\n",
       "      <td>0.420718</td>\n",
       "      <td>...</td>\n",
       "      <td>0.233368</td>\n",
       "      <td>0.334022</td>\n",
       "      <td>0.090067</td>\n",
       "      <td>0.185619</td>\n",
       "      <td>0.071344</td>\n",
       "      <td>0.103034</td>\n",
       "      <td>0.268924</td>\n",
       "      <td>0.173768</td>\n",
       "      <td>0.214261</td>\n",
       "      <td>-0.001474</td>\n",
       "    </tr>\n",
       "    <tr>\n",
       "      <th>2</th>\n",
       "      <td>Made a mobile order got to the speaker and che...</td>\n",
       "      <td>negative</td>\n",
       "      <td>negative</td>\n",
       "      <td>(customer service, 0.4463125)</td>\n",
       "      <td>(order accuracy, 0.43302265)</td>\n",
       "      <td>(refund_policy, 0.3828023)</td>\n",
       "      <td>(receipt issue, 0.3628762)</td>\n",
       "      <td>(staff, 0.2736548)</td>\n",
       "      <td>0.446312</td>\n",
       "      <td>0.273655</td>\n",
       "      <td>...</td>\n",
       "      <td>0.194078</td>\n",
       "      <td>0.263592</td>\n",
       "      <td>0.146208</td>\n",
       "      <td>0.235918</td>\n",
       "      <td>0.259681</td>\n",
       "      <td>0.184906</td>\n",
       "      <td>0.142167</td>\n",
       "      <td>0.091285</td>\n",
       "      <td>0.226593</td>\n",
       "      <td>0.101869</td>\n",
       "    </tr>\n",
       "    <tr>\n",
       "      <th>3</th>\n",
       "      <td>My mc. Crispy chicken sandwich was ..............</td>\n",
       "      <td>positive</td>\n",
       "      <td>positive</td>\n",
       "      <td>(customer service, 0.39361772)</td>\n",
       "      <td>(food quality, 0.39207894)</td>\n",
       "      <td>(customer loyalty, 0.29757112)</td>\n",
       "      <td>(general experience, 0.2721585)</td>\n",
       "      <td>(order accuracy, 0.26110744)</td>\n",
       "      <td>0.393618</td>\n",
       "      <td>0.216679</td>\n",
       "      <td>...</td>\n",
       "      <td>0.202433</td>\n",
       "      <td>0.297571</td>\n",
       "      <td>-0.000655</td>\n",
       "      <td>0.221744</td>\n",
       "      <td>0.139198</td>\n",
       "      <td>0.162949</td>\n",
       "      <td>0.133394</td>\n",
       "      <td>0.095757</td>\n",
       "      <td>0.143017</td>\n",
       "      <td>0.158758</td>\n",
       "    </tr>\n",
       "    <tr>\n",
       "      <th>4</th>\n",
       "      <td>I repeat my order 3 times in the drive thru, a...</td>\n",
       "      <td>negative</td>\n",
       "      <td>negative</td>\n",
       "      <td>(order accuracy, 0.4382611)</td>\n",
       "      <td>(drive-thru experience, 0.41875172)</td>\n",
       "      <td>(general experience, 0.33675212)</td>\n",
       "      <td>(food quality, 0.29102874)</td>\n",
       "      <td>(busyness, 0.2879883)</td>\n",
       "      <td>0.258598</td>\n",
       "      <td>0.262975</td>\n",
       "      <td>...</td>\n",
       "      <td>0.277522</td>\n",
       "      <td>0.119351</td>\n",
       "      <td>0.226186</td>\n",
       "      <td>0.234919</td>\n",
       "      <td>0.234002</td>\n",
       "      <td>0.115486</td>\n",
       "      <td>0.218603</td>\n",
       "      <td>0.180055</td>\n",
       "      <td>0.287988</td>\n",
       "      <td>0.026835</td>\n",
       "    </tr>\n",
       "  </tbody>\n",
       "</table>\n",
       "<p>5 rows × 32 columns</p>\n",
       "</div>"
      ],
      "text/plain": [
       "                                              review actual_sentiment  \\\n",
       "0  Why does it look like someone spit on my food?...         negative   \n",
       "1  It'd McDonalds. It is what it is as far as the...         positive   \n",
       "2  Made a mobile order got to the speaker and che...         negative   \n",
       "3  My mc. Crispy chicken sandwich was ..............         positive   \n",
       "4  I repeat my order 3 times in the drive thru, a...         negative   \n",
       "\n",
       "  Roberta_label                             top_1  \\\n",
       "0      negative        (food quality, 0.31562415)   \n",
       "1      positive  (general experience, 0.50233704)   \n",
       "2      negative     (customer service, 0.4463125)   \n",
       "3      positive    (customer service, 0.39361772)   \n",
       "4      negative       (order accuracy, 0.4382611)   \n",
       "\n",
       "                                 top_2                             top_3  \\\n",
       "0            (cleanliness, 0.27512175)  (general experience, 0.23939148)   \n",
       "1            (food quality, 0.4219886)                (staff, 0.4207175)   \n",
       "2         (order accuracy, 0.43302265)        (refund_policy, 0.3828023)   \n",
       "3           (food quality, 0.39207894)    (customer loyalty, 0.29757112)   \n",
       "4  (drive-thru experience, 0.41875172)  (general experience, 0.33675212)   \n",
       "\n",
       "                             top_4                          top_5  \\\n",
       "0              (staff, 0.23229383)         (busyness, 0.19266687)   \n",
       "1   (customer service, 0.35618725)  (customer loyalty, 0.3340216)   \n",
       "2       (receipt issue, 0.3628762)             (staff, 0.2736548)   \n",
       "3  (general experience, 0.2721585)   (order accuracy, 0.26110744)   \n",
       "4       (food quality, 0.29102874)          (busyness, 0.2879883)   \n",
       "\n",
       "   customer service     staff  ...      menu  customer loyalty  \\\n",
       "0          0.155685  0.232294  ...  0.158993          0.074503   \n",
       "1          0.356187  0.420718  ...  0.233368          0.334022   \n",
       "2          0.446312  0.273655  ...  0.194078          0.263592   \n",
       "3          0.393618  0.216679  ...  0.202433          0.297571   \n",
       "4          0.258598  0.262975  ...  0.277522          0.119351   \n",
       "\n",
       "   language barrier  waiting time  left without ordering  \\\n",
       "0          0.112069      0.141913               0.139210   \n",
       "1          0.090067      0.185619               0.071344   \n",
       "2          0.146208      0.235918               0.259681   \n",
       "3         -0.000655      0.221744               0.139198   \n",
       "4          0.226186      0.234919               0.234002   \n",
       "\n",
       "   product availability  convenience  affordability  busyness   request  \n",
       "0              0.112632     0.095136       0.010976  0.192667  0.132173  \n",
       "1              0.103034     0.268924       0.173768  0.214261 -0.001474  \n",
       "2              0.184906     0.142167       0.091285  0.226593  0.101869  \n",
       "3              0.162949     0.133394       0.095757  0.143017  0.158758  \n",
       "4              0.115486     0.218603       0.180055  0.287988  0.026835  \n",
       "\n",
       "[5 rows x 32 columns]"
      ]
     },
     "execution_count": 26,
     "metadata": {},
     "output_type": "execute_result"
    }
   ],
   "source": [
    "df_1restaurant[['review',\n",
    "       'actual_sentiment', 'Roberta_label',\n",
    "       'top_1', 'top_2', 'top_3', 'top_4', 'top_5', 'customer service',\n",
    "       'staff', 'food quality', 'operating hours', 'order accuracy',\n",
    "       'location', 'general experience', 'cleanliness', 'refund_policy',\n",
    "       'recommendation', 'drive-thru experience', 'security', 'advice',\n",
    "       'receipt issue', 'menu', 'customer loyalty', 'language barrier',\n",
    "       'waiting time', 'left without ordering', 'product availability',\n",
    "       'convenience', 'affordability', 'busyness', 'request']].head()"
   ]
  },
  {
   "cell_type": "code",
   "execution_count": 27,
   "id": "dl3rGNFmUFig",
   "metadata": {
    "id": "dl3rGNFmUFig"
   },
   "outputs": [
    {
     "data": {
      "text/plain": [
       "'\\nlabels = [\\n    \\'hygiene\\', \\'food quality\\', \\'food\\', \\'staff\\', \\'something is missing\\',\\n    \\'location\\', \\'speed of service\\', \\'drive-thru\\', \\'temperature of the food\\',\\n    \\'atmosphere\\', \\'customer service\\', \"temperature\" , \"price\", \"speed\", \"quality\", \"courtesy\",\\n]\\n'"
      ]
     },
     "execution_count": 27,
     "metadata": {},
     "output_type": "execute_result"
    }
   ],
   "source": [
    "'''\n",
    "labels = [\n",
    "    'hygiene', 'food quality', 'food', 'staff', 'something is missing',\n",
    "    'location', 'speed of service', 'drive-thru', 'temperature of the food',\n",
    "    'atmosphere', 'customer service', \"temperature\" , \"price\", \"speed\", \"quality\", \"courtesy\",\n",
    "]\n",
    "'''"
   ]
  },
  {
   "cell_type": "code",
   "execution_count": 28,
   "id": "fC0BUpsgLFee",
   "metadata": {
    "colab": {
     "base_uri": "https://localhost:8080/"
    },
    "executionInfo": {
     "elapsed": 65,
     "status": "ok",
     "timestamp": 1744747747784,
     "user": {
      "displayName": "myriam Goyet",
      "userId": "00728654997239869789"
     },
     "user_tz": -120
    },
    "id": "fC0BUpsgLFee",
    "outputId": "63f2f9df-f516-47ba-c757-3dee35515311"
   },
   "outputs": [
    {
     "data": {
      "text/plain": [
       "Index(['reviewer_id', 'store_address', 'City', 'State', 'longitude',\n",
       "       'latitude', 'review_date', 'review', 'clean_reviews',\n",
       "       'tokenized_reviews', 'rating', 'actual_sentiment', 'Roberta_label',\n",
       "       'Roberta_score', 'top_1', 'top_2', 'top_3', 'top_4', 'top_5',\n",
       "       'customer service', 'staff', 'food quality', 'operating hours',\n",
       "       'order accuracy', 'location', 'general experience', 'cleanliness',\n",
       "       'refund_policy', 'recommendation', 'drive-thru experience', 'security',\n",
       "       'advice', 'receipt issue', 'menu', 'customer loyalty',\n",
       "       'language barrier', 'waiting time', 'left without ordering',\n",
       "       'product availability', 'convenience', 'affordability', 'busyness',\n",
       "       'request'],\n",
       "      dtype='object')"
      ]
     },
     "execution_count": 28,
     "metadata": {},
     "output_type": "execute_result"
    }
   ],
   "source": [
    "df_1restaurant.columns"
   ]
  },
  {
   "cell_type": "markdown",
   "id": "jsRAfUgFjFXg",
   "metadata": {
    "id": "jsRAfUgFjFXg"
   },
   "source": [
    "# Embedding et dot product sur tout le dataset"
   ]
  },
  {
   "cell_type": "code",
   "execution_count": 29,
   "id": "ID_tyK8z18kI",
   "metadata": {
    "colab": {
     "base_uri": "https://localhost:8080/",
     "height": 49,
     "referenced_widgets": [
      "f092e8baec114dc9b91e251f9c84eecd",
      "216f84119e4b46a58d30cba399f60293",
      "f462e09e1c604bd480e2082734d4881d",
      "15dab276f0614a4b81321552677c82b0",
      "81ae30f774174e868fbf741632e0e4db",
      "70029fe88bc14ebd82c8c6a792fd7b5e",
      "234c574b168740d698d981d3bc8ae903",
      "4ed76aa2a0fa4a1d9a46cff50e759e4d",
      "44b81d23fe5a463cac7c7268d53f0175",
      "245a3a9fbb7b4e358ed989726e217d55",
      "09c6bacd617a4b149dfd613afa4d22b1"
     ]
    },
    "executionInfo": {
     "elapsed": 567090,
     "status": "ok",
     "timestamp": 1744748357016,
     "user": {
      "displayName": "myriam Goyet",
      "userId": "00728654997239869789"
     },
     "user_tz": -120
    },
    "id": "ID_tyK8z18kI",
    "outputId": "5d75e50a-83d0-48c3-8dcd-920acceb6fd3"
   },
   "outputs": [
    {
     "data": {
      "application/vnd.jupyter.widget-view+json": {
       "model_id": "9d4ac7c8ad344fad9ab95a7b3dbc1a4e",
       "version_major": 2,
       "version_minor": 0
      },
      "text/plain": [
       "Encoding reviews:   0%|          | 0/22250 [00:00<?, ?it/s]"
      ]
     },
     "metadata": {},
     "output_type": "display_data"
    }
   ],
   "source": [
    "from tqdm.notebook import tqdm\n",
    "\n",
    "# Remplacer les valeurs manquantes par une chaîne vide\n",
    "df['tokenized_reviews'] = df['tokenized_reviews'].fillna('')\n",
    "\n",
    "# Charger le modèle SentenceTransformer\n",
    "model = SentenceTransformer('sentence-transformers/all-MiniLM-L6-v2')\n",
    "\n",
    "# Encoder les avis avec une barre de progression\n",
    "reviews_embedded = []\n",
    "for review in tqdm(df[\"tokenized_reviews\"], desc=\"Encoding reviews\"):\n",
    "    reviews_embedded.append(model.encode(review))\n",
    "\n",
    "# Ajouter les embeddings au DataFrame\n",
    "df['review_embedded'] = reviews_embedded"
   ]
  },
  {
   "cell_type": "code",
   "execution_count": 30,
   "id": "A4aAcanQuvsN",
   "metadata": {
    "executionInfo": {
     "elapsed": 70892,
     "status": "ok",
     "timestamp": 1744748436083,
     "user": {
      "displayName": "myriam Goyet",
      "userId": "00728654997239869789"
     },
     "user_tz": -120
    },
    "id": "A4aAcanQuvsN"
   },
   "outputs": [],
   "source": [
    "df.to_csv(\"data/data_with_topics.csv\", index=False)\n",
    "df= pd.read_csv(\"data/data_with_topics.csv\", encoding='latin-1')"
   ]
  },
  {
   "cell_type": "code",
   "execution_count": 31,
   "id": "7DC_TiatiOhF",
   "metadata": {
    "colab": {
     "base_uri": "https://localhost:8080/"
    },
    "executionInfo": {
     "elapsed": 18,
     "status": "ok",
     "timestamp": 1744748436173,
     "user": {
      "displayName": "myriam Goyet",
      "userId": "00728654997239869789"
     },
     "user_tz": -120
    },
    "id": "7DC_TiatiOhF",
    "outputId": "30a29213-8e96-4055-abe2-8243f5e2602a"
   },
   "outputs": [
    {
     "data": {
      "text/plain": [
       "Index(['Unnamed: 0', 'reviewer_id', 'store_address', 'City', 'State',\n",
       "       'longitude', 'latitude', 'review_date', 'review', 'clean_reviews',\n",
       "       'tokenized_reviews', 'rating', 'actual_sentiment', 'Roberta_label',\n",
       "       'Roberta_score', 'review_embedded'],\n",
       "      dtype='object')"
      ]
     },
     "execution_count": 31,
     "metadata": {},
     "output_type": "execute_result"
    }
   ],
   "source": [
    "df.columns"
   ]
  },
  {
   "cell_type": "code",
   "execution_count": 32,
   "id": "sBkb1aLFyEzs",
   "metadata": {
    "colab": {
     "base_uri": "https://localhost:8080/"
    },
    "executionInfo": {
     "elapsed": 69,
     "status": "ok",
     "timestamp": 1744748436248,
     "user": {
      "displayName": "myriam Goyet",
      "userId": "00728654997239869789"
     },
     "user_tz": -120
    },
    "id": "sBkb1aLFyEzs",
    "outputId": "cedb0114-52ca-4430-ef65-9daefccd060a"
   },
   "outputs": [
    {
     "name": "stdout",
     "output_type": "stream",
     "text": [
      "<class 'pandas.core.frame.DataFrame'>\n",
      "RangeIndex: 22250 entries, 0 to 22249\n",
      "Data columns (total 16 columns):\n",
      " #   Column             Non-Null Count  Dtype  \n",
      "---  ------             --------------  -----  \n",
      " 0   Unnamed: 0         22250 non-null  int64  \n",
      " 1   reviewer_id        22250 non-null  int64  \n",
      " 2   store_address      22250 non-null  object \n",
      " 3   City               22250 non-null  object \n",
      " 4   State              22250 non-null  object \n",
      " 5   longitude          22250 non-null  float64\n",
      " 6   latitude           22250 non-null  float64\n",
      " 7   review_date        22250 non-null  object \n",
      " 8   review             22250 non-null  object \n",
      " 9   clean_reviews      22250 non-null  object \n",
      " 10  tokenized_reviews  22179 non-null  object \n",
      " 11  rating             22250 non-null  int64  \n",
      " 12  actual_sentiment   22250 non-null  object \n",
      " 13  Roberta_label      22250 non-null  object \n",
      " 14  Roberta_score      22250 non-null  float64\n",
      " 15  review_embedded    22250 non-null  object \n",
      "dtypes: float64(3), int64(3), object(10)\n",
      "memory usage: 2.7+ MB\n"
     ]
    }
   ],
   "source": [
    "df.info()"
   ]
  },
  {
   "cell_type": "code",
   "execution_count": 33,
   "id": "9TQ0Z5isHYEN",
   "metadata": {
    "executionInfo": {
     "elapsed": 14194,
     "status": "ok",
     "timestamp": 1744748603104,
     "user": {
      "displayName": "myriam Goyet",
      "userId": "00728654997239869789"
     },
     "user_tz": -120
    },
    "id": "9TQ0Z5isHYEN"
   },
   "outputs": [],
   "source": [
    "from collections import defaultdict\n",
    "import numpy as np\n",
    "from numpy.linalg import norm\n",
    "\n",
    "# Prepare list of list of tuples: top 5 (group, score) per review\n",
    "top_group_scores = []\n",
    "\n",
    "for review in reviews_embedded:\n",
    "    group_scores = defaultdict(list)\n",
    "\n",
    "    for i, label in enumerate(labels):\n",
    "        group = label_to_group.get(label, label)\n",
    "        score = np.dot(review, labels_embedded[i]) / (norm(review) * norm(labels_embedded[i]))\n",
    "        group_scores[group].append(score)\n",
    "\n",
    "    # For each group, keep the highest score\n",
    "    group_max_scores = [(group, max(scores)) for group, scores in group_scores.items()]\n",
    "    group_max_scores.sort(key=lambda x: x[1], reverse=True)\n",
    "\n",
    "    # Only top 5 tuples\n",
    "    top_group_scores.append(group_max_scores[:5])\n",
    "\n",
    "# Assign each top tuple to its own column\n",
    "for i in range(5):\n",
    "    df[f\"top_{i+1}\"] = [\n",
    "        group_scores[i] if i < len(group_scores) else (None, None)\n",
    "        for group_scores in top_group_scores\n",
    "    ]\n",
    "\n"
   ]
  },
  {
   "cell_type": "code",
   "execution_count": 34,
   "id": "RaskW2jVH37F",
   "metadata": {
    "colab": {
     "base_uri": "https://localhost:8080/",
     "height": 811
    },
    "executionInfo": {
     "elapsed": 43,
     "status": "ok",
     "timestamp": 1744748648560,
     "user": {
      "displayName": "myriam Goyet",
      "userId": "00728654997239869789"
     },
     "user_tz": -120
    },
    "id": "RaskW2jVH37F",
    "outputId": "c51c551e-4f7d-4d70-f08e-82c5187f382b"
   },
   "outputs": [
    {
     "data": {
      "text/html": [
       "<div>\n",
       "<style scoped>\n",
       "    .dataframe tbody tr th:only-of-type {\n",
       "        vertical-align: middle;\n",
       "    }\n",
       "\n",
       "    .dataframe tbody tr th {\n",
       "        vertical-align: top;\n",
       "    }\n",
       "\n",
       "    .dataframe thead th {\n",
       "        text-align: right;\n",
       "    }\n",
       "</style>\n",
       "<table border=\"1\" class=\"dataframe\">\n",
       "  <thead>\n",
       "    <tr style=\"text-align: right;\">\n",
       "      <th></th>\n",
       "      <th>Unnamed: 0</th>\n",
       "      <th>reviewer_id</th>\n",
       "      <th>store_address</th>\n",
       "      <th>City</th>\n",
       "      <th>State</th>\n",
       "      <th>longitude</th>\n",
       "      <th>latitude</th>\n",
       "      <th>review_date</th>\n",
       "      <th>review</th>\n",
       "      <th>clean_reviews</th>\n",
       "      <th>...</th>\n",
       "      <th>rating</th>\n",
       "      <th>actual_sentiment</th>\n",
       "      <th>Roberta_label</th>\n",
       "      <th>Roberta_score</th>\n",
       "      <th>review_embedded</th>\n",
       "      <th>top_1</th>\n",
       "      <th>top_2</th>\n",
       "      <th>top_3</th>\n",
       "      <th>top_4</th>\n",
       "      <th>top_5</th>\n",
       "    </tr>\n",
       "  </thead>\n",
       "  <tbody>\n",
       "    <tr>\n",
       "      <th>0</th>\n",
       "      <td>0</td>\n",
       "      <td>1</td>\n",
       "      <td>13749 US-183 Hwy</td>\n",
       "      <td>Austin</td>\n",
       "      <td>TX</td>\n",
       "      <td>-97.792874</td>\n",
       "      <td>30.460718</td>\n",
       "      <td>2025-01-15</td>\n",
       "      <td>Why does it look like someone spit on my food?...</td>\n",
       "      <td>why does it look like someone spit on my food ...</td>\n",
       "      <td>...</td>\n",
       "      <td>1</td>\n",
       "      <td>negative</td>\n",
       "      <td>negative</td>\n",
       "      <td>0.975279</td>\n",
       "      <td>[-8.65883566e-03 -6.43292069e-02  6.25042990e-...</td>\n",
       "      <td>(food quality, 0.31562406)</td>\n",
       "      <td>(cleanliness, 0.27512178)</td>\n",
       "      <td>(general experience, 0.23939143)</td>\n",
       "      <td>(staff, 0.23229381)</td>\n",
       "      <td>(busyness, 0.19266683)</td>\n",
       "    </tr>\n",
       "    <tr>\n",
       "      <th>1</th>\n",
       "      <td>1</td>\n",
       "      <td>2</td>\n",
       "      <td>13749 US-183 Hwy</td>\n",
       "      <td>Austin</td>\n",
       "      <td>TX</td>\n",
       "      <td>-97.792874</td>\n",
       "      <td>30.460718</td>\n",
       "      <td>2025-04-10</td>\n",
       "      <td>It'd McDonalds. It is what it is as far as the...</td>\n",
       "      <td>itd mcdonalds it is what it is as far as the f...</td>\n",
       "      <td>...</td>\n",
       "      <td>4</td>\n",
       "      <td>positive</td>\n",
       "      <td>positive</td>\n",
       "      <td>0.973995</td>\n",
       "      <td>[-5.21856779e-03 -3.66366133e-02  9.62128639e-...</td>\n",
       "      <td>(general experience, 0.5023371)</td>\n",
       "      <td>(food quality, 0.4219886)</td>\n",
       "      <td>(staff, 0.42071745)</td>\n",
       "      <td>(customer service, 0.35618728)</td>\n",
       "      <td>(customer loyalty, 0.33402154)</td>\n",
       "    </tr>\n",
       "    <tr>\n",
       "      <th>2</th>\n",
       "      <td>2</td>\n",
       "      <td>3</td>\n",
       "      <td>13749 US-183 Hwy</td>\n",
       "      <td>Austin</td>\n",
       "      <td>TX</td>\n",
       "      <td>-97.792874</td>\n",
       "      <td>30.460718</td>\n",
       "      <td>2025-04-10</td>\n",
       "      <td>Made a mobile order got to the speaker and che...</td>\n",
       "      <td>made a mobile order got to the speaker and che...</td>\n",
       "      <td>...</td>\n",
       "      <td>1</td>\n",
       "      <td>negative</td>\n",
       "      <td>negative</td>\n",
       "      <td>0.775206</td>\n",
       "      <td>[-7.43476525e-02  2.32000630e-02  1.82521679e-...</td>\n",
       "      <td>(customer service, 0.44631246)</td>\n",
       "      <td>(order accuracy, 0.43302262)</td>\n",
       "      <td>(refund_policy, 0.38280222)</td>\n",
       "      <td>(receipt issue, 0.3628762)</td>\n",
       "      <td>(staff, 0.27365482)</td>\n",
       "    </tr>\n",
       "    <tr>\n",
       "      <th>3</th>\n",
       "      <td>3</td>\n",
       "      <td>4</td>\n",
       "      <td>13749 US-183 Hwy</td>\n",
       "      <td>Austin</td>\n",
       "      <td>TX</td>\n",
       "      <td>-97.792874</td>\n",
       "      <td>30.460718</td>\n",
       "      <td>2025-03-15</td>\n",
       "      <td>My mc. Crispy chicken sandwich was ..............</td>\n",
       "      <td>my mc crispy chicken sandwich was customer ser...</td>\n",
       "      <td>...</td>\n",
       "      <td>5</td>\n",
       "      <td>positive</td>\n",
       "      <td>positive</td>\n",
       "      <td>0.901184</td>\n",
       "      <td>[-7.66549706e-02 -5.37851751e-02  5.62056936e-...</td>\n",
       "      <td>(customer service, 0.39361775)</td>\n",
       "      <td>(food quality, 0.3920789)</td>\n",
       "      <td>(customer loyalty, 0.29757115)</td>\n",
       "      <td>(general experience, 0.27215844)</td>\n",
       "      <td>(order accuracy, 0.26110753)</td>\n",
       "    </tr>\n",
       "    <tr>\n",
       "      <th>4</th>\n",
       "      <td>4</td>\n",
       "      <td>5</td>\n",
       "      <td>13749 US-183 Hwy</td>\n",
       "      <td>Austin</td>\n",
       "      <td>TX</td>\n",
       "      <td>-97.792874</td>\n",
       "      <td>30.460718</td>\n",
       "      <td>2025-02-15</td>\n",
       "      <td>I repeat my order 3 times in the drive thru, a...</td>\n",
       "      <td>i repeat my order times in the drive thru and ...</td>\n",
       "      <td>...</td>\n",
       "      <td>1</td>\n",
       "      <td>negative</td>\n",
       "      <td>negative</td>\n",
       "      <td>0.937037</td>\n",
       "      <td>[ 5.53550310e-02 -6.45993128e-02  8.45504552e-...</td>\n",
       "      <td>(order accuracy, 0.43826103)</td>\n",
       "      <td>(drive-thru experience, 0.41875166)</td>\n",
       "      <td>(general experience, 0.3367521)</td>\n",
       "      <td>(food quality, 0.29102868)</td>\n",
       "      <td>(busyness, 0.2879883)</td>\n",
       "    </tr>\n",
       "  </tbody>\n",
       "</table>\n",
       "<p>5 rows × 21 columns</p>\n",
       "</div>"
      ],
      "text/plain": [
       "   Unnamed: 0  reviewer_id     store_address    City State  longitude  \\\n",
       "0           0            1  13749 US-183 Hwy  Austin    TX -97.792874   \n",
       "1           1            2  13749 US-183 Hwy  Austin    TX -97.792874   \n",
       "2           2            3  13749 US-183 Hwy  Austin    TX -97.792874   \n",
       "3           3            4  13749 US-183 Hwy  Austin    TX -97.792874   \n",
       "4           4            5  13749 US-183 Hwy  Austin    TX -97.792874   \n",
       "\n",
       "    latitude review_date                                             review  \\\n",
       "0  30.460718  2025-01-15  Why does it look like someone spit on my food?...   \n",
       "1  30.460718  2025-04-10  It'd McDonalds. It is what it is as far as the...   \n",
       "2  30.460718  2025-04-10  Made a mobile order got to the speaker and che...   \n",
       "3  30.460718  2025-03-15  My mc. Crispy chicken sandwich was ..............   \n",
       "4  30.460718  2025-02-15  I repeat my order 3 times in the drive thru, a...   \n",
       "\n",
       "                                       clean_reviews  ... rating  \\\n",
       "0  why does it look like someone spit on my food ...  ...      1   \n",
       "1  itd mcdonalds it is what it is as far as the f...  ...      4   \n",
       "2  made a mobile order got to the speaker and che...  ...      1   \n",
       "3  my mc crispy chicken sandwich was customer ser...  ...      5   \n",
       "4  i repeat my order times in the drive thru and ...  ...      1   \n",
       "\n",
       "   actual_sentiment Roberta_label Roberta_score  \\\n",
       "0          negative      negative      0.975279   \n",
       "1          positive      positive      0.973995   \n",
       "2          negative      negative      0.775206   \n",
       "3          positive      positive      0.901184   \n",
       "4          negative      negative      0.937037   \n",
       "\n",
       "                                     review_embedded  \\\n",
       "0  [-8.65883566e-03 -6.43292069e-02  6.25042990e-...   \n",
       "1  [-5.21856779e-03 -3.66366133e-02  9.62128639e-...   \n",
       "2  [-7.43476525e-02  2.32000630e-02  1.82521679e-...   \n",
       "3  [-7.66549706e-02 -5.37851751e-02  5.62056936e-...   \n",
       "4  [ 5.53550310e-02 -6.45993128e-02  8.45504552e-...   \n",
       "\n",
       "                             top_1                                top_2  \\\n",
       "0       (food quality, 0.31562406)            (cleanliness, 0.27512178)   \n",
       "1  (general experience, 0.5023371)            (food quality, 0.4219886)   \n",
       "2   (customer service, 0.44631246)         (order accuracy, 0.43302262)   \n",
       "3   (customer service, 0.39361775)            (food quality, 0.3920789)   \n",
       "4     (order accuracy, 0.43826103)  (drive-thru experience, 0.41875166)   \n",
       "\n",
       "                              top_3                             top_4  \\\n",
       "0  (general experience, 0.23939143)               (staff, 0.23229381)   \n",
       "1               (staff, 0.42071745)    (customer service, 0.35618728)   \n",
       "2       (refund_policy, 0.38280222)        (receipt issue, 0.3628762)   \n",
       "3    (customer loyalty, 0.29757115)  (general experience, 0.27215844)   \n",
       "4   (general experience, 0.3367521)        (food quality, 0.29102868)   \n",
       "\n",
       "                            top_5  \n",
       "0          (busyness, 0.19266683)  \n",
       "1  (customer loyalty, 0.33402154)  \n",
       "2             (staff, 0.27365482)  \n",
       "3    (order accuracy, 0.26110753)  \n",
       "4           (busyness, 0.2879883)  \n",
       "\n",
       "[5 rows x 21 columns]"
      ]
     },
     "execution_count": 34,
     "metadata": {},
     "output_type": "execute_result"
    }
   ],
   "source": [
    "df.head()"
   ]
  },
  {
   "cell_type": "code",
   "execution_count": 35,
   "id": "mPWrG1ybH3pg",
   "metadata": {
    "executionInfo": {
     "elapsed": 15953,
     "status": "ok",
     "timestamp": 1744748740590,
     "user": {
      "displayName": "myriam Goyet",
      "userId": "00728654997239869789"
     },
     "user_tz": -120
    },
    "id": "mPWrG1ybH3pg"
   },
   "outputs": [],
   "source": [
    "# List of all unique group labels\n",
    "all_group_labels = list(set(label_to_group.values()))\n",
    "\n",
    "# This will be a list of dicts, one per review\n",
    "group_score_dicts = []\n",
    "\n",
    "for review in reviews_embedded:\n",
    "    group_scores = defaultdict(list)\n",
    "\n",
    "    for i, label in enumerate(labels):\n",
    "        group = label_to_group.get(label, label)\n",
    "        score = np.dot(review, labels_embedded[i]) / (norm(review) * norm(labels_embedded[i]))\n",
    "        group_scores[group].append(score)\n",
    "\n",
    "    # Take max score per group\n",
    "    group_max_scores = {group: max(scores) for group, scores in group_scores.items()}\n",
    "    group_score_dicts.append(group_max_scores)\n",
    "\n",
    "# Convert list of dicts to DataFrame (each group becomes a column)\n",
    "group_scores_df = pd.DataFrame(group_score_dicts)\n",
    "\n",
    "# Merge into your main DataFrame\n",
    "df = pd.concat([df.reset_index(drop=True), group_scores_df], axis=1)\n"
   ]
  },
  {
   "cell_type": "code",
   "execution_count": 36,
   "id": "O-Gl57HmIOw2",
   "metadata": {
    "colab": {
     "base_uri": "https://localhost:8080/",
     "height": 464
    },
    "executionInfo": {
     "elapsed": 49,
     "status": "ok",
     "timestamp": 1744748789581,
     "user": {
      "displayName": "myriam Goyet",
      "userId": "00728654997239869789"
     },
     "user_tz": -120
    },
    "id": "O-Gl57HmIOw2",
    "outputId": "fc8bbf5d-2ace-40ac-800e-5cec1527163c"
   },
   "outputs": [
    {
     "data": {
      "text/html": [
       "<div>\n",
       "<style scoped>\n",
       "    .dataframe tbody tr th:only-of-type {\n",
       "        vertical-align: middle;\n",
       "    }\n",
       "\n",
       "    .dataframe tbody tr th {\n",
       "        vertical-align: top;\n",
       "    }\n",
       "\n",
       "    .dataframe thead th {\n",
       "        text-align: right;\n",
       "    }\n",
       "</style>\n",
       "<table border=\"1\" class=\"dataframe\">\n",
       "  <thead>\n",
       "    <tr style=\"text-align: right;\">\n",
       "      <th></th>\n",
       "      <th>review</th>\n",
       "      <th>actual_sentiment</th>\n",
       "      <th>Roberta_label</th>\n",
       "      <th>top_1</th>\n",
       "      <th>top_2</th>\n",
       "      <th>top_3</th>\n",
       "      <th>top_4</th>\n",
       "      <th>top_5</th>\n",
       "      <th>customer service</th>\n",
       "      <th>staff</th>\n",
       "      <th>...</th>\n",
       "      <th>menu</th>\n",
       "      <th>customer loyalty</th>\n",
       "      <th>language barrier</th>\n",
       "      <th>waiting time</th>\n",
       "      <th>left without ordering</th>\n",
       "      <th>product availability</th>\n",
       "      <th>convenience</th>\n",
       "      <th>affordability</th>\n",
       "      <th>busyness</th>\n",
       "      <th>request</th>\n",
       "    </tr>\n",
       "  </thead>\n",
       "  <tbody>\n",
       "    <tr>\n",
       "      <th>0</th>\n",
       "      <td>Why does it look like someone spit on my food?...</td>\n",
       "      <td>negative</td>\n",
       "      <td>negative</td>\n",
       "      <td>(food quality, 0.31562406)</td>\n",
       "      <td>(cleanliness, 0.27512178)</td>\n",
       "      <td>(general experience, 0.23939143)</td>\n",
       "      <td>(staff, 0.23229381)</td>\n",
       "      <td>(busyness, 0.19266683)</td>\n",
       "      <td>0.155685</td>\n",
       "      <td>0.232294</td>\n",
       "      <td>...</td>\n",
       "      <td>0.158993</td>\n",
       "      <td>0.074503</td>\n",
       "      <td>0.112069</td>\n",
       "      <td>0.141913</td>\n",
       "      <td>0.139210</td>\n",
       "      <td>0.112632</td>\n",
       "      <td>0.095136</td>\n",
       "      <td>0.010976</td>\n",
       "      <td>0.192667</td>\n",
       "      <td>0.132173</td>\n",
       "    </tr>\n",
       "    <tr>\n",
       "      <th>1</th>\n",
       "      <td>It'd McDonalds. It is what it is as far as the...</td>\n",
       "      <td>positive</td>\n",
       "      <td>positive</td>\n",
       "      <td>(general experience, 0.5023371)</td>\n",
       "      <td>(food quality, 0.4219886)</td>\n",
       "      <td>(staff, 0.42071745)</td>\n",
       "      <td>(customer service, 0.35618728)</td>\n",
       "      <td>(customer loyalty, 0.33402154)</td>\n",
       "      <td>0.356187</td>\n",
       "      <td>0.420717</td>\n",
       "      <td>...</td>\n",
       "      <td>0.233368</td>\n",
       "      <td>0.334022</td>\n",
       "      <td>0.090067</td>\n",
       "      <td>0.185619</td>\n",
       "      <td>0.071343</td>\n",
       "      <td>0.103034</td>\n",
       "      <td>0.268924</td>\n",
       "      <td>0.173768</td>\n",
       "      <td>0.214261</td>\n",
       "      <td>-0.001474</td>\n",
       "    </tr>\n",
       "    <tr>\n",
       "      <th>2</th>\n",
       "      <td>Made a mobile order got to the speaker and che...</td>\n",
       "      <td>negative</td>\n",
       "      <td>negative</td>\n",
       "      <td>(customer service, 0.44631246)</td>\n",
       "      <td>(order accuracy, 0.43302262)</td>\n",
       "      <td>(refund_policy, 0.38280222)</td>\n",
       "      <td>(receipt issue, 0.3628762)</td>\n",
       "      <td>(staff, 0.27365482)</td>\n",
       "      <td>0.446312</td>\n",
       "      <td>0.273655</td>\n",
       "      <td>...</td>\n",
       "      <td>0.194078</td>\n",
       "      <td>0.263592</td>\n",
       "      <td>0.146208</td>\n",
       "      <td>0.235918</td>\n",
       "      <td>0.259681</td>\n",
       "      <td>0.184906</td>\n",
       "      <td>0.142167</td>\n",
       "      <td>0.091285</td>\n",
       "      <td>0.226593</td>\n",
       "      <td>0.101869</td>\n",
       "    </tr>\n",
       "    <tr>\n",
       "      <th>3</th>\n",
       "      <td>My mc. Crispy chicken sandwich was ..............</td>\n",
       "      <td>positive</td>\n",
       "      <td>positive</td>\n",
       "      <td>(customer service, 0.39361775)</td>\n",
       "      <td>(food quality, 0.3920789)</td>\n",
       "      <td>(customer loyalty, 0.29757115)</td>\n",
       "      <td>(general experience, 0.27215844)</td>\n",
       "      <td>(order accuracy, 0.26110753)</td>\n",
       "      <td>0.393618</td>\n",
       "      <td>0.216679</td>\n",
       "      <td>...</td>\n",
       "      <td>0.202433</td>\n",
       "      <td>0.297571</td>\n",
       "      <td>-0.000655</td>\n",
       "      <td>0.221744</td>\n",
       "      <td>0.139198</td>\n",
       "      <td>0.162949</td>\n",
       "      <td>0.133394</td>\n",
       "      <td>0.095757</td>\n",
       "      <td>0.143017</td>\n",
       "      <td>0.158758</td>\n",
       "    </tr>\n",
       "    <tr>\n",
       "      <th>4</th>\n",
       "      <td>I repeat my order 3 times in the drive thru, a...</td>\n",
       "      <td>negative</td>\n",
       "      <td>negative</td>\n",
       "      <td>(order accuracy, 0.43826103)</td>\n",
       "      <td>(drive-thru experience, 0.41875166)</td>\n",
       "      <td>(general experience, 0.3367521)</td>\n",
       "      <td>(food quality, 0.29102868)</td>\n",
       "      <td>(busyness, 0.2879883)</td>\n",
       "      <td>0.258598</td>\n",
       "      <td>0.262975</td>\n",
       "      <td>...</td>\n",
       "      <td>0.277522</td>\n",
       "      <td>0.119351</td>\n",
       "      <td>0.226186</td>\n",
       "      <td>0.234919</td>\n",
       "      <td>0.234002</td>\n",
       "      <td>0.115486</td>\n",
       "      <td>0.218603</td>\n",
       "      <td>0.180055</td>\n",
       "      <td>0.287988</td>\n",
       "      <td>0.026835</td>\n",
       "    </tr>\n",
       "  </tbody>\n",
       "</table>\n",
       "<p>5 rows × 32 columns</p>\n",
       "</div>"
      ],
      "text/plain": [
       "                                              review actual_sentiment  \\\n",
       "0  Why does it look like someone spit on my food?...         negative   \n",
       "1  It'd McDonalds. It is what it is as far as the...         positive   \n",
       "2  Made a mobile order got to the speaker and che...         negative   \n",
       "3  My mc. Crispy chicken sandwich was ..............         positive   \n",
       "4  I repeat my order 3 times in the drive thru, a...         negative   \n",
       "\n",
       "  Roberta_label                            top_1  \\\n",
       "0      negative       (food quality, 0.31562406)   \n",
       "1      positive  (general experience, 0.5023371)   \n",
       "2      negative   (customer service, 0.44631246)   \n",
       "3      positive   (customer service, 0.39361775)   \n",
       "4      negative     (order accuracy, 0.43826103)   \n",
       "\n",
       "                                 top_2                             top_3  \\\n",
       "0            (cleanliness, 0.27512178)  (general experience, 0.23939143)   \n",
       "1            (food quality, 0.4219886)               (staff, 0.42071745)   \n",
       "2         (order accuracy, 0.43302262)       (refund_policy, 0.38280222)   \n",
       "3            (food quality, 0.3920789)    (customer loyalty, 0.29757115)   \n",
       "4  (drive-thru experience, 0.41875166)   (general experience, 0.3367521)   \n",
       "\n",
       "                              top_4                           top_5  \\\n",
       "0               (staff, 0.23229381)          (busyness, 0.19266683)   \n",
       "1    (customer service, 0.35618728)  (customer loyalty, 0.33402154)   \n",
       "2        (receipt issue, 0.3628762)             (staff, 0.27365482)   \n",
       "3  (general experience, 0.27215844)    (order accuracy, 0.26110753)   \n",
       "4        (food quality, 0.29102868)           (busyness, 0.2879883)   \n",
       "\n",
       "   customer service     staff  ...      menu  customer loyalty  \\\n",
       "0          0.155685  0.232294  ...  0.158993          0.074503   \n",
       "1          0.356187  0.420717  ...  0.233368          0.334022   \n",
       "2          0.446312  0.273655  ...  0.194078          0.263592   \n",
       "3          0.393618  0.216679  ...  0.202433          0.297571   \n",
       "4          0.258598  0.262975  ...  0.277522          0.119351   \n",
       "\n",
       "   language barrier  waiting time  left without ordering  \\\n",
       "0          0.112069      0.141913               0.139210   \n",
       "1          0.090067      0.185619               0.071343   \n",
       "2          0.146208      0.235918               0.259681   \n",
       "3         -0.000655      0.221744               0.139198   \n",
       "4          0.226186      0.234919               0.234002   \n",
       "\n",
       "   product availability  convenience  affordability  busyness   request  \n",
       "0              0.112632     0.095136       0.010976  0.192667  0.132173  \n",
       "1              0.103034     0.268924       0.173768  0.214261 -0.001474  \n",
       "2              0.184906     0.142167       0.091285  0.226593  0.101869  \n",
       "3              0.162949     0.133394       0.095757  0.143017  0.158758  \n",
       "4              0.115486     0.218603       0.180055  0.287988  0.026835  \n",
       "\n",
       "[5 rows x 32 columns]"
      ]
     },
     "execution_count": 36,
     "metadata": {},
     "output_type": "execute_result"
    }
   ],
   "source": [
    "df[['review',\n",
    "       'actual_sentiment', 'Roberta_label',\n",
    "       'top_1', 'top_2', 'top_3', 'top_4', 'top_5', 'customer service',\n",
    "       'staff', 'food quality', 'operating hours', 'order accuracy',\n",
    "       'location', 'general experience', 'cleanliness', 'refund_policy',\n",
    "       'recommendation', 'drive-thru experience', 'security', 'advice',\n",
    "       'receipt issue', 'menu', 'customer loyalty', 'language barrier',\n",
    "       'waiting time', 'left without ordering', 'product availability',\n",
    "       'convenience', 'affordability', 'busyness', 'request']].head()"
   ]
  },
  {
   "cell_type": "code",
   "execution_count": 37,
   "id": "NJIaz4DcpBII",
   "metadata": {
    "colab": {
     "base_uri": "https://localhost:8080/"
    },
    "executionInfo": {
     "elapsed": 72,
     "status": "ok",
     "timestamp": 1744748817116,
     "user": {
      "displayName": "myriam Goyet",
      "userId": "00728654997239869789"
     },
     "user_tz": -120
    },
    "id": "NJIaz4DcpBII",
    "outputId": "68df2b1b-36de-4e00-84f0-947c5c8ca9bf"
   },
   "outputs": [
    {
     "data": {
      "text/plain": [
       "Index(['Unnamed: 0', 'reviewer_id', 'store_address', 'City', 'State',\n",
       "       'longitude', 'latitude', 'review_date', 'review', 'clean_reviews',\n",
       "       'tokenized_reviews', 'rating', 'actual_sentiment', 'Roberta_label',\n",
       "       'Roberta_score', 'review_embedded', 'top_1', 'top_2', 'top_3', 'top_4',\n",
       "       'top_5', 'customer service', 'staff', 'food quality', 'operating hours',\n",
       "       'order accuracy', 'location', 'general experience', 'cleanliness',\n",
       "       'refund_policy', 'recommendation', 'drive-thru experience', 'security',\n",
       "       'advice', 'receipt issue', 'menu', 'customer loyalty',\n",
       "       'language barrier', 'waiting time', 'left without ordering',\n",
       "       'product availability', 'convenience', 'affordability', 'busyness',\n",
       "       'request'],\n",
       "      dtype='object')"
      ]
     },
     "execution_count": 37,
     "metadata": {},
     "output_type": "execute_result"
    }
   ],
   "source": [
    "df.columns"
   ]
  },
  {
   "cell_type": "code",
   "execution_count": 38,
   "id": "vWD8A4C8oWxl",
   "metadata": {
    "colab": {
     "base_uri": "https://localhost:8080/",
     "height": 828
    },
    "executionInfo": {
     "elapsed": 45,
     "status": "ok",
     "timestamp": 1744748886924,
     "user": {
      "displayName": "myriam Goyet",
      "userId": "00728654997239869789"
     },
     "user_tz": -120
    },
    "id": "vWD8A4C8oWxl",
    "outputId": "1f369b5e-858b-42fc-aeda-b26ce90c0a44"
   },
   "outputs": [
    {
     "data": {
      "text/html": [
       "<div>\n",
       "<style scoped>\n",
       "    .dataframe tbody tr th:only-of-type {\n",
       "        vertical-align: middle;\n",
       "    }\n",
       "\n",
       "    .dataframe tbody tr th {\n",
       "        vertical-align: top;\n",
       "    }\n",
       "\n",
       "    .dataframe thead th {\n",
       "        text-align: right;\n",
       "    }\n",
       "</style>\n",
       "<table border=\"1\" class=\"dataframe\">\n",
       "  <thead>\n",
       "    <tr style=\"text-align: right;\">\n",
       "      <th></th>\n",
       "      <th>reviewer_id</th>\n",
       "      <th>store_address</th>\n",
       "      <th>City</th>\n",
       "      <th>State</th>\n",
       "      <th>longitude</th>\n",
       "      <th>latitude</th>\n",
       "      <th>review_date</th>\n",
       "      <th>review</th>\n",
       "      <th>clean_reviews</th>\n",
       "      <th>tokenized_reviews</th>\n",
       "      <th>...</th>\n",
       "      <th>menu</th>\n",
       "      <th>customer loyalty</th>\n",
       "      <th>language barrier</th>\n",
       "      <th>waiting time</th>\n",
       "      <th>left without ordering</th>\n",
       "      <th>product availability</th>\n",
       "      <th>convenience</th>\n",
       "      <th>affordability</th>\n",
       "      <th>busyness</th>\n",
       "      <th>request</th>\n",
       "    </tr>\n",
       "  </thead>\n",
       "  <tbody>\n",
       "    <tr>\n",
       "      <th>0</th>\n",
       "      <td>1</td>\n",
       "      <td>13749 US-183 Hwy</td>\n",
       "      <td>Austin</td>\n",
       "      <td>TX</td>\n",
       "      <td>-97.792874</td>\n",
       "      <td>30.460718</td>\n",
       "      <td>2025-01-15</td>\n",
       "      <td>Why does it look like someone spit on my food?...</td>\n",
       "      <td>why does it look like someone spit on my food ...</td>\n",
       "      <td>look like someone spit food normal transaction...</td>\n",
       "      <td>...</td>\n",
       "      <td>0.158993</td>\n",
       "      <td>0.074503</td>\n",
       "      <td>0.112069</td>\n",
       "      <td>0.141913</td>\n",
       "      <td>0.139210</td>\n",
       "      <td>0.112632</td>\n",
       "      <td>0.095136</td>\n",
       "      <td>0.010976</td>\n",
       "      <td>0.192667</td>\n",
       "      <td>0.132173</td>\n",
       "    </tr>\n",
       "    <tr>\n",
       "      <th>1</th>\n",
       "      <td>2</td>\n",
       "      <td>13749 US-183 Hwy</td>\n",
       "      <td>Austin</td>\n",
       "      <td>TX</td>\n",
       "      <td>-97.792874</td>\n",
       "      <td>30.460718</td>\n",
       "      <td>2025-04-10</td>\n",
       "      <td>It'd McDonalds. It is what it is as far as the...</td>\n",
       "      <td>itd mcdonalds it is what it is as far as the f...</td>\n",
       "      <td>itd mcdonalds far food atmosphere go staff mak...</td>\n",
       "      <td>...</td>\n",
       "      <td>0.233368</td>\n",
       "      <td>0.334022</td>\n",
       "      <td>0.090067</td>\n",
       "      <td>0.185619</td>\n",
       "      <td>0.071343</td>\n",
       "      <td>0.103034</td>\n",
       "      <td>0.268924</td>\n",
       "      <td>0.173768</td>\n",
       "      <td>0.214261</td>\n",
       "      <td>-0.001474</td>\n",
       "    </tr>\n",
       "    <tr>\n",
       "      <th>2</th>\n",
       "      <td>3</td>\n",
       "      <td>13749 US-183 Hwy</td>\n",
       "      <td>Austin</td>\n",
       "      <td>TX</td>\n",
       "      <td>-97.792874</td>\n",
       "      <td>30.460718</td>\n",
       "      <td>2025-04-10</td>\n",
       "      <td>Made a mobile order got to the speaker and che...</td>\n",
       "      <td>made a mobile order got to the speaker and che...</td>\n",
       "      <td>made mobile order got speaker checked line mov...</td>\n",
       "      <td>...</td>\n",
       "      <td>0.194078</td>\n",
       "      <td>0.263592</td>\n",
       "      <td>0.146208</td>\n",
       "      <td>0.235918</td>\n",
       "      <td>0.259681</td>\n",
       "      <td>0.184906</td>\n",
       "      <td>0.142167</td>\n",
       "      <td>0.091285</td>\n",
       "      <td>0.226593</td>\n",
       "      <td>0.101869</td>\n",
       "    </tr>\n",
       "    <tr>\n",
       "      <th>3</th>\n",
       "      <td>4</td>\n",
       "      <td>13749 US-183 Hwy</td>\n",
       "      <td>Austin</td>\n",
       "      <td>TX</td>\n",
       "      <td>-97.792874</td>\n",
       "      <td>30.460718</td>\n",
       "      <td>2025-03-15</td>\n",
       "      <td>My mc. Crispy chicken sandwich was ..............</td>\n",
       "      <td>my mc crispy chicken sandwich was customer ser...</td>\n",
       "      <td>mc crispy chicken sandwich customer service qu...</td>\n",
       "      <td>...</td>\n",
       "      <td>0.202433</td>\n",
       "      <td>0.297571</td>\n",
       "      <td>-0.000655</td>\n",
       "      <td>0.221744</td>\n",
       "      <td>0.139198</td>\n",
       "      <td>0.162949</td>\n",
       "      <td>0.133394</td>\n",
       "      <td>0.095757</td>\n",
       "      <td>0.143017</td>\n",
       "      <td>0.158758</td>\n",
       "    </tr>\n",
       "    <tr>\n",
       "      <th>4</th>\n",
       "      <td>5</td>\n",
       "      <td>13749 US-183 Hwy</td>\n",
       "      <td>Austin</td>\n",
       "      <td>TX</td>\n",
       "      <td>-97.792874</td>\n",
       "      <td>30.460718</td>\n",
       "      <td>2025-02-15</td>\n",
       "      <td>I repeat my order 3 times in the drive thru, a...</td>\n",
       "      <td>i repeat my order times in the drive thru and ...</td>\n",
       "      <td>repeat order times drive thru still manage mes...</td>\n",
       "      <td>...</td>\n",
       "      <td>0.277522</td>\n",
       "      <td>0.119351</td>\n",
       "      <td>0.226186</td>\n",
       "      <td>0.234919</td>\n",
       "      <td>0.234002</td>\n",
       "      <td>0.115486</td>\n",
       "      <td>0.218603</td>\n",
       "      <td>0.180055</td>\n",
       "      <td>0.287988</td>\n",
       "      <td>0.026835</td>\n",
       "    </tr>\n",
       "  </tbody>\n",
       "</table>\n",
       "<p>5 rows × 43 columns</p>\n",
       "</div>"
      ],
      "text/plain": [
       "   reviewer_id     store_address    City State  longitude   latitude  \\\n",
       "0            1  13749 US-183 Hwy  Austin    TX -97.792874  30.460718   \n",
       "1            2  13749 US-183 Hwy  Austin    TX -97.792874  30.460718   \n",
       "2            3  13749 US-183 Hwy  Austin    TX -97.792874  30.460718   \n",
       "3            4  13749 US-183 Hwy  Austin    TX -97.792874  30.460718   \n",
       "4            5  13749 US-183 Hwy  Austin    TX -97.792874  30.460718   \n",
       "\n",
       "  review_date                                             review  \\\n",
       "0  2025-01-15  Why does it look like someone spit on my food?...   \n",
       "1  2025-04-10  It'd McDonalds. It is what it is as far as the...   \n",
       "2  2025-04-10  Made a mobile order got to the speaker and che...   \n",
       "3  2025-03-15  My mc. Crispy chicken sandwich was ..............   \n",
       "4  2025-02-15  I repeat my order 3 times in the drive thru, a...   \n",
       "\n",
       "                                       clean_reviews  \\\n",
       "0  why does it look like someone spit on my food ...   \n",
       "1  itd mcdonalds it is what it is as far as the f...   \n",
       "2  made a mobile order got to the speaker and che...   \n",
       "3  my mc crispy chicken sandwich was customer ser...   \n",
       "4  i repeat my order times in the drive thru and ...   \n",
       "\n",
       "                                   tokenized_reviews  ...      menu  \\\n",
       "0  look like someone spit food normal transaction...  ...  0.158993   \n",
       "1  itd mcdonalds far food atmosphere go staff mak...  ...  0.233368   \n",
       "2  made mobile order got speaker checked line mov...  ...  0.194078   \n",
       "3  mc crispy chicken sandwich customer service qu...  ...  0.202433   \n",
       "4  repeat order times drive thru still manage mes...  ...  0.277522   \n",
       "\n",
       "  customer loyalty language barrier  waiting time left without ordering  \\\n",
       "0         0.074503         0.112069      0.141913              0.139210   \n",
       "1         0.334022         0.090067      0.185619              0.071343   \n",
       "2         0.263592         0.146208      0.235918              0.259681   \n",
       "3         0.297571        -0.000655      0.221744              0.139198   \n",
       "4         0.119351         0.226186      0.234919              0.234002   \n",
       "\n",
       "  product availability convenience affordability  busyness   request  \n",
       "0             0.112632    0.095136      0.010976  0.192667  0.132173  \n",
       "1             0.103034    0.268924      0.173768  0.214261 -0.001474  \n",
       "2             0.184906    0.142167      0.091285  0.226593  0.101869  \n",
       "3             0.162949    0.133394      0.095757  0.143017  0.158758  \n",
       "4             0.115486    0.218603      0.180055  0.287988  0.026835  \n",
       "\n",
       "[5 rows x 43 columns]"
      ]
     },
     "execution_count": 38,
     "metadata": {},
     "output_type": "execute_result"
    }
   ],
   "source": [
    "df=df[['reviewer_id',\n",
    "       'store_address', 'City', 'State','longitude', 'latitude',\n",
    "       'review_date', 'review', 'clean_reviews','tokenized_reviews',\n",
    "       'rating', 'actual_sentiment', 'Roberta_label','Roberta_score',\n",
    "       'top_1', 'top_2', 'top_3', 'top_4','top_5',\n",
    "       'customer service', 'staff', 'food quality', 'operating hours',\n",
    "       'order accuracy', 'location', 'general experience', 'cleanliness',\n",
    "       'refund_policy', 'recommendation', 'drive-thru experience', 'security',\n",
    "       'advice', 'receipt issue', 'menu', 'customer loyalty',\n",
    "       'language barrier', 'waiting time', 'left without ordering',\n",
    "       'product availability', 'convenience', 'affordability', 'busyness',\n",
    "       'request' ]]\n",
    "df.head()"
   ]
  },
  {
   "cell_type": "code",
   "execution_count": 39,
   "id": "n-aPutBMyblu",
   "metadata": {
    "colab": {
     "base_uri": "https://localhost:8080/"
    },
    "executionInfo": {
     "elapsed": 15,
     "status": "ok",
     "timestamp": 1744748890096,
     "user": {
      "displayName": "myriam Goyet",
      "userId": "00728654997239869789"
     },
     "user_tz": -120
    },
    "id": "n-aPutBMyblu",
    "outputId": "79155a85-3b3e-4d7c-b08f-e71f64c3bfa6"
   },
   "outputs": [
    {
     "name": "stdout",
     "output_type": "stream",
     "text": [
      "<class 'pandas.core.frame.DataFrame'>\n",
      "RangeIndex: 22250 entries, 0 to 22249\n",
      "Data columns (total 43 columns):\n",
      " #   Column                 Non-Null Count  Dtype  \n",
      "---  ------                 --------------  -----  \n",
      " 0   reviewer_id            22250 non-null  int64  \n",
      " 1   store_address          22250 non-null  object \n",
      " 2   City                   22250 non-null  object \n",
      " 3   State                  22250 non-null  object \n",
      " 4   longitude              22250 non-null  float64\n",
      " 5   latitude               22250 non-null  float64\n",
      " 6   review_date            22250 non-null  object \n",
      " 7   review                 22250 non-null  object \n",
      " 8   clean_reviews          22250 non-null  object \n",
      " 9   tokenized_reviews      22179 non-null  object \n",
      " 10  rating                 22250 non-null  int64  \n",
      " 11  actual_sentiment       22250 non-null  object \n",
      " 12  Roberta_label          22250 non-null  object \n",
      " 13  Roberta_score          22250 non-null  float64\n",
      " 14  top_1                  22250 non-null  object \n",
      " 15  top_2                  22250 non-null  object \n",
      " 16  top_3                  22250 non-null  object \n",
      " 17  top_4                  22250 non-null  object \n",
      " 18  top_5                  22250 non-null  object \n",
      " 19  customer service       22250 non-null  float32\n",
      " 20  staff                  22250 non-null  float32\n",
      " 21  food quality           22250 non-null  float32\n",
      " 22  operating hours        22250 non-null  float32\n",
      " 23  order accuracy         22250 non-null  float32\n",
      " 24  location               22250 non-null  float32\n",
      " 25  general experience     22250 non-null  float32\n",
      " 26  cleanliness            22250 non-null  float32\n",
      " 27  refund_policy          22250 non-null  float32\n",
      " 28  recommendation         22250 non-null  float32\n",
      " 29  drive-thru experience  22250 non-null  float32\n",
      " 30  security               22250 non-null  float32\n",
      " 31  advice                 22250 non-null  float32\n",
      " 32  receipt issue          22250 non-null  float32\n",
      " 33  menu                   22250 non-null  float32\n",
      " 34  customer loyalty       22250 non-null  float32\n",
      " 35  language barrier       22250 non-null  float32\n",
      " 36  waiting time           22250 non-null  float32\n",
      " 37  left without ordering  22250 non-null  float32\n",
      " 38  product availability   22250 non-null  float32\n",
      " 39  convenience            22250 non-null  float32\n",
      " 40  affordability          22250 non-null  float32\n",
      " 41  busyness               22250 non-null  float32\n",
      " 42  request                22250 non-null  float32\n",
      "dtypes: float32(24), float64(3), int64(2), object(14)\n",
      "memory usage: 5.3+ MB\n"
     ]
    }
   ],
   "source": [
    "df.info()"
   ]
  },
  {
   "cell_type": "code",
   "execution_count": 40,
   "id": "iKAZZMqse64m",
   "metadata": {
    "colab": {
     "base_uri": "https://localhost:8080/"
    },
    "executionInfo": {
     "elapsed": 30,
     "status": "ok",
     "timestamp": 1744748902094,
     "user": {
      "displayName": "myriam Goyet",
      "userId": "00728654997239869789"
     },
     "user_tz": -120
    },
    "id": "iKAZZMqse64m",
    "outputId": "8b26b90d-880e-43e5-88e4-46b03af9bbe5"
   },
   "outputs": [
    {
     "data": {
      "text/plain": [
       "(22250, 43)"
      ]
     },
     "execution_count": 40,
     "metadata": {},
     "output_type": "execute_result"
    }
   ],
   "source": [
    "df.shape"
   ]
  },
  {
   "cell_type": "code",
   "execution_count": 41,
   "id": "akmgCFPLAYK8",
   "metadata": {
    "executionInfo": {
     "elapsed": 1690,
     "status": "ok",
     "timestamp": 1744748913504,
     "user": {
      "displayName": "myriam Goyet",
      "userId": "00728654997239869789"
     },
     "user_tz": -120
    },
    "id": "akmgCFPLAYK8"
   },
   "outputs": [],
   "source": [
    "df.to_csv(\"data/data_with_topics.csv\", index=False)"
   ]
  },
  {
   "cell_type": "code",
   "execution_count": 42,
   "id": "F3s2lvXltgHv",
   "metadata": {
    "executionInfo": {
     "elapsed": 25,
     "status": "ok",
     "timestamp": 1744748936094,
     "user": {
      "displayName": "myriam Goyet",
      "userId": "00728654997239869789"
     },
     "user_tz": -120
    },
    "id": "F3s2lvXltgHv"
   },
   "outputs": [],
   "source": [
    "# Convertir les colonnes de labels en numériques\n",
    "for label in df.columns[19:43]:\n",
    "    df[label] = pd.to_numeric(df[label], errors='coerce')"
   ]
  },
  {
   "cell_type": "code",
   "execution_count": 43,
   "id": "drz9LDsX0c6R",
   "metadata": {
    "executionInfo": {
     "elapsed": 1525,
     "status": "ok",
     "timestamp": 1744748964545,
     "user": {
      "displayName": "myriam Goyet",
      "userId": "00728654997239869789"
     },
     "user_tz": -120
    },
    "id": "drz9LDsX0c6R"
   },
   "outputs": [],
   "source": [
    "df.to_csv(\"data/data_with_topics.csv\", index=False)"
   ]
  },
  {
   "cell_type": "code",
   "execution_count": 44,
   "id": "Hf5XMHeO0jAJ",
   "metadata": {
    "colab": {
     "base_uri": "https://localhost:8080/",
     "height": 401
    },
    "executionInfo": {
     "elapsed": 929,
     "status": "ok",
     "timestamp": 1744748972277,
     "user": {
      "displayName": "myriam Goyet",
      "userId": "00728654997239869789"
     },
     "user_tz": -120
    },
    "id": "Hf5XMHeO0jAJ",
    "outputId": "186b65c2-88e5-4d59-856c-55a38490607e"
   },
   "outputs": [
    {
     "name": "stderr",
     "output_type": "stream",
     "text": [
      "C:\\Users\\Myriam\\AppData\\Local\\Temp\\ipykernel_9864\\4058449201.py:1: FutureWarning: DataFrame.applymap has been deprecated. Use DataFrame.map instead.\n",
      "  contains_str = df.applymap(lambda x: isinstance(x, str)).any()\n"
     ]
    },
    {
     "data": {
      "text/plain": [
       "store_address        True\n",
       "City                 True\n",
       "State                True\n",
       "review_date          True\n",
       "review               True\n",
       "clean_reviews        True\n",
       "tokenized_reviews    True\n",
       "actual_sentiment     True\n",
       "Roberta_label        True\n",
       "dtype: bool"
      ]
     },
     "execution_count": 44,
     "metadata": {},
     "output_type": "execute_result"
    }
   ],
   "source": [
    "contains_str = df.applymap(lambda x: isinstance(x, str)).any()\n",
    "contains_str[contains_str==True]"
   ]
  },
  {
   "cell_type": "code",
   "execution_count": null,
   "id": "RKobmSMf190I",
   "metadata": {
    "id": "RKobmSMf190I"
   },
   "outputs": [],
   "source": []
  }
 ],
 "metadata": {
  "colab": {
   "provenance": []
  },
  "kernelspec": {
   "display_name": "myenv",
   "language": "python",
   "name": "python3"
  },
  "language_info": {
   "codemirror_mode": {
    "name": "ipython",
    "version": 3
   },
   "file_extension": ".py",
   "mimetype": "text/x-python",
   "name": "python",
   "nbconvert_exporter": "python",
   "pygments_lexer": "ipython3",
   "version": "3.10.13"
  },
  "widgets": {
   "application/vnd.jupyter.widget-state+json": {
    "09c6bacd617a4b149dfd613afa4d22b1": {
     "model_module": "@jupyter-widgets/controls",
     "model_module_version": "1.5.0",
     "model_name": "DescriptionStyleModel",
     "state": {
      "_model_module": "@jupyter-widgets/controls",
      "_model_module_version": "1.5.0",
      "_model_name": "DescriptionStyleModel",
      "_view_count": null,
      "_view_module": "@jupyter-widgets/base",
      "_view_module_version": "1.2.0",
      "_view_name": "StyleView",
      "description_width": ""
     }
    },
    "15dab276f0614a4b81321552677c82b0": {
     "model_module": "@jupyter-widgets/controls",
     "model_module_version": "1.5.0",
     "model_name": "HTMLModel",
     "state": {
      "_dom_classes": [],
      "_model_module": "@jupyter-widgets/controls",
      "_model_module_version": "1.5.0",
      "_model_name": "HTMLModel",
      "_view_count": null,
      "_view_module": "@jupyter-widgets/controls",
      "_view_module_version": "1.5.0",
      "_view_name": "HTMLView",
      "description": "",
      "description_tooltip": null,
      "layout": "IPY_MODEL_245a3a9fbb7b4e358ed989726e217d55",
      "placeholder": "​",
      "style": "IPY_MODEL_09c6bacd617a4b149dfd613afa4d22b1",
      "value": " 22250/22250 [09:26&lt;00:00, 55.22it/s]"
     }
    },
    "216f84119e4b46a58d30cba399f60293": {
     "model_module": "@jupyter-widgets/controls",
     "model_module_version": "1.5.0",
     "model_name": "HTMLModel",
     "state": {
      "_dom_classes": [],
      "_model_module": "@jupyter-widgets/controls",
      "_model_module_version": "1.5.0",
      "_model_name": "HTMLModel",
      "_view_count": null,
      "_view_module": "@jupyter-widgets/controls",
      "_view_module_version": "1.5.0",
      "_view_name": "HTMLView",
      "description": "",
      "description_tooltip": null,
      "layout": "IPY_MODEL_70029fe88bc14ebd82c8c6a792fd7b5e",
      "placeholder": "​",
      "style": "IPY_MODEL_234c574b168740d698d981d3bc8ae903",
      "value": "Encoding reviews: 100%"
     }
    },
    "234c574b168740d698d981d3bc8ae903": {
     "model_module": "@jupyter-widgets/controls",
     "model_module_version": "1.5.0",
     "model_name": "DescriptionStyleModel",
     "state": {
      "_model_module": "@jupyter-widgets/controls",
      "_model_module_version": "1.5.0",
      "_model_name": "DescriptionStyleModel",
      "_view_count": null,
      "_view_module": "@jupyter-widgets/base",
      "_view_module_version": "1.2.0",
      "_view_name": "StyleView",
      "description_width": ""
     }
    },
    "245a3a9fbb7b4e358ed989726e217d55": {
     "model_module": "@jupyter-widgets/base",
     "model_module_version": "1.2.0",
     "model_name": "LayoutModel",
     "state": {
      "_model_module": "@jupyter-widgets/base",
      "_model_module_version": "1.2.0",
      "_model_name": "LayoutModel",
      "_view_count": null,
      "_view_module": "@jupyter-widgets/base",
      "_view_module_version": "1.2.0",
      "_view_name": "LayoutView",
      "align_content": null,
      "align_items": null,
      "align_self": null,
      "border": null,
      "bottom": null,
      "display": null,
      "flex": null,
      "flex_flow": null,
      "grid_area": null,
      "grid_auto_columns": null,
      "grid_auto_flow": null,
      "grid_auto_rows": null,
      "grid_column": null,
      "grid_gap": null,
      "grid_row": null,
      "grid_template_areas": null,
      "grid_template_columns": null,
      "grid_template_rows": null,
      "height": null,
      "justify_content": null,
      "justify_items": null,
      "left": null,
      "margin": null,
      "max_height": null,
      "max_width": null,
      "min_height": null,
      "min_width": null,
      "object_fit": null,
      "object_position": null,
      "order": null,
      "overflow": null,
      "overflow_x": null,
      "overflow_y": null,
      "padding": null,
      "right": null,
      "top": null,
      "visibility": null,
      "width": null
     }
    },
    "44b81d23fe5a463cac7c7268d53f0175": {
     "model_module": "@jupyter-widgets/controls",
     "model_module_version": "1.5.0",
     "model_name": "ProgressStyleModel",
     "state": {
      "_model_module": "@jupyter-widgets/controls",
      "_model_module_version": "1.5.0",
      "_model_name": "ProgressStyleModel",
      "_view_count": null,
      "_view_module": "@jupyter-widgets/base",
      "_view_module_version": "1.2.0",
      "_view_name": "StyleView",
      "bar_color": null,
      "description_width": ""
     }
    },
    "4ed76aa2a0fa4a1d9a46cff50e759e4d": {
     "model_module": "@jupyter-widgets/base",
     "model_module_version": "1.2.0",
     "model_name": "LayoutModel",
     "state": {
      "_model_module": "@jupyter-widgets/base",
      "_model_module_version": "1.2.0",
      "_model_name": "LayoutModel",
      "_view_count": null,
      "_view_module": "@jupyter-widgets/base",
      "_view_module_version": "1.2.0",
      "_view_name": "LayoutView",
      "align_content": null,
      "align_items": null,
      "align_self": null,
      "border": null,
      "bottom": null,
      "display": null,
      "flex": null,
      "flex_flow": null,
      "grid_area": null,
      "grid_auto_columns": null,
      "grid_auto_flow": null,
      "grid_auto_rows": null,
      "grid_column": null,
      "grid_gap": null,
      "grid_row": null,
      "grid_template_areas": null,
      "grid_template_columns": null,
      "grid_template_rows": null,
      "height": null,
      "justify_content": null,
      "justify_items": null,
      "left": null,
      "margin": null,
      "max_height": null,
      "max_width": null,
      "min_height": null,
      "min_width": null,
      "object_fit": null,
      "object_position": null,
      "order": null,
      "overflow": null,
      "overflow_x": null,
      "overflow_y": null,
      "padding": null,
      "right": null,
      "top": null,
      "visibility": null,
      "width": null
     }
    },
    "70029fe88bc14ebd82c8c6a792fd7b5e": {
     "model_module": "@jupyter-widgets/base",
     "model_module_version": "1.2.0",
     "model_name": "LayoutModel",
     "state": {
      "_model_module": "@jupyter-widgets/base",
      "_model_module_version": "1.2.0",
      "_model_name": "LayoutModel",
      "_view_count": null,
      "_view_module": "@jupyter-widgets/base",
      "_view_module_version": "1.2.0",
      "_view_name": "LayoutView",
      "align_content": null,
      "align_items": null,
      "align_self": null,
      "border": null,
      "bottom": null,
      "display": null,
      "flex": null,
      "flex_flow": null,
      "grid_area": null,
      "grid_auto_columns": null,
      "grid_auto_flow": null,
      "grid_auto_rows": null,
      "grid_column": null,
      "grid_gap": null,
      "grid_row": null,
      "grid_template_areas": null,
      "grid_template_columns": null,
      "grid_template_rows": null,
      "height": null,
      "justify_content": null,
      "justify_items": null,
      "left": null,
      "margin": null,
      "max_height": null,
      "max_width": null,
      "min_height": null,
      "min_width": null,
      "object_fit": null,
      "object_position": null,
      "order": null,
      "overflow": null,
      "overflow_x": null,
      "overflow_y": null,
      "padding": null,
      "right": null,
      "top": null,
      "visibility": null,
      "width": null
     }
    },
    "81ae30f774174e868fbf741632e0e4db": {
     "model_module": "@jupyter-widgets/base",
     "model_module_version": "1.2.0",
     "model_name": "LayoutModel",
     "state": {
      "_model_module": "@jupyter-widgets/base",
      "_model_module_version": "1.2.0",
      "_model_name": "LayoutModel",
      "_view_count": null,
      "_view_module": "@jupyter-widgets/base",
      "_view_module_version": "1.2.0",
      "_view_name": "LayoutView",
      "align_content": null,
      "align_items": null,
      "align_self": null,
      "border": null,
      "bottom": null,
      "display": null,
      "flex": null,
      "flex_flow": null,
      "grid_area": null,
      "grid_auto_columns": null,
      "grid_auto_flow": null,
      "grid_auto_rows": null,
      "grid_column": null,
      "grid_gap": null,
      "grid_row": null,
      "grid_template_areas": null,
      "grid_template_columns": null,
      "grid_template_rows": null,
      "height": null,
      "justify_content": null,
      "justify_items": null,
      "left": null,
      "margin": null,
      "max_height": null,
      "max_width": null,
      "min_height": null,
      "min_width": null,
      "object_fit": null,
      "object_position": null,
      "order": null,
      "overflow": null,
      "overflow_x": null,
      "overflow_y": null,
      "padding": null,
      "right": null,
      "top": null,
      "visibility": null,
      "width": null
     }
    },
    "f092e8baec114dc9b91e251f9c84eecd": {
     "model_module": "@jupyter-widgets/controls",
     "model_module_version": "1.5.0",
     "model_name": "HBoxModel",
     "state": {
      "_dom_classes": [],
      "_model_module": "@jupyter-widgets/controls",
      "_model_module_version": "1.5.0",
      "_model_name": "HBoxModel",
      "_view_count": null,
      "_view_module": "@jupyter-widgets/controls",
      "_view_module_version": "1.5.0",
      "_view_name": "HBoxView",
      "box_style": "",
      "children": [
       "IPY_MODEL_216f84119e4b46a58d30cba399f60293",
       "IPY_MODEL_f462e09e1c604bd480e2082734d4881d",
       "IPY_MODEL_15dab276f0614a4b81321552677c82b0"
      ],
      "layout": "IPY_MODEL_81ae30f774174e868fbf741632e0e4db"
     }
    },
    "f462e09e1c604bd480e2082734d4881d": {
     "model_module": "@jupyter-widgets/controls",
     "model_module_version": "1.5.0",
     "model_name": "FloatProgressModel",
     "state": {
      "_dom_classes": [],
      "_model_module": "@jupyter-widgets/controls",
      "_model_module_version": "1.5.0",
      "_model_name": "FloatProgressModel",
      "_view_count": null,
      "_view_module": "@jupyter-widgets/controls",
      "_view_module_version": "1.5.0",
      "_view_name": "ProgressView",
      "bar_style": "success",
      "description": "",
      "description_tooltip": null,
      "layout": "IPY_MODEL_4ed76aa2a0fa4a1d9a46cff50e759e4d",
      "max": 22250,
      "min": 0,
      "orientation": "horizontal",
      "style": "IPY_MODEL_44b81d23fe5a463cac7c7268d53f0175",
      "value": 22250
     }
    }
   }
  }
 },
 "nbformat": 4,
 "nbformat_minor": 5
}
