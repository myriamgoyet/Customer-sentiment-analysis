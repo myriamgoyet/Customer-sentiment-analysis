{
 "cells": [
  {
   "cell_type": "code",
   "execution_count": 49,
   "id": "99bca030",
   "metadata": {},
   "outputs": [],
   "source": [
    "import pandas as pd"
   ]
  },
  {
   "cell_type": "code",
   "execution_count": 50,
   "id": "dec41fbc",
   "metadata": {},
   "outputs": [],
   "source": [
    "df1 = pd.read_csv(\"data/cleaned_data.csv\")"
   ]
  },
  {
   "cell_type": "markdown",
   "id": "35be613b",
   "metadata": {},
   "source": [
    "# EDA"
   ]
  },
  {
   "cell_type": "code",
   "execution_count": 51,
   "id": "f9f3bc4e",
   "metadata": {},
   "outputs": [
    {
     "data": {
      "text/plain": [
       "actual_sentiment\n",
       "positive    43.501124\n",
       "negative    42.413483\n",
       "neutral     14.085393\n",
       "Name: proportion, dtype: float64"
      ]
     },
     "execution_count": 51,
     "metadata": {},
     "output_type": "execute_result"
    }
   ],
   "source": [
    "df1[\"actual_sentiment\"].value_counts(normalize=True, dropna=False) * 100"
   ]
  },
  {
   "cell_type": "code",
   "execution_count": 52,
   "id": "18289402",
   "metadata": {},
   "outputs": [
    {
     "data": {
      "text/plain": [
       "rating\n",
       "1    32.359551\n",
       "5    27.577528\n",
       "4    15.923596\n",
       "3    14.085393\n",
       "2    10.053933\n",
       "Name: proportion, dtype: float64"
      ]
     },
     "execution_count": 52,
     "metadata": {},
     "output_type": "execute_result"
    }
   ],
   "source": [
    "df1[\"rating\"].value_counts(normalize=True, dropna=False) * 100"
   ]
  },
  {
   "cell_type": "code",
   "execution_count": 53,
   "id": "76da7ffe",
   "metadata": {},
   "outputs": [
    {
     "data": {
      "text/plain": [
       "City\n",
       "New York             11.775281\n",
       "Orlando              10.022472\n",
       "Austin                5.649438\n",
       "Los Angeles           4.606742\n",
       "Miami                 4.480899\n",
       "Dallas                4.422472\n",
       "Queens                4.274157\n",
       "Kissimmee             4.224719\n",
       "Las Vegas             4.170787\n",
       "Salt Lake City        3.973034\n",
       "San Diego             3.896629\n",
       "North Hollywood       3.128090\n",
       "Honolulu              2.930337\n",
       "Sunnyvale             2.925843\n",
       "Fern Park             2.921348\n",
       "Newark                2.687640\n",
       "Santa Monica          2.633708\n",
       "Miami Beach           2.539326\n",
       "San Antonio           2.525843\n",
       "Oak Park              2.498876\n",
       "Champlain             2.485393\n",
       "Brodheadsville        2.301124\n",
       "Washington            2.053933\n",
       "Roanoke               2.013483\n",
       "Voorhees Township     1.946067\n",
       "Fort Worth            1.941573\n",
       "Annandale             0.970787\n",
       "Name: proportion, dtype: float64"
      ]
     },
     "execution_count": 53,
     "metadata": {},
     "output_type": "execute_result"
    }
   ],
   "source": [
    "df1[\"City\"].value_counts(normalize=True, dropna=False) * 100"
   ]
  },
  {
   "cell_type": "code",
   "execution_count": 54,
   "id": "1a8b13a1",
   "metadata": {},
   "outputs": [
    {
     "data": {
      "text/plain": [
       "State\n",
       "FL    24.188764\n",
       "NY    18.534831\n",
       "CA    17.191011\n",
       "TX    16.552809\n",
       "NJ     4.633708\n",
       "NV     4.170787\n",
       "UT     3.973034\n",
       "HI     2.930337\n",
       "IL     2.498876\n",
       "PA     2.301124\n",
       "DC     2.053933\n",
       "VA     0.970787\n",
       "Name: proportion, dtype: float64"
      ]
     },
     "execution_count": 54,
     "metadata": {},
     "output_type": "execute_result"
    }
   ],
   "source": [
    "df1[\"State\"].value_counts(normalize=True, dropna=False) * 100"
   ]
  },
  {
   "cell_type": "markdown",
   "id": "e369bed9",
   "metadata": {},
   "source": [
    "# Sentiment Analyser"
   ]
  },
  {
   "cell_type": "code",
   "execution_count": 55,
   "id": "d5bc2718",
   "metadata": {},
   "outputs": [],
   "source": [
    "df2 = df1.copy(deep = True)"
   ]
  },
  {
   "cell_type": "markdown",
   "id": "dd2c25b8",
   "metadata": {},
   "source": [
    "## Using NLTK’s Pre-Trained Sentiment Analyzer:"
   ]
  },
  {
   "cell_type": "code",
   "execution_count": 56,
   "id": "c3bae3c7",
   "metadata": {},
   "outputs": [
    {
     "name": "stdout",
     "output_type": "stream",
     "text": [
      "   sentiment_score_SIA sentiment_SIA actual_sentiment  \\\n",
      "0               0.5541      positive         negative   \n",
      "1               0.8591      positive         positive   \n",
      "2              -0.2960      negative         negative   \n",
      "3               0.0000       neutral         positive   \n",
      "4              -0.7184      negative         negative   \n",
      "\n",
      "                                              review  \n",
      "0  Why does it look like someone spit on my food?...  \n",
      "1  It'd McDonalds. It is what it is as far as the...  \n",
      "2  Made a mobile order got to the speaker and che...  \n",
      "3  My mc. Crispy chicken sandwich was ..............  \n",
      "4  I repeat my order 3 times in the drive thru, a...  \n"
     ]
    }
   ],
   "source": [
    "from nltk.sentiment import SentimentIntensityAnalyzer \n",
    "\n",
    "\n",
    "analyzer = SentimentIntensityAnalyzer()\n",
    "\n",
    "#Sentiment score from -1 (very negative) to 1 (very positive)\n",
    "df2['sentiment_score_SIA'] = df2['tokenized_reviews'].apply(lambda text: analyzer.polarity_scores(str(text))['compound'])\n",
    "df2['sentiment_SIA'] = None\n",
    "\n",
    "df2['sentiment_SIA'] = df2['sentiment_score_SIA'].apply(lambda score: 'positive' if score >= 0.4 else ('negative' if score <= -0.1 else 'neutral'))\n",
    "print(df2[['sentiment_score_SIA', 'sentiment_SIA', 'actual_sentiment', \"review\"]].head())"
   ]
  },
  {
   "cell_type": "code",
   "execution_count": 57,
   "id": "d4a4776a",
   "metadata": {},
   "outputs": [
    {
     "data": {
      "text/plain": [
       "<Figure size 800x600 with 0 Axes>"
      ]
     },
     "metadata": {},
     "output_type": "display_data"
    },
    {
     "data": {
      "image/png": "[encoded data removed]",
      "text/plain": [
       "<Figure size 800x600 with 1 Axes>"
      ]
     },
     "metadata": {},
     "output_type": "display_data"
    }
   ],
   "source": [
    "import matplotlib.pyplot as plt\n",
    "import seaborn as sns\n",
    "\n",
    "plt.figure(figsize=(8, 6))\n",
    "\n",
    "# Compute percentages and convert format for seaborn\n",
    "rates = df2.groupby(['sentiment_SIA', 'actual_sentiment']).size().unstack().fillna(0)\n",
    "rates = rates.div(rates.sum(axis=1), axis=0) * 100\n",
    "rates_long = rates.reset_index().melt(id_vars='sentiment_SIA', value_name='percentage')\n",
    "\n",
    "# Creat graph\n",
    "plt.figure(figsize=(8, 6))\n",
    "ax = sns.barplot(data=rates_long, x='sentiment_SIA', y='percentage', hue='actual_sentiment')\n",
    "\n",
    "for p in ax.patches:\n",
    "    height = p.get_height()\n",
    "    ax.annotate(f'{height:.1f}%', (p.get_x() + p.get_width() / 2., height),\n",
    "                ha='center', va='bottom')\n",
    "\n",
    "plt.title('Model Coherence vs. Actual Sentiment')\n",
    "plt.xlabel('Sentiment from model SIA')\n",
    "plt.ylabel('Percentage')\n",
    "plt.legend(title='actual sentiment from rating')\n",
    "plt.xticks(rotation=0)\n",
    "\n",
    "plt.show()"
   ]
  },
  {
   "cell_type": "markdown",
   "id": "54eeb514",
   "metadata": {},
   "source": [
    "## Model Text_classification from DistilBERT"
   ]
  },
  {
   "cell_type": "code",
   "execution_count": null,
   "id": "b901ed92",
   "metadata": {},
   "outputs": [
    {
     "name": "stderr",
     "output_type": "stream",
     "text": [
      "Device set to use cpu\n"
     ]
    },
    {
     "data": {
      "application/vnd.jupyter.widget-view+json": {
       "model_id": "5116ad3b3cca4b6f8a3fcdbae99e1e80",
       "version_major": 2,
       "version_minor": 0
      },
      "text/plain": [
       "Processing reviews:   0%|          | 0/22250 [00:00<?, ?it/s]"
      ]
     },
     "metadata": {},
     "output_type": "display_data"
    }
   ],
   "source": [
    "from transformers import pipeline\n",
    "from tqdm.notebook import tqdm\n",
    "\n",
    "pipe = pipeline(\"text-classification\", model=\"distilbert-base-uncased-finetuned-sst-2-english\", truncation=True, max_length=512) #model par défaut. tronqué car il ne support pas les reviews de plus de 512 tokens\n",
    "\n",
    "reviews = df2[\"review\"].tolist()\n",
    "\n",
    "results = []\n",
    "for review in tqdm(reviews, desc=\"Processing reviews\"):\n",
    "    result = pipe(review)\n",
    "    results.append(result)\n",
    "\n",
    "df2['DistilBERT'] = results"
   ]
  },
  {
   "cell_type": "code",
   "execution_count": null,
   "id": "ab6ff2e6",
   "metadata": {},
   "outputs": [
    {
     "data": {
      "text/plain": [
       "[{'label': 'NEGATIVE', 'score': 0.9991506338119507}]"
      ]
     },
     "execution_count": 35,
     "metadata": {},
     "output_type": "execute_result"
    }
   ],
   "source": [
    "df2['DistilBERT'][0]"
   ]
  },
  {
   "cell_type": "code",
   "execution_count": null,
   "id": "f68c69d1",
   "metadata": {},
   "outputs": [],
   "source": [
    "for i in df2.index:\n",
    "    result = df2.loc[i, \"DistilBERT\"][0]\n",
    "    df2.loc[i, \"DistilBERT_sentiment\"] = result[\"label\"]\n",
    "    df2.loc[i, \"DistilBERT_score\"] = result[\"score\"]\n",
    "\n",
    "df2 = df2.drop([\"DistilBERT\"], axis=1)"
   ]
  },
  {
   "cell_type": "code",
   "execution_count": null,
   "id": "96dd2794",
   "metadata": {},
   "outputs": [
    {
     "data": {
      "text/plain": [
       "<Figure size 800x600 with 0 Axes>"
      ]
     },
     "metadata": {},
     "output_type": "display_data"
    },
    {
     "data": {
      "image/png": "[encoded data removed]",
      "text/plain": [
       "<Figure size 800x600 with 1 Axes>"
      ]
     },
     "metadata": {},
     "output_type": "display_data"
    }
   ],
   "source": [
    "plt.figure(figsize=(8, 6))\n",
    "\n",
    "# Calculer les pourcentages\n",
    "rates = df2.groupby(['DistilBERT_sentiment', 'actual_sentiment']).size().unstack().fillna(0)\n",
    "rates = rates.div(rates.sum(axis=1), axis=0) * 100\n",
    "\n",
    "# Convertir les taux en format long pour seaborn\n",
    "rates_long = rates.reset_index().melt(id_vars='DistilBERT_sentiment', value_name='percentage')\n",
    "\n",
    "# Créer le diagramme en bâtons avec seaborn\n",
    "plt.figure(figsize=(8, 6))\n",
    "ax = sns.barplot(data=rates_long, x='DistilBERT_sentiment', y='percentage', hue='actual_sentiment')\n",
    "\n",
    "# Ajouter des annotations\n",
    "for p in ax.patches:\n",
    "    height = p.get_height()\n",
    "    ax.annotate(f'{height:.1f}%', (p.get_x() + p.get_width() / 2., height),\n",
    "                ha='center', va='bottom')\n",
    "\n",
    "plt.title('Model Coherence vs. Actual Sentiment')\n",
    "plt.xlabel('Sentiment from model DistilBERT')\n",
    "plt.ylabel('Percentage')\n",
    "plt.xticks(rotation=0)\n",
    "plt.legend(title='actual sentiment from rating')\n",
    "plt.show()"
   ]
  },
  {
   "cell_type": "markdown",
   "id": "9504d5fd",
   "metadata": {},
   "source": [
    "## Model RoBERTa"
   ]
  },
  {
   "cell_type": "code",
   "execution_count": 40,
   "id": "61e812f5",
   "metadata": {},
   "outputs": [
    {
     "data": {
      "application/vnd.jupyter.widget-view+json": {
       "model_id": "7d03e28ebf3f4dc68b8421d8171d93b8",
       "version_major": 2,
       "version_minor": 0
      },
      "text/plain": [
       "config.json:   0%|          | 0.00/747 [00:00<?, ?B/s]"
      ]
     },
     "metadata": {},
     "output_type": "display_data"
    },
    {
     "name": "stderr",
     "output_type": "stream",
     "text": [
      "c:\\Users\\Myriam\\anaconda3\\envs\\myenv\\lib\\site-packages\\huggingface_hub\\file_download.py:144: UserWarning: `huggingface_hub` cache-system uses symlinks by default to efficiently store duplicated files but your machine does not support them in C:\\Users\\Myriam\\.cache\\huggingface\\hub\\models--cardiffnlp--twitter-roberta-base-sentiment. Caching files will still work but in a degraded version that might require more space on your disk. This warning can be disabled by setting the `HF_HUB_DISABLE_SYMLINKS_WARNING` environment variable. For more details, see https://huggingface.co/docs/huggingface_hub/how-to-cache#limitations.\n",
      "To support symlinks on Windows, you either need to activate Developer Mode or to run Python as an administrator. In order to activate developer mode, see this article: https://docs.microsoft.com/en-us/windows/apps/get-started/enable-your-device-for-development\n",
      "  warnings.warn(message)\n",
      "Xet Storage is enabled for this repo, but the 'hf_xet' package is not installed. Falling back to regular HTTP download. For better performance, install the package with: `pip install huggingface_hub[hf_xet]` or `pip install hf_xet`\n"
     ]
    },
    {
     "data": {
      "application/vnd.jupyter.widget-view+json": {
       "model_id": "dfb2799898864430b5890b2f751f618e",
       "version_major": 2,
       "version_minor": 0
      },
      "text/plain": [
       "pytorch_model.bin:   0%|          | 0.00/499M [00:00<?, ?B/s]"
      ]
     },
     "metadata": {},
     "output_type": "display_data"
    },
    {
     "data": {
      "application/vnd.jupyter.widget-view+json": {
       "model_id": "0f328458ee4b415cb337cded4278a8dc",
       "version_major": 2,
       "version_minor": 0
      },
      "text/plain": [
       "vocab.json:   0%|          | 0.00/899k [00:00<?, ?B/s]"
      ]
     },
     "metadata": {},
     "output_type": "display_data"
    },
    {
     "name": "stderr",
     "output_type": "stream",
     "text": [
      "Xet Storage is enabled for this repo, but the 'hf_xet' package is not installed. Falling back to regular HTTP download. For better performance, install the package with: `pip install huggingface_hub[hf_xet]` or `pip install hf_xet`\n"
     ]
    },
    {
     "data": {
      "application/vnd.jupyter.widget-view+json": {
       "model_id": "34e33c2f10274808bd00f0e3af50f708",
       "version_major": 2,
       "version_minor": 0
      },
      "text/plain": [
       "model.safetensors:   0%|          | 0.00/499M [00:00<?, ?B/s]"
      ]
     },
     "metadata": {},
     "output_type": "display_data"
    },
    {
     "data": {
      "application/vnd.jupyter.widget-view+json": {
       "model_id": "50bd83b6f5ed41469a13400ded26c9c0",
       "version_major": 2,
       "version_minor": 0
      },
      "text/plain": [
       "merges.txt:   0%|          | 0.00/456k [00:00<?, ?B/s]"
      ]
     },
     "metadata": {},
     "output_type": "display_data"
    },
    {
     "data": {
      "application/vnd.jupyter.widget-view+json": {
       "model_id": "1c1f91e5509c41aa814dfb4e739874b3",
       "version_major": 2,
       "version_minor": 0
      },
      "text/plain": [
       "special_tokens_map.json:   0%|          | 0.00/150 [00:00<?, ?B/s]"
      ]
     },
     "metadata": {},
     "output_type": "display_data"
    },
    {
     "name": "stderr",
     "output_type": "stream",
     "text": [
      "Device set to use cpu\n"
     ]
    }
   ],
   "source": [
    "# Load model\n",
    "from transformers import pipeline\n",
    "\n",
    "# Initialize the sentiment analysis pipeline\n",
    "model_roberta = pipeline(\"text-classification\", model=\"cardiffnlp/twitter-roberta-base-sentiment\")"
   ]
  },
  {
   "cell_type": "code",
   "execution_count": null,
   "id": "d9a0d4f4",
   "metadata": {},
   "outputs": [],
   "source": [
    "non_string = (df2['clean_reviews'].apply(lambda x: not isinstance(x, str))==True)"
   ]
  },
  {
   "cell_type": "code",
   "execution_count": 48,
   "id": "11fc5de5",
   "metadata": {},
   "outputs": [
    {
     "data": {
      "text/html": [
       "<div>\n",
       "<style scoped>\n",
       "    .dataframe tbody tr th:only-of-type {\n",
       "        vertical-align: middle;\n",
       "    }\n",
       "\n",
       "    .dataframe tbody tr th {\n",
       "        vertical-align: top;\n",
       "    }\n",
       "\n",
       "    .dataframe thead th {\n",
       "        text-align: right;\n",
       "    }\n",
       "</style>\n",
       "<table border=\"1\" class=\"dataframe\">\n",
       "  <thead>\n",
       "    <tr style=\"text-align: right;\">\n",
       "      <th></th>\n",
       "      <th>reviewer_id</th>\n",
       "      <th>store_address</th>\n",
       "      <th>latitude</th>\n",
       "      <th>longitude</th>\n",
       "      <th>City</th>\n",
       "      <th>State</th>\n",
       "      <th>review</th>\n",
       "      <th>rating</th>\n",
       "      <th>review_date</th>\n",
       "      <th>clean_reviews</th>\n",
       "      <th>tokenized_reviews</th>\n",
       "      <th>actual_sentiment</th>\n",
       "      <th>sentiment_score_SIA</th>\n",
       "      <th>sentiment_SIA</th>\n",
       "      <th>DistilBERT_sentiment</th>\n",
       "      <th>DistilBERT_score</th>\n",
       "      <th>Roberta</th>\n",
       "    </tr>\n",
       "  </thead>\n",
       "  <tbody>\n",
       "    <tr>\n",
       "      <th>571</th>\n",
       "      <td>605</td>\n",
       "      <td>13749 US-183 Hwy</td>\n",
       "      <td>30.460718</td>\n",
       "      <td>-97.792874</td>\n",
       "      <td>Austin</td>\n",
       "      <td>TX</td>\n",
       "      <td>.... ...</td>\n",
       "      <td>5</td>\n",
       "      <td>2022-04-15</td>\n",
       "      <td>NaN</td>\n",
       "      <td>NaN</td>\n",
       "      <td>positive</td>\n",
       "      <td>0.0</td>\n",
       "      <td>neutral</td>\n",
       "      <td>NEGATIVE</td>\n",
       "      <td>0.694801</td>\n",
       "      <td>{}</td>\n",
       "    </tr>\n",
       "    <tr>\n",
       "      <th>1964</th>\n",
       "      <td>2765</td>\n",
       "      <td>72-69 Kissena Blvd</td>\n",
       "      <td>40.727401</td>\n",
       "      <td>-73.812460</td>\n",
       "      <td>Queens</td>\n",
       "      <td>NY</td>\n",
       "      <td>............ ...</td>\n",
       "      <td>5</td>\n",
       "      <td>2021-04-15</td>\n",
       "      <td>NaN</td>\n",
       "      <td>NaN</td>\n",
       "      <td>positive</td>\n",
       "      <td>0.0</td>\n",
       "      <td>neutral</td>\n",
       "      <td>NEGATIVE</td>\n",
       "      <td>0.970724</td>\n",
       "      <td>{}</td>\n",
       "    </tr>\n",
       "    <tr>\n",
       "      <th>2048</th>\n",
       "      <td>2903</td>\n",
       "      <td>72-69 Kissena Blvd</td>\n",
       "      <td>40.727401</td>\n",
       "      <td>-73.812460</td>\n",
       "      <td>Queens</td>\n",
       "      <td>NY</td>\n",
       "      <td>................ ...</td>\n",
       "      <td>3</td>\n",
       "      <td>2023-04-15</td>\n",
       "      <td>NaN</td>\n",
       "      <td>NaN</td>\n",
       "      <td>neutral</td>\n",
       "      <td>0.0</td>\n",
       "      <td>neutral</td>\n",
       "      <td>NEGATIVE</td>\n",
       "      <td>0.969970</td>\n",
       "      <td>{}</td>\n",
       "    </tr>\n",
       "    <tr>\n",
       "      <th>2596</th>\n",
       "      <td>3567</td>\n",
       "      <td>429 7th Ave</td>\n",
       "      <td>40.750506</td>\n",
       "      <td>-73.990583</td>\n",
       "      <td>New York</td>\n",
       "      <td>NY</td>\n",
       "      <td>.................... ...</td>\n",
       "      <td>1</td>\n",
       "      <td>2021-04-15</td>\n",
       "      <td>NaN</td>\n",
       "      <td>NaN</td>\n",
       "      <td>negative</td>\n",
       "      <td>0.0</td>\n",
       "      <td>neutral</td>\n",
       "      <td>NEGATIVE</td>\n",
       "      <td>0.967011</td>\n",
       "      <td>{}</td>\n",
       "    </tr>\n",
       "    <tr>\n",
       "      <th>2712</th>\n",
       "      <td>3687</td>\n",
       "      <td>429 7th Ave</td>\n",
       "      <td>40.750506</td>\n",
       "      <td>-73.990583</td>\n",
       "      <td>New York</td>\n",
       "      <td>NY</td>\n",
       "      <td>........ ...</td>\n",
       "      <td>5</td>\n",
       "      <td>2025-01-15</td>\n",
       "      <td>NaN</td>\n",
       "      <td>NaN</td>\n",
       "      <td>positive</td>\n",
       "      <td>0.0</td>\n",
       "      <td>neutral</td>\n",
       "      <td>NEGATIVE</td>\n",
       "      <td>0.963328</td>\n",
       "      <td>{}</td>\n",
       "    </tr>\n",
       "    <tr>\n",
       "      <th>3302</th>\n",
       "      <td>4666</td>\n",
       "      <td>724 Broadway</td>\n",
       "      <td>40.729126</td>\n",
       "      <td>-73.993264</td>\n",
       "      <td>New York</td>\n",
       "      <td>NY</td>\n",
       "      <td># 3</td>\n",
       "      <td>5</td>\n",
       "      <td>2021-04-15</td>\n",
       "      <td>NaN</td>\n",
       "      <td>NaN</td>\n",
       "      <td>positive</td>\n",
       "      <td>0.0</td>\n",
       "      <td>neutral</td>\n",
       "      <td>POSITIVE</td>\n",
       "      <td>0.998685</td>\n",
       "      <td>{}</td>\n",
       "    </tr>\n",
       "    <tr>\n",
       "      <th>3466</th>\n",
       "      <td>4899</td>\n",
       "      <td>724 Broadway</td>\n",
       "      <td>40.729126</td>\n",
       "      <td>-73.993264</td>\n",
       "      <td>New York</td>\n",
       "      <td>NY</td>\n",
       "      <td>................................ ...</td>\n",
       "      <td>5</td>\n",
       "      <td>2022-04-15</td>\n",
       "      <td>NaN</td>\n",
       "      <td>NaN</td>\n",
       "      <td>positive</td>\n",
       "      <td>0.0</td>\n",
       "      <td>neutral</td>\n",
       "      <td>NEGATIVE</td>\n",
       "      <td>0.960141</td>\n",
       "      <td>{}</td>\n",
       "    </tr>\n",
       "    <tr>\n",
       "      <th>5395</th>\n",
       "      <td>7459</td>\n",
       "      <td>550 Lawrence Expy</td>\n",
       "      <td>37.385495</td>\n",
       "      <td>-121.995421</td>\n",
       "      <td>Sunnyvale</td>\n",
       "      <td>CA</td>\n",
       "      <td>...</td>\n",
       "      <td>3</td>\n",
       "      <td>2022-04-15</td>\n",
       "      <td>NaN</td>\n",
       "      <td>NaN</td>\n",
       "      <td>neutral</td>\n",
       "      <td>0.0</td>\n",
       "      <td>neutral</td>\n",
       "      <td>POSITIVE</td>\n",
       "      <td>0.958502</td>\n",
       "      <td>{}</td>\n",
       "    </tr>\n",
       "    <tr>\n",
       "      <th>5533</th>\n",
       "      <td>7647</td>\n",
       "      <td>550 Lawrence Expy</td>\n",
       "      <td>37.385495</td>\n",
       "      <td>-121.995421</td>\n",
       "      <td>Sunnyvale</td>\n",
       "      <td>CA</td>\n",
       "      <td>................</td>\n",
       "      <td>4</td>\n",
       "      <td>2024-08-15</td>\n",
       "      <td>NaN</td>\n",
       "      <td>NaN</td>\n",
       "      <td>positive</td>\n",
       "      <td>0.0</td>\n",
       "      <td>neutral</td>\n",
       "      <td>NEGATIVE</td>\n",
       "      <td>0.971252</td>\n",
       "      <td>{}</td>\n",
       "    </tr>\n",
       "    <tr>\n",
       "      <th>6040</th>\n",
       "      <td>8256</td>\n",
       "      <td>11382 US-441</td>\n",
       "      <td>28.399986</td>\n",
       "      <td>-81.405103</td>\n",
       "      <td>Orlando</td>\n",
       "      <td>FL</td>\n",
       "      <td>........</td>\n",
       "      <td>3</td>\n",
       "      <td>2024-09-15</td>\n",
       "      <td>NaN</td>\n",
       "      <td>NaN</td>\n",
       "      <td>neutral</td>\n",
       "      <td>0.0</td>\n",
       "      <td>neutral</td>\n",
       "      <td>NEGATIVE</td>\n",
       "      <td>0.871021</td>\n",
       "      <td>{}</td>\n",
       "    </tr>\n",
       "    <tr>\n",
       "      <th>12274</th>\n",
       "      <td>15019</td>\n",
       "      <td>111 Madison St</td>\n",
       "      <td>41.879656</td>\n",
       "      <td>-87.777913</td>\n",
       "      <td>Oak Park</td>\n",
       "      <td>IL</td>\n",
       "      <td>.....................</td>\n",
       "      <td>3</td>\n",
       "      <td>2024-06-15</td>\n",
       "      <td>NaN</td>\n",
       "      <td>NaN</td>\n",
       "      <td>neutral</td>\n",
       "      <td>0.0</td>\n",
       "      <td>neutral</td>\n",
       "      <td>NEGATIVE</td>\n",
       "      <td>0.969106</td>\n",
       "      <td>{}</td>\n",
       "    </tr>\n",
       "    <tr>\n",
       "      <th>15199</th>\n",
       "      <td>19670</td>\n",
       "      <td>621 Broadway</td>\n",
       "      <td>40.771910</td>\n",
       "      <td>-74.161475</td>\n",
       "      <td>Newark</td>\n",
       "      <td>NJ</td>\n",
       "      <td>?</td>\n",
       "      <td>2</td>\n",
       "      <td>2019-04-15</td>\n",
       "      <td>NaN</td>\n",
       "      <td>NaN</td>\n",
       "      <td>negative</td>\n",
       "      <td>0.0</td>\n",
       "      <td>neutral</td>\n",
       "      <td>NEGATIVE</td>\n",
       "      <td>0.985102</td>\n",
       "      <td>{}</td>\n",
       "    </tr>\n",
       "    <tr>\n",
       "      <th>15521</th>\n",
       "      <td>20457</td>\n",
       "      <td>2400 Alliance Gateway Fwy</td>\n",
       "      <td>32.958041</td>\n",
       "      <td>-97.307652</td>\n",
       "      <td>Fort Worth</td>\n",
       "      <td>TX</td>\n",
       "      <td>....................</td>\n",
       "      <td>5</td>\n",
       "      <td>2025-02-15</td>\n",
       "      <td>NaN</td>\n",
       "      <td>NaN</td>\n",
       "      <td>positive</td>\n",
       "      <td>0.0</td>\n",
       "      <td>neutral</td>\n",
       "      <td>NEGATIVE</td>\n",
       "      <td>0.969747</td>\n",
       "      <td>{}</td>\n",
       "    </tr>\n",
       "    <tr>\n",
       "      <th>18004</th>\n",
       "      <td>23463</td>\n",
       "      <td>5725 W Irlo Bronson Memorial Hwy</td>\n",
       "      <td>28.333508</td>\n",
       "      <td>-81.513738</td>\n",
       "      <td>Kissimmee</td>\n",
       "      <td>FL</td>\n",
       "      <td>......</td>\n",
       "      <td>5</td>\n",
       "      <td>2025-04-14</td>\n",
       "      <td>NaN</td>\n",
       "      <td>NaN</td>\n",
       "      <td>positive</td>\n",
       "      <td>0.0</td>\n",
       "      <td>neutral</td>\n",
       "      <td>POSITIVE</td>\n",
       "      <td>0.586115</td>\n",
       "      <td>{}</td>\n",
       "    </tr>\n",
       "    <tr>\n",
       "      <th>20793</th>\n",
       "      <td>29363</td>\n",
       "      <td>1415 E State Rd</td>\n",
       "      <td>28.655350</td>\n",
       "      <td>-81.342692</td>\n",
       "      <td>Fern Park</td>\n",
       "      <td>FL</td>\n",
       "      <td>.................................</td>\n",
       "      <td>5</td>\n",
       "      <td>2021-04-15</td>\n",
       "      <td>NaN</td>\n",
       "      <td>NaN</td>\n",
       "      <td>positive</td>\n",
       "      <td>0.0</td>\n",
       "      <td>neutral</td>\n",
       "      <td>NEGATIVE</td>\n",
       "      <td>0.958358</td>\n",
       "      <td>{}</td>\n",
       "    </tr>\n",
       "    <tr>\n",
       "      <th>21598</th>\n",
       "      <td>32069</td>\n",
       "      <td>632 S R L Thornton Freeway Service Rd</td>\n",
       "      <td>32.744596</td>\n",
       "      <td>-96.812286</td>\n",
       "      <td>Dallas</td>\n",
       "      <td>TX</td>\n",
       "      <td>.... .... ...</td>\n",
       "      <td>5</td>\n",
       "      <td>2023-04-15</td>\n",
       "      <td>NaN</td>\n",
       "      <td>NaN</td>\n",
       "      <td>positive</td>\n",
       "      <td>0.0</td>\n",
       "      <td>neutral</td>\n",
       "      <td>NEGATIVE</td>\n",
       "      <td>0.963328</td>\n",
       "      <td>{}</td>\n",
       "    </tr>\n",
       "    <tr>\n",
       "      <th>21919</th>\n",
       "      <td>32915</td>\n",
       "      <td>3501 Biscayne Blvd</td>\n",
       "      <td>25.810000</td>\n",
       "      <td>-80.189098</td>\n",
       "      <td>Miami</td>\n",
       "      <td>FL</td>\n",
       "      <td>....</td>\n",
       "      <td>3</td>\n",
       "      <td>2024-04-15</td>\n",
       "      <td>NaN</td>\n",
       "      <td>NaN</td>\n",
       "      <td>neutral</td>\n",
       "      <td>0.0</td>\n",
       "      <td>neutral</td>\n",
       "      <td>POSITIVE</td>\n",
       "      <td>0.947838</td>\n",
       "      <td>{}</td>\n",
       "    </tr>\n",
       "  </tbody>\n",
       "</table>\n",
       "</div>"
      ],
      "text/plain": [
       "       reviewer_id                          store_address   latitude  \\\n",
       "571            605                       13749 US-183 Hwy  30.460718   \n",
       "1964          2765                     72-69 Kissena Blvd  40.727401   \n",
       "2048          2903                     72-69 Kissena Blvd  40.727401   \n",
       "2596          3567                            429 7th Ave  40.750506   \n",
       "2712          3687                            429 7th Ave  40.750506   \n",
       "3302          4666                           724 Broadway  40.729126   \n",
       "3466          4899                           724 Broadway  40.729126   \n",
       "5395          7459                      550 Lawrence Expy  37.385495   \n",
       "5533          7647                      550 Lawrence Expy  37.385495   \n",
       "6040          8256                           11382 US-441  28.399986   \n",
       "12274        15019                         111 Madison St  41.879656   \n",
       "15199        19670                           621 Broadway  40.771910   \n",
       "15521        20457              2400 Alliance Gateway Fwy  32.958041   \n",
       "18004        23463       5725 W Irlo Bronson Memorial Hwy  28.333508   \n",
       "20793        29363                        1415 E State Rd  28.655350   \n",
       "21598        32069  632 S R L Thornton Freeway Service Rd  32.744596   \n",
       "21919        32915                     3501 Biscayne Blvd  25.810000   \n",
       "\n",
       "        longitude        City State                                review  \\\n",
       "571    -97.792874      Austin    TX                              .... ...   \n",
       "1964   -73.812460      Queens    NY                      ............ ...   \n",
       "2048   -73.812460      Queens    NY                  ................ ...   \n",
       "2596   -73.990583    New York    NY              .................... ...   \n",
       "2712   -73.990583    New York    NY                          ........ ...   \n",
       "3302   -73.993264    New York    NY                                   # 3   \n",
       "3466   -73.993264    New York    NY  ................................ ...   \n",
       "5395  -121.995421   Sunnyvale    CA                                   ...   \n",
       "5533  -121.995421   Sunnyvale    CA                      ................   \n",
       "6040   -81.405103     Orlando    FL                              ........   \n",
       "12274  -87.777913    Oak Park    IL                 .....................   \n",
       "15199  -74.161475      Newark    NJ                                     ?   \n",
       "15521  -97.307652  Fort Worth    TX                  ....................   \n",
       "18004  -81.513738   Kissimmee    FL                                ......   \n",
       "20793  -81.342692   Fern Park    FL     .................................   \n",
       "21598  -96.812286      Dallas    TX                         .... .... ...   \n",
       "21919  -80.189098       Miami    FL                                  ....   \n",
       "\n",
       "       rating review_date clean_reviews tokenized_reviews actual_sentiment  \\\n",
       "571         5  2022-04-15           NaN               NaN         positive   \n",
       "1964        5  2021-04-15           NaN               NaN         positive   \n",
       "2048        3  2023-04-15           NaN               NaN          neutral   \n",
       "2596        1  2021-04-15           NaN               NaN         negative   \n",
       "2712        5  2025-01-15           NaN               NaN         positive   \n",
       "3302        5  2021-04-15           NaN               NaN         positive   \n",
       "3466        5  2022-04-15           NaN               NaN         positive   \n",
       "5395        3  2022-04-15           NaN               NaN          neutral   \n",
       "5533        4  2024-08-15           NaN               NaN         positive   \n",
       "6040        3  2024-09-15           NaN               NaN          neutral   \n",
       "12274       3  2024-06-15           NaN               NaN          neutral   \n",
       "15199       2  2019-04-15           NaN               NaN         negative   \n",
       "15521       5  2025-02-15           NaN               NaN         positive   \n",
       "18004       5  2025-04-14           NaN               NaN         positive   \n",
       "20793       5  2021-04-15           NaN               NaN         positive   \n",
       "21598       5  2023-04-15           NaN               NaN         positive   \n",
       "21919       3  2024-04-15           NaN               NaN          neutral   \n",
       "\n",
       "       sentiment_score_SIA sentiment_SIA DistilBERT_sentiment  \\\n",
       "571                    0.0       neutral             NEGATIVE   \n",
       "1964                   0.0       neutral             NEGATIVE   \n",
       "2048                   0.0       neutral             NEGATIVE   \n",
       "2596                   0.0       neutral             NEGATIVE   \n",
       "2712                   0.0       neutral             NEGATIVE   \n",
       "3302                   0.0       neutral             POSITIVE   \n",
       "3466                   0.0       neutral             NEGATIVE   \n",
       "5395                   0.0       neutral             POSITIVE   \n",
       "5533                   0.0       neutral             NEGATIVE   \n",
       "6040                   0.0       neutral             NEGATIVE   \n",
       "12274                  0.0       neutral             NEGATIVE   \n",
       "15199                  0.0       neutral             NEGATIVE   \n",
       "15521                  0.0       neutral             NEGATIVE   \n",
       "18004                  0.0       neutral             POSITIVE   \n",
       "20793                  0.0       neutral             NEGATIVE   \n",
       "21598                  0.0       neutral             NEGATIVE   \n",
       "21919                  0.0       neutral             POSITIVE   \n",
       "\n",
       "       DistilBERT_score Roberta  \n",
       "571            0.694801      {}  \n",
       "1964           0.970724      {}  \n",
       "2048           0.969970      {}  \n",
       "2596           0.967011      {}  \n",
       "2712           0.963328      {}  \n",
       "3302           0.998685      {}  \n",
       "3466           0.960141      {}  \n",
       "5395           0.958502      {}  \n",
       "5533           0.971252      {}  \n",
       "6040           0.871021      {}  \n",
       "12274          0.969106      {}  \n",
       "15199          0.985102      {}  \n",
       "15521          0.969747      {}  \n",
       "18004          0.586115      {}  \n",
       "20793          0.958358      {}  \n",
       "21598          0.963328      {}  \n",
       "21919          0.947838      {}  "
      ]
     },
     "execution_count": 48,
     "metadata": {},
     "output_type": "execute_result"
    }
   ],
   "source": [
    "df2[non_string]"
   ]
  },
  {
   "cell_type": "code",
   "execution_count": null,
   "id": "d1622226",
   "metadata": {},
   "outputs": [
    {
     "data": {
      "application/vnd.jupyter.widget-view+json": {
       "model_id": "7fa649cdd7304a998f7ed9669260f76f",
       "version_major": 2,
       "version_minor": 0
      },
      "text/plain": [
       "  0%|          | 0/22267 [00:00<?, ?it/s]"
      ]
     },
     "metadata": {},
     "output_type": "display_data"
    },
    {
     "ename": "TypeError",
     "evalue": "object of type 'float' has no len()",
     "output_type": "error",
     "traceback": [
      "\u001b[1;31m---------------------------------------------------------------------------\u001b[0m",
      "\u001b[1;31mTypeError\u001b[0m                                 Traceback (most recent call last)",
      "Cell \u001b[1;32mIn[41], line 16\u001b[0m\n\u001b[0;32m     13\u001b[0m myid \u001b[38;5;241m=\u001b[39m i  \u001b[38;5;66;03m# Utiliser l'index comme identifiant\u001b[39;00m\n\u001b[0;32m     15\u001b[0m \u001b[38;5;66;03m# Tronquer le texte si nécessaire\u001b[39;00m\n\u001b[1;32m---> 16\u001b[0m \u001b[38;5;28;01mif\u001b[39;00m \u001b[38;5;28;43mlen\u001b[39;49m\u001b[43m(\u001b[49m\u001b[43mtext\u001b[49m\u001b[43m)\u001b[49m \u001b[38;5;241m>\u001b[39m max_length:\n\u001b[0;32m     17\u001b[0m     text \u001b[38;5;241m=\u001b[39m text[:max_length]\n\u001b[0;32m     19\u001b[0m roberta_result \u001b[38;5;241m=\u001b[39m model_roberta(text)\n",
      "\u001b[1;31mTypeError\u001b[0m: object of type 'float' has no len()"
     ]
    }
   ],
   "source": [
    "from tqdm.notebook import tqdm\n",
    "\n",
    "# Initialiser la colonne \"Roberta\" avec des dictionnaires vides\n",
    "df2[\"Roberta\"] = [{} for _ in range(len(df2))]\n",
    "\n",
    "# Définir la limite de longueur\n",
    "max_length = 514\n",
    "\n",
    "# Loop to each review in the dataset, the results are stored in a dictionary\n",
    "for i, row in tqdm(df3.iterrows(), total=len(df2)):\n",
    "    try:\n",
    "        text = row['clean_reviews']\n",
    "\n",
    "        # Vérifier si text est une chaîne de caractères\n",
    "        if not isinstance(text, str):\n",
    "            print(f\"Skipping non-string value at index {i}: {text}\")\n",
    "            continue\n",
    "\n",
    "        myid = i  # Utiliser l'index comme identifiant\n",
    "\n",
    "        # Tronquer le texte si nécessaire\n",
    "        if len(text) > max_length:\n",
    "            text = text[:max_length]\n",
    "\n",
    "        roberta_result = model_roberta(text)\n",
    "        roberta_result_model = {}\n",
    "\n",
    "        if isinstance(roberta_result, list) and len(roberta_result) > 0:\n",
    "            for key, value in roberta_result[0].items():\n",
    "                roberta_result_model[f'RoBerta_{key}'] = value\n",
    "\n",
    "        df2.at[i, \"Roberta\"] = roberta_result_model\n",
    "\n",
    "    except RuntimeError:\n",
    "        print(f'Runtime error for id {myid}')\n",
    "\n",
    "from tqdm.notebook import tqdm\n",
    "\n",
    "# Initialiser la colonne \"Roberta\" avec des dictionnaires vides\n",
    "df2[\"Roberta\"] = [{} for _ in range(len(df2))]\n",
    "\n",
    "# Définir la limite de longueur\n",
    "max_length = 514\n",
    "\n",
    "# Loop to each review in the dataset, the results are stored in a dictionary\n",
    "for i, row in tqdm(df2.iterrows(), total=len(df2)):\n",
    "    try:\n",
    "        text = row['clean_reviews']\n",
    "        myid = i  # Utiliser l'index comme identifiant\n",
    "\n",
    "        # Tronquer le texte si nécessaire\n",
    "        if len(text) > max_length:\n",
    "            text = text[:max_length]\n",
    "\n",
    "        roberta_result = model_roberta(text)\n",
    "        roberta_result_model = {}\n",
    "\n",
    "        if isinstance(roberta_result, list) and len(roberta_result) > 0:\n",
    "            for key, value in roberta_result[0].items():\n",
    "                roberta_result_model[f'Roberta_{key}'] = value\n",
    "\n",
    "        df2.at[i, \"Roberta\"] = roberta_result_model\n",
    "\n",
    "    except RuntimeError:\n",
    "        print(f'Runtime error for id {myid}')"
   ]
  },
  {
   "cell_type": "code",
   "execution_count": null,
   "id": "76de3e5d",
   "metadata": {},
   "outputs": [],
   "source": [
    "df2[\"Roberta_label\"]=None\n",
    "df2[\"Roberta_score\"]=None\n",
    "# Itérer sur l'index et les valeurs de la colonne \"Roberta\"\n",
    "for i, roberta_dict in df2[\"Roberta\"].items():\n",
    "    # Vérifier si \"RoBerta_label\" existe dans le dictionnaire\n",
    "    if \"Roberta_label\" in roberta_dict:\n",
    "        # Mettre à jour la colonne \"RoBerta_label\" avec la valeur correspondante\n",
    "        df2.at[i, \"Roberta_label\"] = roberta_dict[\"Roberta_label\"]\n",
    "        df2.at[i, \"Roberta_score\"] = roberta_dict[\"Roberta_score\"]\n",
    "df2 = df2.drop(\"Roberta\", axis=1)"
   ]
  },
  {
   "cell_type": "code",
   "execution_count": null,
   "id": "b6c55cf2",
   "metadata": {},
   "outputs": [],
   "source": [
    "# RoBERTa labeled results as: for negative review as LABEL_0, for neutral as LABEL_1, and for positive as LABEL_2\n",
    "# Below is to map  the Labels as negative , neutral and positive\n",
    "\n",
    "def map_roberta_labels(label):\n",
    "    if label == 'LABEL_0':\n",
    "        return 'negative'\n",
    "    elif label == 'LABEL_1':\n",
    "        return 'neutral'\n",
    "    elif label == 'LABEL_2':\n",
    "        return 'positive'\n",
    "    else:\n",
    "        return 'unknown'\n",
    "\n",
    "# Apply the function to the 'Roberta_label' column\n",
    "df2['Roberta_label'] = df2['Roberta_label'].apply(map_roberta_labels)"
   ]
  },
  {
   "cell_type": "code",
   "execution_count": null,
   "id": "26eac483",
   "metadata": {},
   "outputs": [],
   "source": [
    "df2['Roberta_score'] = df2['Roberta_score'].astype(float)"
   ]
  },
  {
   "cell_type": "code",
   "execution_count": null,
   "id": "22e720ce",
   "metadata": {},
   "outputs": [],
   "source": [
    "df_refults_filtered = df2.copy()\n",
    "\n",
    "# Group and compute percentages\n",
    "rates = df_refults_filtered.groupby(['Roberta_label', 'actual_sentiment']).size().unstack().fillna(0)\n",
    "rates = rates.div(rates.sum(axis=1), axis=0) * 100\n",
    "\n",
    "# Convert to long format\n",
    "rates_long = rates.reset_index().melt(id_vars='Roberta_label', value_name='percentage', var_name='actual_sentiment')\n",
    "\n",
    "# Barplot\n",
    "plt.figure(figsize=(8, 6))\n",
    "ax = sns.barplot(data=rates_long, x='Roberta_label', y='percentage', hue='actual_sentiment')\n",
    "\n",
    "# Add percentage labels on top of bars\n",
    "for p in ax.patches:\n",
    "    height = p.get_height()\n",
    "    if height > 0:\n",
    "        ax.annotate(f'{height:.1f}%',\n",
    "                    (p.get_x() + p.get_width() / 2., height),\n",
    "                    ha='center', va='bottom', fontsize=9)\n",
    "\n",
    "plt.title('Model Coherence vs. Actual Sentiment')\n",
    "plt.xlabel('Sentiment from model RoBERTa')\n",
    "plt.ylabel('Percentage')\n",
    "plt.legend(title='Actual Review', loc='lower center', bbox_to_anchor=(0.5, 1.1), ncol=3)\n",
    "plt.xticks(rotation=0)\n",
    "plt.tight_layout()\n",
    "plt.show()\n"
   ]
  },
  {
   "cell_type": "markdown",
   "id": "93cdf036",
   "metadata": {},
   "source": [
    "RoBERTA model shows the best results"
   ]
  },
  {
   "cell_type": "markdown",
   "id": "d5ead911",
   "metadata": {},
   "source": [
    "# Cleaning dataset for dashboard"
   ]
  },
  {
   "cell_type": "code",
   "execution_count": null,
   "id": "06d15ec1",
   "metadata": {},
   "outputs": [],
   "source": [
    "df3 = df2.copy(deep=True)"
   ]
  },
  {
   "cell_type": "code",
   "execution_count": null,
   "id": "9d5210b3",
   "metadata": {},
   "outputs": [],
   "source": [
    "df3.columns"
   ]
  },
  {
   "cell_type": "code",
   "execution_count": null,
   "id": "5345ceb4",
   "metadata": {},
   "outputs": [],
   "source": [
    "df3=df3[[\"store_address\",\"City\",\"State\",\"longitude\",\"latitude\",\"review_time\",\"review_date\",\"review\",\"clean_reviews\",\"rating\",\"liked\",\"RoBerta_label\",\"RoBerta_score\"]]"
   ]
  },
  {
   "cell_type": "markdown",
   "id": "14a79d91",
   "metadata": {},
   "source": []
  }
 ],
 "metadata": {
  "kernelspec": {
   "display_name": "myenv",
   "language": "python",
   "name": "python3"
  },
  "language_info": {
   "codemirror_mode": {
    "name": "ipython",
    "version": 3
   },
   "file_extension": ".py",
   "mimetype": "text/x-python",
   "name": "python",
   "nbconvert_exporter": "python",
   "pygments_lexer": "ipython3",
   "version": "3.10.13"
  }
 },
 "nbformat": 4,
 "nbformat_minor": 5
}
