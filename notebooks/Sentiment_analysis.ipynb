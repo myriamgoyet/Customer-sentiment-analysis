{
 "cells": [
  {
   "cell_type": "code",
   "execution_count": 49,
   "id": "99bca030",
   "metadata": {},
   "outputs": [],
   "source": [
    "import pandas as pd"
   ]
  },
  {
   "cell_type": "code",
   "execution_count": 50,
   "id": "dec41fbc",
   "metadata": {},
   "outputs": [],
   "source": [
    "df1 = pd.read_csv(\"data/cleaned_data.csv\")"
   ]
  },
  {
   "cell_type": "markdown",
   "id": "35be613b",
   "metadata": {},
   "source": [
    "# EDA"
   ]
  },
  {
   "cell_type": "code",
   "execution_count": 51,
   "id": "f9f3bc4e",
   "metadata": {},
   "outputs": [
    {
     "data": {
      "text/plain": [
       "actual_sentiment\n",
       "positive    43.501124\n",
       "negative    42.413483\n",
       "neutral     14.085393\n",
       "Name: proportion, dtype: float64"
      ]
     },
     "execution_count": 51,
     "metadata": {},
     "output_type": "execute_result"
    }
   ],
   "source": [
    "df1[\"actual_sentiment\"].value_counts(normalize=True, dropna=False) * 100"
   ]
  },
  {
   "cell_type": "code",
   "execution_count": 52,
   "id": "18289402",
   "metadata": {},
   "outputs": [
    {
     "data": {
      "text/plain": [
       "rating\n",
       "1    32.359551\n",
       "5    27.577528\n",
       "4    15.923596\n",
       "3    14.085393\n",
       "2    10.053933\n",
       "Name: proportion, dtype: float64"
      ]
     },
     "execution_count": 52,
     "metadata": {},
     "output_type": "execute_result"
    }
   ],
   "source": [
    "df1[\"rating\"].value_counts(normalize=True, dropna=False) * 100"
   ]
  },
  {
   "cell_type": "code",
   "execution_count": 53,
   "id": "76da7ffe",
   "metadata": {},
   "outputs": [
    {
     "data": {
      "text/plain": [
       "City\n",
       "New York             11.775281\n",
       "Orlando              10.022472\n",
       "Austin                5.649438\n",
       "Los Angeles           4.606742\n",
       "Miami                 4.480899\n",
       "Dallas                4.422472\n",
       "Queens                4.274157\n",
       "Kissimmee             4.224719\n",
       "Las Vegas             4.170787\n",
       "Salt Lake City        3.973034\n",
       "San Diego             3.896629\n",
       "North Hollywood       3.128090\n",
       "Honolulu              2.930337\n",
       "Sunnyvale             2.925843\n",
       "Fern Park             2.921348\n",
       "Newark                2.687640\n",
       "Santa Monica          2.633708\n",
       "Miami Beach           2.539326\n",
       "San Antonio           2.525843\n",
       "Oak Park              2.498876\n",
       "Champlain             2.485393\n",
       "Brodheadsville        2.301124\n",
       "Washington            2.053933\n",
       "Roanoke               2.013483\n",
       "Voorhees Township     1.946067\n",
       "Fort Worth            1.941573\n",
       "Annandale             0.970787\n",
       "Name: proportion, dtype: float64"
      ]
     },
     "execution_count": 53,
     "metadata": {},
     "output_type": "execute_result"
    }
   ],
   "source": [
    "df1[\"City\"].value_counts(normalize=True, dropna=False) * 100"
   ]
  },
  {
   "cell_type": "code",
   "execution_count": 54,
   "id": "1a8b13a1",
   "metadata": {},
   "outputs": [
    {
     "data": {
      "text/plain": [
       "State\n",
       "FL    24.188764\n",
       "NY    18.534831\n",
       "CA    17.191011\n",
       "TX    16.552809\n",
       "NJ     4.633708\n",
       "NV     4.170787\n",
       "UT     3.973034\n",
       "HI     2.930337\n",
       "IL     2.498876\n",
       "PA     2.301124\n",
       "DC     2.053933\n",
       "VA     0.970787\n",
       "Name: proportion, dtype: float64"
      ]
     },
     "execution_count": 54,
     "metadata": {},
     "output_type": "execute_result"
    }
   ],
   "source": [
    "df1[\"State\"].value_counts(normalize=True, dropna=False) * 100"
   ]
  },
  {
   "cell_type": "markdown",
   "id": "e369bed9",
   "metadata": {},
   "source": [
    "# Sentiment Analyser"
   ]
  },
  {
   "cell_type": "code",
   "execution_count": 55,
   "id": "d5bc2718",
   "metadata": {},
   "outputs": [],
   "source": [
    "df2 = df1.copy(deep = True)"
   ]
  },
  {
   "cell_type": "markdown",
   "id": "dd2c25b8",
   "metadata": {},
   "source": [
    "## Using NLTK’s Pre-Trained Sentiment Analyzer:"
   ]
  },
  {
   "cell_type": "code",
   "execution_count": 56,
   "id": "c3bae3c7",
   "metadata": {},
   "outputs": [
    {
     "name": "stdout",
     "output_type": "stream",
     "text": [
      "   sentiment_score_SIA sentiment_SIA actual_sentiment  \\\n",
      "0               0.5541      positive         negative   \n",
      "1               0.8591      positive         positive   \n",
      "2              -0.2960      negative         negative   \n",
      "3               0.0000       neutral         positive   \n",
      "4              -0.7184      negative         negative   \n",
      "\n",
      "                                              review  \n",
      "0  Why does it look like someone spit on my food?...  \n",
      "1  It'd McDonalds. It is what it is as far as the...  \n",
      "2  Made a mobile order got to the speaker and che...  \n",
      "3  My mc. Crispy chicken sandwich was ..............  \n",
      "4  I repeat my order 3 times in the drive thru, a...  \n"
     ]
    }
   ],
   "source": [
    "from nltk.sentiment import SentimentIntensityAnalyzer \n",
    "\n",
    "\n",
    "analyzer = SentimentIntensityAnalyzer()\n",
    "\n",
    "#Sentiment score from -1 (very negative) to 1 (very positive)\n",
    "df2['sentiment_score_SIA'] = df2['tokenized_reviews'].apply(lambda text: analyzer.polarity_scores(str(text))['compound'])\n",
    "df2['sentiment_SIA'] = None\n",
    "\n",
    "df2['sentiment_SIA'] = df2['sentiment_score_SIA'].apply(lambda score: 'positive' if score >= 0.4 else ('negative' if score <= -0.1 else 'neutral'))\n",
    "print(df2[['sentiment_score_SIA', 'sentiment_SIA', 'actual_sentiment', \"review\"]].head())"
   ]
  },
  {
   "cell_type": "code",
   "execution_count": 57,
   "id": "d4a4776a",
   "metadata": {},
   "outputs": [
    {
     "data": {
      "text/plain": [
       "<Figure size 800x600 with 0 Axes>"
      ]
     },
     "metadata": {},
     "output_type": "display_data"
    },
    {
     "data": {
      "image/png": "[encoded data removed]",
      "text/plain": [
       "<Figure size 800x600 with 1 Axes>"
      ]
     },
     "metadata": {},
     "output_type": "display_data"
    }
   ],
   "source": [
    "import matplotlib.pyplot as plt\n",
    "import seaborn as sns\n",
    "\n",
    "plt.figure(figsize=(8, 6))\n",
    "\n",
    "# Compute percentages and convert format for seaborn\n",
    "rates = df2.groupby(['sentiment_SIA', 'actual_sentiment']).size().unstack().fillna(0)\n",
    "rates = rates.div(rates.sum(axis=1), axis=0) * 100\n",
    "rates_long = rates.reset_index().melt(id_vars='sentiment_SIA', value_name='percentage')\n",
    "\n",
    "# Creat graph\n",
    "plt.figure(figsize=(8, 6))\n",
    "ax = sns.barplot(data=rates_long, x='sentiment_SIA', y='percentage', hue='actual_sentiment')\n",
    "\n",
    "for p in ax.patches:\n",
    "    height = p.get_height()\n",
    "    ax.annotate(f'{height:.1f}%', (p.get_x() + p.get_width() / 2., height),\n",
    "                ha='center', va='bottom')\n",
    "\n",
    "plt.title('Model Coherence vs. Actual Sentiment')\n",
    "plt.xlabel('Sentiment from model SIA')\n",
    "plt.ylabel('Percentage')\n",
    "plt.legend(title='actual sentiment from rating')\n",
    "plt.xticks(rotation=0)\n",
    "\n",
    "plt.show()"
   ]
  },
  {
   "cell_type": "markdown",
   "id": "54eeb514",
   "metadata": {},
   "source": [
    "## Model Text_classification from DistilBERT"
   ]
  },
  {
   "cell_type": "code",
   "execution_count": 58,
   "id": "b901ed92",
   "metadata": {},
   "outputs": [
    {
     "name": "stderr",
     "output_type": "stream",
     "text": [
      "Device set to use cpu\n"
     ]
    },
    {
     "data": {
      "application/vnd.jupyter.widget-view+json": {
       "model_id": "5116ad3b3cca4b6f8a3fcdbae99e1e80",
       "version_major": 2,
       "version_minor": 0
      },
      "text/plain": [
       "Processing reviews:   0%|          | 0/22250 [00:00<?, ?it/s]"
      ]
     },
     "metadata": {},
     "output_type": "display_data"
    }
   ],
   "source": [
    "from transformers import pipeline\n",
    "from tqdm.notebook import tqdm\n",
    "\n",
    "pipe = pipeline(\"text-classification\", model=\"distilbert-base-uncased-finetuned-sst-2-english\", truncation=True, max_length=512) #model par défaut. tronqué car il ne support pas les reviews de plus de 512 tokens\n",
    "\n",
    "reviews = df2[\"review\"].tolist()\n",
    "\n",
    "results = []\n",
    "for review in tqdm(reviews, desc=\"Processing reviews\"):\n",
    "    result = pipe(review)\n",
    "    results.append(result)\n",
    "\n",
    "df2['DistilBERT'] = results"
   ]
  },
  {
   "cell_type": "code",
   "execution_count": 62,
   "id": "f68c69d1",
   "metadata": {},
   "outputs": [
    {
     "ename": "KeyError",
     "evalue": "'DistilBERT'",
     "output_type": "error",
     "traceback": [
      "\u001b[1;31m---------------------------------------------------------------------------\u001b[0m",
      "\u001b[1;31mKeyError\u001b[0m                                  Traceback (most recent call last)",
      "File \u001b[1;32mc:\\Users\\Myriam\\anaconda3\\envs\\myenv\\lib\\site-packages\\pandas\\core\\indexes\\base.py:3805\u001b[0m, in \u001b[0;36mIndex.get_loc\u001b[1;34m(self, key)\u001b[0m\n\u001b[0;32m   3804\u001b[0m \u001b[38;5;28;01mtry\u001b[39;00m:\n\u001b[1;32m-> 3805\u001b[0m     \u001b[38;5;28;01mreturn\u001b[39;00m \u001b[38;5;28;43mself\u001b[39;49m\u001b[38;5;241;43m.\u001b[39;49m\u001b[43m_engine\u001b[49m\u001b[38;5;241;43m.\u001b[39;49m\u001b[43mget_loc\u001b[49m\u001b[43m(\u001b[49m\u001b[43mcasted_key\u001b[49m\u001b[43m)\u001b[49m\n\u001b[0;32m   3806\u001b[0m \u001b[38;5;28;01mexcept\u001b[39;00m \u001b[38;5;167;01mKeyError\u001b[39;00m \u001b[38;5;28;01mas\u001b[39;00m err:\n",
      "File \u001b[1;32mindex.pyx:167\u001b[0m, in \u001b[0;36mpandas._libs.index.IndexEngine.get_loc\u001b[1;34m()\u001b[0m\n",
      "File \u001b[1;32mindex.pyx:196\u001b[0m, in \u001b[0;36mpandas._libs.index.IndexEngine.get_loc\u001b[1;34m()\u001b[0m\n",
      "File \u001b[1;32mpandas\\\\_libs\\\\hashtable_class_helper.pxi:7081\u001b[0m, in \u001b[0;36mpandas._libs.hashtable.PyObjectHashTable.get_item\u001b[1;34m()\u001b[0m\n",
      "File \u001b[1;32mpandas\\\\_libs\\\\hashtable_class_helper.pxi:7089\u001b[0m, in \u001b[0;36mpandas._libs.hashtable.PyObjectHashTable.get_item\u001b[1;34m()\u001b[0m\n",
      "\u001b[1;31mKeyError\u001b[0m: 'DistilBERT'",
      "\nThe above exception was the direct cause of the following exception:\n",
      "\u001b[1;31mKeyError\u001b[0m                                  Traceback (most recent call last)",
      "Cell \u001b[1;32mIn[62], line 2\u001b[0m\n\u001b[0;32m      1\u001b[0m \u001b[38;5;28;01mfor\u001b[39;00m i \u001b[38;5;129;01min\u001b[39;00m df2\u001b[38;5;241m.\u001b[39mindex:\n\u001b[1;32m----> 2\u001b[0m     result \u001b[38;5;241m=\u001b[39m \u001b[43mdf2\u001b[49m\u001b[38;5;241;43m.\u001b[39;49m\u001b[43mloc\u001b[49m\u001b[43m[\u001b[49m\u001b[43mi\u001b[49m\u001b[43m,\u001b[49m\u001b[43m \u001b[49m\u001b[38;5;124;43m\"\u001b[39;49m\u001b[38;5;124;43mDistilBERT\u001b[39;49m\u001b[38;5;124;43m\"\u001b[39;49m\u001b[43m]\u001b[49m[\u001b[38;5;241m0\u001b[39m]\n\u001b[0;32m      3\u001b[0m     df2\u001b[38;5;241m.\u001b[39mloc[i, \u001b[38;5;124m\"\u001b[39m\u001b[38;5;124mDistilBERT_sentiment\u001b[39m\u001b[38;5;124m\"\u001b[39m] \u001b[38;5;241m=\u001b[39m result[\u001b[38;5;124m\"\u001b[39m\u001b[38;5;124mlabel\u001b[39m\u001b[38;5;124m\"\u001b[39m]\n\u001b[0;32m      4\u001b[0m     df2\u001b[38;5;241m.\u001b[39mloc[i, \u001b[38;5;124m\"\u001b[39m\u001b[38;5;124mDistilBERT_score\u001b[39m\u001b[38;5;124m\"\u001b[39m] \u001b[38;5;241m=\u001b[39m result[\u001b[38;5;124m\"\u001b[39m\u001b[38;5;124mscore\u001b[39m\u001b[38;5;124m\"\u001b[39m]\n",
      "File \u001b[1;32mc:\\Users\\Myriam\\anaconda3\\envs\\myenv\\lib\\site-packages\\pandas\\core\\indexing.py:1183\u001b[0m, in \u001b[0;36m_LocationIndexer.__getitem__\u001b[1;34m(self, key)\u001b[0m\n\u001b[0;32m   1181\u001b[0m     key \u001b[38;5;241m=\u001b[39m \u001b[38;5;28mtuple\u001b[39m(com\u001b[38;5;241m.\u001b[39mapply_if_callable(x, \u001b[38;5;28mself\u001b[39m\u001b[38;5;241m.\u001b[39mobj) \u001b[38;5;28;01mfor\u001b[39;00m x \u001b[38;5;129;01min\u001b[39;00m key)\n\u001b[0;32m   1182\u001b[0m     \u001b[38;5;28;01mif\u001b[39;00m \u001b[38;5;28mself\u001b[39m\u001b[38;5;241m.\u001b[39m_is_scalar_access(key):\n\u001b[1;32m-> 1183\u001b[0m         \u001b[38;5;28;01mreturn\u001b[39;00m \u001b[38;5;28;43mself\u001b[39;49m\u001b[38;5;241;43m.\u001b[39;49m\u001b[43mobj\u001b[49m\u001b[38;5;241;43m.\u001b[39;49m\u001b[43m_get_value\u001b[49m\u001b[43m(\u001b[49m\u001b[38;5;241;43m*\u001b[39;49m\u001b[43mkey\u001b[49m\u001b[43m,\u001b[49m\u001b[43m \u001b[49m\u001b[43mtakeable\u001b[49m\u001b[38;5;241;43m=\u001b[39;49m\u001b[38;5;28;43mself\u001b[39;49m\u001b[38;5;241;43m.\u001b[39;49m\u001b[43m_takeable\u001b[49m\u001b[43m)\u001b[49m\n\u001b[0;32m   1184\u001b[0m     \u001b[38;5;28;01mreturn\u001b[39;00m \u001b[38;5;28mself\u001b[39m\u001b[38;5;241m.\u001b[39m_getitem_tuple(key)\n\u001b[0;32m   1185\u001b[0m \u001b[38;5;28;01melse\u001b[39;00m:\n\u001b[0;32m   1186\u001b[0m     \u001b[38;5;66;03m# we by definition only have the 0th axis\u001b[39;00m\n",
      "File \u001b[1;32mc:\\Users\\Myriam\\anaconda3\\envs\\myenv\\lib\\site-packages\\pandas\\core\\frame.py:4214\u001b[0m, in \u001b[0;36mDataFrame._get_value\u001b[1;34m(self, index, col, takeable)\u001b[0m\n\u001b[0;32m   4211\u001b[0m     series \u001b[38;5;241m=\u001b[39m \u001b[38;5;28mself\u001b[39m\u001b[38;5;241m.\u001b[39m_ixs(col, axis\u001b[38;5;241m=\u001b[39m\u001b[38;5;241m1\u001b[39m)\n\u001b[0;32m   4212\u001b[0m     \u001b[38;5;28;01mreturn\u001b[39;00m series\u001b[38;5;241m.\u001b[39m_values[index]\n\u001b[1;32m-> 4214\u001b[0m series \u001b[38;5;241m=\u001b[39m \u001b[38;5;28;43mself\u001b[39;49m\u001b[38;5;241;43m.\u001b[39;49m\u001b[43m_get_item_cache\u001b[49m\u001b[43m(\u001b[49m\u001b[43mcol\u001b[49m\u001b[43m)\u001b[49m\n\u001b[0;32m   4215\u001b[0m engine \u001b[38;5;241m=\u001b[39m \u001b[38;5;28mself\u001b[39m\u001b[38;5;241m.\u001b[39mindex\u001b[38;5;241m.\u001b[39m_engine\n\u001b[0;32m   4217\u001b[0m \u001b[38;5;28;01mif\u001b[39;00m \u001b[38;5;129;01mnot\u001b[39;00m \u001b[38;5;28misinstance\u001b[39m(\u001b[38;5;28mself\u001b[39m\u001b[38;5;241m.\u001b[39mindex, MultiIndex):\n\u001b[0;32m   4218\u001b[0m     \u001b[38;5;66;03m# CategoricalIndex: Trying to use the engine fastpath may give incorrect\u001b[39;00m\n\u001b[0;32m   4219\u001b[0m     \u001b[38;5;66;03m#  results if our categories are integers that dont match our codes\u001b[39;00m\n\u001b[0;32m   4220\u001b[0m     \u001b[38;5;66;03m# IntervalIndex: IntervalTree has no get_loc\u001b[39;00m\n",
      "File \u001b[1;32mc:\\Users\\Myriam\\anaconda3\\envs\\myenv\\lib\\site-packages\\pandas\\core\\frame.py:4638\u001b[0m, in \u001b[0;36mDataFrame._get_item_cache\u001b[1;34m(self, item)\u001b[0m\n\u001b[0;32m   4633\u001b[0m res \u001b[38;5;241m=\u001b[39m cache\u001b[38;5;241m.\u001b[39mget(item)\n\u001b[0;32m   4634\u001b[0m \u001b[38;5;28;01mif\u001b[39;00m res \u001b[38;5;129;01mis\u001b[39;00m \u001b[38;5;28;01mNone\u001b[39;00m:\n\u001b[0;32m   4635\u001b[0m     \u001b[38;5;66;03m# All places that call _get_item_cache have unique columns,\u001b[39;00m\n\u001b[0;32m   4636\u001b[0m     \u001b[38;5;66;03m#  pending resolution of GH#33047\u001b[39;00m\n\u001b[1;32m-> 4638\u001b[0m     loc \u001b[38;5;241m=\u001b[39m \u001b[38;5;28;43mself\u001b[39;49m\u001b[38;5;241;43m.\u001b[39;49m\u001b[43mcolumns\u001b[49m\u001b[38;5;241;43m.\u001b[39;49m\u001b[43mget_loc\u001b[49m\u001b[43m(\u001b[49m\u001b[43mitem\u001b[49m\u001b[43m)\u001b[49m\n\u001b[0;32m   4639\u001b[0m     res \u001b[38;5;241m=\u001b[39m \u001b[38;5;28mself\u001b[39m\u001b[38;5;241m.\u001b[39m_ixs(loc, axis\u001b[38;5;241m=\u001b[39m\u001b[38;5;241m1\u001b[39m)\n\u001b[0;32m   4641\u001b[0m     cache[item] \u001b[38;5;241m=\u001b[39m res\n",
      "File \u001b[1;32mc:\\Users\\Myriam\\anaconda3\\envs\\myenv\\lib\\site-packages\\pandas\\core\\indexes\\base.py:3812\u001b[0m, in \u001b[0;36mIndex.get_loc\u001b[1;34m(self, key)\u001b[0m\n\u001b[0;32m   3807\u001b[0m     \u001b[38;5;28;01mif\u001b[39;00m \u001b[38;5;28misinstance\u001b[39m(casted_key, \u001b[38;5;28mslice\u001b[39m) \u001b[38;5;129;01mor\u001b[39;00m (\n\u001b[0;32m   3808\u001b[0m         \u001b[38;5;28misinstance\u001b[39m(casted_key, abc\u001b[38;5;241m.\u001b[39mIterable)\n\u001b[0;32m   3809\u001b[0m         \u001b[38;5;129;01mand\u001b[39;00m \u001b[38;5;28many\u001b[39m(\u001b[38;5;28misinstance\u001b[39m(x, \u001b[38;5;28mslice\u001b[39m) \u001b[38;5;28;01mfor\u001b[39;00m x \u001b[38;5;129;01min\u001b[39;00m casted_key)\n\u001b[0;32m   3810\u001b[0m     ):\n\u001b[0;32m   3811\u001b[0m         \u001b[38;5;28;01mraise\u001b[39;00m InvalidIndexError(key)\n\u001b[1;32m-> 3812\u001b[0m     \u001b[38;5;28;01mraise\u001b[39;00m \u001b[38;5;167;01mKeyError\u001b[39;00m(key) \u001b[38;5;28;01mfrom\u001b[39;00m\u001b[38;5;250m \u001b[39m\u001b[38;5;21;01merr\u001b[39;00m\n\u001b[0;32m   3813\u001b[0m \u001b[38;5;28;01mexcept\u001b[39;00m \u001b[38;5;167;01mTypeError\u001b[39;00m:\n\u001b[0;32m   3814\u001b[0m     \u001b[38;5;66;03m# If we have a listlike key, _check_indexing_error will raise\u001b[39;00m\n\u001b[0;32m   3815\u001b[0m     \u001b[38;5;66;03m#  InvalidIndexError. Otherwise we fall through and re-raise\u001b[39;00m\n\u001b[0;32m   3816\u001b[0m     \u001b[38;5;66;03m#  the TypeError.\u001b[39;00m\n\u001b[0;32m   3817\u001b[0m     \u001b[38;5;28mself\u001b[39m\u001b[38;5;241m.\u001b[39m_check_indexing_error(key)\n",
      "\u001b[1;31mKeyError\u001b[0m: 'DistilBERT'"
     ]
    }
   ],
   "source": [
    "for i in df2.index:\n",
    "    result = df2.loc[i, \"DistilBERT\"][0]\n",
    "    df2.loc[i, \"DistilBERT_sentiment\"] = result[\"label\"]\n",
    "    df2.loc[i, \"DistilBERT_score\"] = result[\"score\"]\n",
    "\n",
    "df2 = df2.drop([\"DistilBERT\"], axis=1)"
   ]
  },
  {
   "cell_type": "code",
   "execution_count": 60,
   "id": "96dd2794",
   "metadata": {},
   "outputs": [
    {
     "data": {
      "text/plain": [
       "<Figure size 800x600 with 0 Axes>"
      ]
     },
     "metadata": {},
     "output_type": "display_data"
    },
    {
     "data": {
      "image/png": "[encoded data removed]",
      "text/plain": [
       "<Figure size 800x600 with 1 Axes>"
      ]
     },
     "metadata": {},
     "output_type": "display_data"
    }
   ],
   "source": [
    "plt.figure(figsize=(8, 6))\n",
    "\n",
    "# Calculer les pourcentages\n",
    "rates = df2.groupby(['DistilBERT_sentiment', 'actual_sentiment']).size().unstack().fillna(0)\n",
    "rates = rates.div(rates.sum(axis=1), axis=0) * 100\n",
    "\n",
    "# Convertir les taux en format long pour seaborn\n",
    "rates_long = rates.reset_index().melt(id_vars='DistilBERT_sentiment', value_name='percentage')\n",
    "\n",
    "# Créer le diagramme en bâtons avec seaborn\n",
    "plt.figure(figsize=(8, 6))\n",
    "ax = sns.barplot(data=rates_long, x='DistilBERT_sentiment', y='percentage', hue='actual_sentiment')\n",
    "\n",
    "# Ajouter des annotations\n",
    "for p in ax.patches:\n",
    "    height = p.get_height()\n",
    "    ax.annotate(f'{height:.1f}%', (p.get_x() + p.get_width() / 2., height),\n",
    "                ha='center', va='bottom')\n",
    "\n",
    "plt.title('Model Coherence vs. Actual Sentiment')\n",
    "plt.xlabel('Sentiment from model DistilBERT')\n",
    "plt.ylabel('Percentage')\n",
    "plt.xticks(rotation=0)\n",
    "plt.legend(title='actual sentiment from rating')\n",
    "plt.show()"
   ]
  },
  {
   "cell_type": "markdown",
   "id": "9504d5fd",
   "metadata": {},
   "source": [
    "## Model RoBERTa"
   ]
  },
  {
   "cell_type": "code",
   "execution_count": 64,
   "id": "61e812f5",
   "metadata": {},
   "outputs": [
    {
     "name": "stderr",
     "output_type": "stream",
     "text": [
      "Device set to use cpu\n"
     ]
    }
   ],
   "source": [
    "# Load model\n",
    "from transformers import pipeline\n",
    "\n",
    "# Initialize the sentiment analysis pipeline\n",
    "model_roberta = pipeline(\"text-classification\", model=\"cardiffnlp/twitter-roberta-base-sentiment\")"
   ]
  },
  {
   "cell_type": "code",
   "execution_count": 68,
   "id": "d1622226",
   "metadata": {},
   "outputs": [
    {
     "data": {
      "application/vnd.jupyter.widget-view+json": {
       "model_id": "dd808e8fa31c40fb97b8f5fa2a82a85d",
       "version_major": 2,
       "version_minor": 0
      },
      "text/plain": [
       "  0%|          | 0/22250 [00:00<?, ?it/s]"
      ]
     },
     "metadata": {},
     "output_type": "display_data"
    },
    {
     "data": {
      "application/vnd.jupyter.widget-view+json": {
       "model_id": "491e31248c41412bb76831166794fdba",
       "version_major": 2,
       "version_minor": 0
      },
      "text/plain": [
       "  0%|          | 0/22250 [00:00<?, ?it/s]"
      ]
     },
     "metadata": {},
     "output_type": "display_data"
    }
   ],
   "source": [
    "from tqdm.notebook import tqdm\n",
    "\n",
    "# Initialiser la colonne \"Roberta\" avec des dictionnaires vides\n",
    "df2[\"Roberta\"] = [{} for _ in range(len(df2))]\n",
    "\n",
    "# Définir la limite de longueur\n",
    "max_length = 514\n",
    "\n",
    "# Loop to each review in the dataset, the results are stored in a dictionary\n",
    "for i, row in tqdm(df2.iterrows(), total=len(df2)):\n",
    "    try:\n",
    "        text = row['clean_reviews']\n",
    "\n",
    "        # Vérifier si text est une chaîne de caractères\n",
    "        if not isinstance(text, str):\n",
    "            print(f\"Skipping non-string value at index {i}: {text}\")\n",
    "            continue\n",
    "\n",
    "        myid = i  # Utiliser l'index comme identifiant\n",
    "\n",
    "        # Tronquer le texte si nécessaire\n",
    "        if len(text) > max_length:\n",
    "            text = text[:max_length]\n",
    "\n",
    "        roberta_result = model_roberta(text)\n",
    "        roberta_result_model = {}\n",
    "\n",
    "        if isinstance(roberta_result, list) and len(roberta_result) > 0:\n",
    "            for key, value in roberta_result[0].items():\n",
    "                roberta_result_model[f'RoBerta_{key}'] = value\n",
    "\n",
    "        df2.at[i, \"Roberta\"] = roberta_result_model\n",
    "\n",
    "    except RuntimeError:\n",
    "        print(f'Runtime error for id {myid}')\n",
    "\n",
    "from tqdm.notebook import tqdm\n",
    "\n",
    "# Initialiser la colonne \"Roberta\" avec des dictionnaires vides\n",
    "df2[\"Roberta\"] = [{} for _ in range(len(df2))]\n",
    "\n",
    "# Définir la limite de longueur\n",
    "max_length = 514\n",
    "\n",
    "# Loop to each review in the dataset, the results are stored in a dictionary\n",
    "for i, row in tqdm(df2.iterrows(), total=len(df2)):\n",
    "    try:\n",
    "        text = row['clean_reviews']\n",
    "        myid = i  # Utiliser l'index comme identifiant\n",
    "\n",
    "        # Tronquer le texte si nécessaire\n",
    "        if len(text) > max_length:\n",
    "            text = text[:max_length]\n",
    "\n",
    "        roberta_result = model_roberta(text)\n",
    "        roberta_result_model = {}\n",
    "\n",
    "        if isinstance(roberta_result, list) and len(roberta_result) > 0:\n",
    "            for key, value in roberta_result[0].items():\n",
    "                roberta_result_model[f'Roberta_{key}'] = value\n",
    "\n",
    "        df2.at[i, \"Roberta\"] = roberta_result_model\n",
    "\n",
    "    except RuntimeError:\n",
    "        print(f'Runtime error for id {myid}')"
   ]
  },
  {
   "cell_type": "code",
   "execution_count": null,
   "id": "76de3e5d",
   "metadata": {},
   "outputs": [],
   "source": [
    "df2[\"Roberta_label\"]=None\n",
    "df2[\"Roberta_score\"]=None\n",
    "# Itérer sur l'index et les valeurs de la colonne \"Roberta\"\n",
    "for i, roberta_dict in df2[\"Roberta\"].items():\n",
    "    # Vérifier si \"RoBerta_label\" existe dans le dictionnaire\n",
    "    if \"Roberta_label\" in roberta_dict:\n",
    "        # Mettre à jour la colonne \"RoBerta_label\" avec la valeur correspondante\n",
    "        df2.at[i, \"Roberta_label\"] = roberta_dict[\"Roberta_label\"]\n",
    "        df2.at[i, \"Roberta_score\"] = roberta_dict[\"Roberta_score\"]\n",
    "df2 = df2.drop(\"Roberta\", axis=1)"
   ]
  },
  {
   "cell_type": "code",
   "execution_count": null,
   "id": "b6c55cf2",
   "metadata": {},
   "outputs": [],
   "source": [
    "# RoBERTa labeled results as: for negative review as LABEL_0, for neutral as LABEL_1, and for positive as LABEL_2\n",
    "# Below is to map  the Labels as negative , neutral and positive\n",
    "\n",
    "def map_roberta_labels(label):\n",
    "    if label == 'LABEL_0':\n",
    "        return 'negative'\n",
    "    elif label == 'LABEL_1':\n",
    "        return 'neutral'\n",
    "    elif label == 'LABEL_2':\n",
    "        return 'positive'\n",
    "    else:\n",
    "        return 'unknown'\n",
    "\n",
    "# Apply the function to the 'Roberta_label' column\n",
    "df2['Roberta_label'] = df2['Roberta_label'].apply(map_roberta_labels)"
   ]
  },
  {
   "cell_type": "code",
   "execution_count": null,
   "id": "26eac483",
   "metadata": {},
   "outputs": [],
   "source": [
    "df2['Roberta_score'] = df2['Roberta_score'].astype(float)"
   ]
  },
  {
   "cell_type": "code",
   "execution_count": null,
   "id": "22e720ce",
   "metadata": {},
   "outputs": [],
   "source": [
    "df_refults_filtered = df2.copy()\n",
    "\n",
    "# Group and compute percentages\n",
    "rates = df_refults_filtered.groupby(['Roberta_label', 'actual_sentiment']).size().unstack().fillna(0)\n",
    "rates = rates.div(rates.sum(axis=1), axis=0) * 100\n",
    "\n",
    "# Convert to long format\n",
    "rates_long = rates.reset_index().melt(id_vars='Roberta_label', value_name='percentage', var_name='actual_sentiment')\n",
    "\n",
    "# Barplot\n",
    "plt.figure(figsize=(8, 6))\n",
    "ax = sns.barplot(data=rates_long, x='Roberta_label', y='percentage', hue='actual_sentiment')\n",
    "\n",
    "# Add percentage labels on top of bars\n",
    "for p in ax.patches:\n",
    "    height = p.get_height()\n",
    "    if height > 0:\n",
    "        ax.annotate(f'{height:.1f}%',\n",
    "                    (p.get_x() + p.get_width() / 2., height),\n",
    "                    ha='center', va='bottom', fontsize=9)\n",
    "\n",
    "plt.title('Model Coherence vs. Actual Sentiment')\n",
    "plt.xlabel('Sentiment from model RoBERTa')\n",
    "plt.ylabel('Percentage')\n",
    "plt.legend(title='Actual Review', loc='lower center', bbox_to_anchor=(0.5, 1.1), ncol=3)\n",
    "plt.xticks(rotation=0)\n",
    "plt.tight_layout()\n",
    "plt.show()\n"
   ]
  },
  {
   "cell_type": "markdown",
   "id": "93cdf036",
   "metadata": {},
   "source": [
    "RoBERTA model shows the best results"
   ]
  },
  {
   "cell_type": "markdown",
   "id": "d5ead911",
   "metadata": {},
   "source": [
    "# Cleaning dataset for dashboard"
   ]
  },
  {
   "cell_type": "code",
   "execution_count": null,
   "id": "06d15ec1",
   "metadata": {},
   "outputs": [],
   "source": [
    "df3 = df2.copy(deep=True)"
   ]
  },
  {
   "cell_type": "code",
   "execution_count": null,
   "id": "9d5210b3",
   "metadata": {},
   "outputs": [],
   "source": [
    "df3.columns"
   ]
  },
  {
   "cell_type": "code",
   "execution_count": null,
   "id": "5345ceb4",
   "metadata": {},
   "outputs": [],
   "source": [
    "df3=df3[[\"store_address\",\"City\",\"State\",\"longitude\",\"latitude\",\"review_time\",\"review_date\",\"review\",\"clean_reviews\",\"rating\",\"liked\",\"RoBerta_label\",\"RoBerta_score\"]]"
   ]
  },
  {
   "cell_type": "markdown",
   "id": "14a79d91",
   "metadata": {},
   "source": []
  }
 ],
 "metadata": {
  "kernelspec": {
   "display_name": "myenv",
   "language": "python",
   "name": "python3"
  },
  "language_info": {
   "codemirror_mode": {
    "name": "ipython",
    "version": 3
   },
   "file_extension": ".py",
   "mimetype": "text/x-python",
   "name": "python",
   "nbconvert_exporter": "python",
   "pygments_lexer": "ipython3",
   "version": "3.10.13"
  }
 },
 "nbformat": 4,
 "nbformat_minor": 5
}
