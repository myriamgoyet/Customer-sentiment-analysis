{
 "cells": [
  {
   "cell_type": "code",
   "execution_count": 127,
   "id": "55d117dc",
   "metadata": {},
   "outputs": [],
   "source": [
    "import pandas as pd\n",
    "import re\n",
    "from dateutil.relativedelta import relativedelta\n"
   ]
  },
  {
   "cell_type": "code",
   "execution_count": 36,
   "id": "4bf11fdf",
   "metadata": {},
   "outputs": [],
   "source": [
    "df = pd.read_csv(\"data/raw/McDonald_s_Reviews.csv\", encoding='latin-1')\n"
   ]
  },
  {
   "cell_type": "markdown",
   "id": "2c9a77dc",
   "metadata": {},
   "source": [
    "# Découverte du Dataset"
   ]
  },
  {
   "cell_type": "code",
   "execution_count": 37,
   "id": "b1c4c1cb",
   "metadata": {},
   "outputs": [
    {
     "data": {
      "text/plain": [
       "Index(['reviewer_id', 'store_name', 'category', 'store_address', 'latitude ',\n",
       "       'longitude', 'rating_count', 'review_time', 'review', 'rating'],\n",
       "      dtype='object')"
      ]
     },
     "execution_count": 37,
     "metadata": {},
     "output_type": "execute_result"
    }
   ],
   "source": [
    "df.columns"
   ]
  },
  {
   "cell_type": "code",
   "execution_count": 38,
   "id": "b320923a",
   "metadata": {},
   "outputs": [
    {
     "data": {
      "text/html": [
       "<div>\n",
       "<style scoped>\n",
       "    .dataframe tbody tr th:only-of-type {\n",
       "        vertical-align: middle;\n",
       "    }\n",
       "\n",
       "    .dataframe tbody tr th {\n",
       "        vertical-align: top;\n",
       "    }\n",
       "\n",
       "    .dataframe thead th {\n",
       "        text-align: right;\n",
       "    }\n",
       "</style>\n",
       "<table border=\"1\" class=\"dataframe\">\n",
       "  <thead>\n",
       "    <tr style=\"text-align: right;\">\n",
       "      <th></th>\n",
       "      <th>reviewer_id</th>\n",
       "      <th>store_name</th>\n",
       "      <th>category</th>\n",
       "      <th>store_address</th>\n",
       "      <th>latitude</th>\n",
       "      <th>longitude</th>\n",
       "      <th>rating_count</th>\n",
       "      <th>review_time</th>\n",
       "      <th>review</th>\n",
       "      <th>rating</th>\n",
       "    </tr>\n",
       "  </thead>\n",
       "  <tbody>\n",
       "    <tr>\n",
       "      <th>0</th>\n",
       "      <td>1</td>\n",
       "      <td>McDonald's</td>\n",
       "      <td>Fast food restaurant</td>\n",
       "      <td>13749 US-183 Hwy, Austin, TX 78750, United States</td>\n",
       "      <td>30.460718</td>\n",
       "      <td>-97.792874</td>\n",
       "      <td>1,240</td>\n",
       "      <td>3 months ago</td>\n",
       "      <td>Why does it look like someone spit on my food?...</td>\n",
       "      <td>1 star</td>\n",
       "    </tr>\n",
       "    <tr>\n",
       "      <th>1</th>\n",
       "      <td>2</td>\n",
       "      <td>McDonald's</td>\n",
       "      <td>Fast food restaurant</td>\n",
       "      <td>13749 US-183 Hwy, Austin, TX 78750, United States</td>\n",
       "      <td>30.460718</td>\n",
       "      <td>-97.792874</td>\n",
       "      <td>1,240</td>\n",
       "      <td>5 days ago</td>\n",
       "      <td>It'd McDonalds. It is what it is as far as the...</td>\n",
       "      <td>4 stars</td>\n",
       "    </tr>\n",
       "    <tr>\n",
       "      <th>2</th>\n",
       "      <td>3</td>\n",
       "      <td>McDonald's</td>\n",
       "      <td>Fast food restaurant</td>\n",
       "      <td>13749 US-183 Hwy, Austin, TX 78750, United States</td>\n",
       "      <td>30.460718</td>\n",
       "      <td>-97.792874</td>\n",
       "      <td>1,240</td>\n",
       "      <td>5 days ago</td>\n",
       "      <td>Made a mobile order got to the speaker and che...</td>\n",
       "      <td>1 star</td>\n",
       "    </tr>\n",
       "    <tr>\n",
       "      <th>3</th>\n",
       "      <td>4</td>\n",
       "      <td>McDonald's</td>\n",
       "      <td>Fast food restaurant</td>\n",
       "      <td>13749 US-183 Hwy, Austin, TX 78750, United States</td>\n",
       "      <td>30.460718</td>\n",
       "      <td>-97.792874</td>\n",
       "      <td>1,240</td>\n",
       "      <td>a month ago</td>\n",
       "      <td>My mc. Crispy chicken sandwich was ï¿½ï¿½ï¿½ï¿...</td>\n",
       "      <td>5 stars</td>\n",
       "    </tr>\n",
       "    <tr>\n",
       "      <th>4</th>\n",
       "      <td>5</td>\n",
       "      <td>McDonald's</td>\n",
       "      <td>Fast food restaurant</td>\n",
       "      <td>13749 US-183 Hwy, Austin, TX 78750, United States</td>\n",
       "      <td>30.460718</td>\n",
       "      <td>-97.792874</td>\n",
       "      <td>1,240</td>\n",
       "      <td>2 months ago</td>\n",
       "      <td>I repeat my order 3 times in the drive thru, a...</td>\n",
       "      <td>1 star</td>\n",
       "    </tr>\n",
       "  </tbody>\n",
       "</table>\n",
       "</div>"
      ],
      "text/plain": [
       "   reviewer_id  store_name              category  \\\n",
       "0            1  McDonald's  Fast food restaurant   \n",
       "1            2  McDonald's  Fast food restaurant   \n",
       "2            3  McDonald's  Fast food restaurant   \n",
       "3            4  McDonald's  Fast food restaurant   \n",
       "4            5  McDonald's  Fast food restaurant   \n",
       "\n",
       "                                       store_address  latitude   longitude  \\\n",
       "0  13749 US-183 Hwy, Austin, TX 78750, United States  30.460718 -97.792874   \n",
       "1  13749 US-183 Hwy, Austin, TX 78750, United States  30.460718 -97.792874   \n",
       "2  13749 US-183 Hwy, Austin, TX 78750, United States  30.460718 -97.792874   \n",
       "3  13749 US-183 Hwy, Austin, TX 78750, United States  30.460718 -97.792874   \n",
       "4  13749 US-183 Hwy, Austin, TX 78750, United States  30.460718 -97.792874   \n",
       "\n",
       "  rating_count   review_time  \\\n",
       "0        1,240  3 months ago   \n",
       "1        1,240    5 days ago   \n",
       "2        1,240    5 days ago   \n",
       "3        1,240   a month ago   \n",
       "4        1,240  2 months ago   \n",
       "\n",
       "                                              review   rating  \n",
       "0  Why does it look like someone spit on my food?...   1 star  \n",
       "1  It'd McDonalds. It is what it is as far as the...  4 stars  \n",
       "2  Made a mobile order got to the speaker and che...   1 star  \n",
       "3  My mc. Crispy chicken sandwich was ï¿½ï¿½ï¿½ï¿...  5 stars  \n",
       "4  I repeat my order 3 times in the drive thru, a...   1 star  "
      ]
     },
     "execution_count": 38,
     "metadata": {},
     "output_type": "execute_result"
    }
   ],
   "source": [
    "df.head()"
   ]
  },
  {
   "cell_type": "code",
   "execution_count": 39,
   "id": "e1ff90fb",
   "metadata": {},
   "outputs": [
    {
     "data": {
      "text/html": [
       "<div>\n",
       "<style scoped>\n",
       "    .dataframe tbody tr th:only-of-type {\n",
       "        vertical-align: middle;\n",
       "    }\n",
       "\n",
       "    .dataframe tbody tr th {\n",
       "        vertical-align: top;\n",
       "    }\n",
       "\n",
       "    .dataframe thead th {\n",
       "        text-align: right;\n",
       "    }\n",
       "</style>\n",
       "<table border=\"1\" class=\"dataframe\">\n",
       "  <thead>\n",
       "    <tr style=\"text-align: right;\">\n",
       "      <th></th>\n",
       "      <th>reviewer_id</th>\n",
       "      <th>store_name</th>\n",
       "      <th>category</th>\n",
       "      <th>store_address</th>\n",
       "      <th>latitude</th>\n",
       "      <th>longitude</th>\n",
       "      <th>rating_count</th>\n",
       "      <th>review_time</th>\n",
       "      <th>review</th>\n",
       "      <th>rating</th>\n",
       "    </tr>\n",
       "  </thead>\n",
       "  <tbody>\n",
       "    <tr>\n",
       "      <th>count</th>\n",
       "      <td>33396.000000</td>\n",
       "      <td>33396</td>\n",
       "      <td>33396</td>\n",
       "      <td>33396</td>\n",
       "      <td>32736.000000</td>\n",
       "      <td>32736.000000</td>\n",
       "      <td>33396</td>\n",
       "      <td>33396</td>\n",
       "      <td>33396</td>\n",
       "      <td>33396</td>\n",
       "    </tr>\n",
       "    <tr>\n",
       "      <th>unique</th>\n",
       "      <td>NaN</td>\n",
       "      <td>2</td>\n",
       "      <td>1</td>\n",
       "      <td>40</td>\n",
       "      <td>NaN</td>\n",
       "      <td>NaN</td>\n",
       "      <td>51</td>\n",
       "      <td>39</td>\n",
       "      <td>22285</td>\n",
       "      <td>5</td>\n",
       "    </tr>\n",
       "    <tr>\n",
       "      <th>top</th>\n",
       "      <td>NaN</td>\n",
       "      <td>McDonald's</td>\n",
       "      <td>Fast food restaurant</td>\n",
       "      <td>9814 International Dr, Orlando, FL 32819, Unit...</td>\n",
       "      <td>NaN</td>\n",
       "      <td>NaN</td>\n",
       "      <td>2,810</td>\n",
       "      <td>4 years ago</td>\n",
       "      <td>Excellent</td>\n",
       "      <td>5 stars</td>\n",
       "    </tr>\n",
       "    <tr>\n",
       "      <th>freq</th>\n",
       "      <td>NaN</td>\n",
       "      <td>33325</td>\n",
       "      <td>33396</td>\n",
       "      <td>1890</td>\n",
       "      <td>NaN</td>\n",
       "      <td>NaN</td>\n",
       "      <td>1140</td>\n",
       "      <td>6740</td>\n",
       "      <td>2148</td>\n",
       "      <td>10274</td>\n",
       "    </tr>\n",
       "    <tr>\n",
       "      <th>mean</th>\n",
       "      <td>16698.500000</td>\n",
       "      <td>NaN</td>\n",
       "      <td>NaN</td>\n",
       "      <td>NaN</td>\n",
       "      <td>34.442546</td>\n",
       "      <td>-90.647033</td>\n",
       "      <td>NaN</td>\n",
       "      <td>NaN</td>\n",
       "      <td>NaN</td>\n",
       "      <td>NaN</td>\n",
       "    </tr>\n",
       "    <tr>\n",
       "      <th>std</th>\n",
       "      <td>9640.739131</td>\n",
       "      <td>NaN</td>\n",
       "      <td>NaN</td>\n",
       "      <td>NaN</td>\n",
       "      <td>5.344116</td>\n",
       "      <td>16.594844</td>\n",
       "      <td>NaN</td>\n",
       "      <td>NaN</td>\n",
       "      <td>NaN</td>\n",
       "      <td>NaN</td>\n",
       "    </tr>\n",
       "    <tr>\n",
       "      <th>min</th>\n",
       "      <td>1.000000</td>\n",
       "      <td>NaN</td>\n",
       "      <td>NaN</td>\n",
       "      <td>NaN</td>\n",
       "      <td>25.790295</td>\n",
       "      <td>-121.995421</td>\n",
       "      <td>NaN</td>\n",
       "      <td>NaN</td>\n",
       "      <td>NaN</td>\n",
       "      <td>NaN</td>\n",
       "    </tr>\n",
       "    <tr>\n",
       "      <th>25%</th>\n",
       "      <td>8349.750000</td>\n",
       "      <td>NaN</td>\n",
       "      <td>NaN</td>\n",
       "      <td>NaN</td>\n",
       "      <td>28.655350</td>\n",
       "      <td>-97.792874</td>\n",
       "      <td>NaN</td>\n",
       "      <td>NaN</td>\n",
       "      <td>NaN</td>\n",
       "      <td>NaN</td>\n",
       "    </tr>\n",
       "    <tr>\n",
       "      <th>50%</th>\n",
       "      <td>16698.500000</td>\n",
       "      <td>NaN</td>\n",
       "      <td>NaN</td>\n",
       "      <td>NaN</td>\n",
       "      <td>33.931261</td>\n",
       "      <td>-81.471414</td>\n",
       "      <td>NaN</td>\n",
       "      <td>NaN</td>\n",
       "      <td>NaN</td>\n",
       "      <td>NaN</td>\n",
       "    </tr>\n",
       "    <tr>\n",
       "      <th>75%</th>\n",
       "      <td>25047.250000</td>\n",
       "      <td>NaN</td>\n",
       "      <td>NaN</td>\n",
       "      <td>NaN</td>\n",
       "      <td>40.727401</td>\n",
       "      <td>-75.399919</td>\n",
       "      <td>NaN</td>\n",
       "      <td>NaN</td>\n",
       "      <td>NaN</td>\n",
       "      <td>NaN</td>\n",
       "    </tr>\n",
       "    <tr>\n",
       "      <th>max</th>\n",
       "      <td>33396.000000</td>\n",
       "      <td>NaN</td>\n",
       "      <td>NaN</td>\n",
       "      <td>NaN</td>\n",
       "      <td>44.981410</td>\n",
       "      <td>-73.459820</td>\n",
       "      <td>NaN</td>\n",
       "      <td>NaN</td>\n",
       "      <td>NaN</td>\n",
       "      <td>NaN</td>\n",
       "    </tr>\n",
       "  </tbody>\n",
       "</table>\n",
       "</div>"
      ],
      "text/plain": [
       "         reviewer_id  store_name              category  \\\n",
       "count   33396.000000       33396                 33396   \n",
       "unique           NaN           2                     1   \n",
       "top              NaN  McDonald's  Fast food restaurant   \n",
       "freq             NaN       33325                 33396   \n",
       "mean    16698.500000         NaN                   NaN   \n",
       "std      9640.739131         NaN                   NaN   \n",
       "min         1.000000         NaN                   NaN   \n",
       "25%      8349.750000         NaN                   NaN   \n",
       "50%     16698.500000         NaN                   NaN   \n",
       "75%     25047.250000         NaN                   NaN   \n",
       "max     33396.000000         NaN                   NaN   \n",
       "\n",
       "                                            store_address     latitude   \\\n",
       "count                                               33396  32736.000000   \n",
       "unique                                                 40           NaN   \n",
       "top     9814 International Dr, Orlando, FL 32819, Unit...           NaN   \n",
       "freq                                                 1890           NaN   \n",
       "mean                                                  NaN     34.442546   \n",
       "std                                                   NaN      5.344116   \n",
       "min                                                   NaN     25.790295   \n",
       "25%                                                   NaN     28.655350   \n",
       "50%                                                   NaN     33.931261   \n",
       "75%                                                   NaN     40.727401   \n",
       "max                                                   NaN     44.981410   \n",
       "\n",
       "           longitude rating_count  review_time      review   rating  \n",
       "count   32736.000000        33396        33396       33396    33396  \n",
       "unique           NaN           51           39       22285        5  \n",
       "top              NaN        2,810  4 years ago  Excellent   5 stars  \n",
       "freq             NaN         1140         6740        2148    10274  \n",
       "mean      -90.647033          NaN          NaN         NaN      NaN  \n",
       "std        16.594844          NaN          NaN         NaN      NaN  \n",
       "min      -121.995421          NaN          NaN         NaN      NaN  \n",
       "25%       -97.792874          NaN          NaN         NaN      NaN  \n",
       "50%       -81.471414          NaN          NaN         NaN      NaN  \n",
       "75%       -75.399919          NaN          NaN         NaN      NaN  \n",
       "max       -73.459820          NaN          NaN         NaN      NaN  "
      ]
     },
     "execution_count": 39,
     "metadata": {},
     "output_type": "execute_result"
    }
   ],
   "source": [
    "df.describe(include=\"all\")"
   ]
  },
  {
   "cell_type": "code",
   "execution_count": 40,
   "id": "48b12136",
   "metadata": {},
   "outputs": [
    {
     "data": {
      "text/plain": [
       "8484"
      ]
     },
     "execution_count": 40,
     "metadata": {},
     "output_type": "execute_result"
    }
   ],
   "source": [
    "# compter les enventuels doublons en ignorant la colonne 'reviewer_id' et \"rating_count\"\n",
    "len(df)-len(df.drop_duplicates(subset=df.columns.difference(['reviewer_id',\"rating_count\"])))\n"
   ]
  },
  {
   "cell_type": "code",
   "execution_count": 41,
   "id": "ba345767",
   "metadata": {},
   "outputs": [
    {
     "data": {
      "text/html": [
       "<div>\n",
       "<style scoped>\n",
       "    .dataframe tbody tr th:only-of-type {\n",
       "        vertical-align: middle;\n",
       "    }\n",
       "\n",
       "    .dataframe tbody tr th {\n",
       "        vertical-align: top;\n",
       "    }\n",
       "\n",
       "    .dataframe thead th {\n",
       "        text-align: right;\n",
       "    }\n",
       "</style>\n",
       "<table border=\"1\" class=\"dataframe\">\n",
       "  <thead>\n",
       "    <tr style=\"text-align: right;\">\n",
       "      <th></th>\n",
       "      <th>reviewer_id</th>\n",
       "      <th>store_name</th>\n",
       "      <th>category</th>\n",
       "      <th>store_address</th>\n",
       "      <th>latitude</th>\n",
       "      <th>longitude</th>\n",
       "      <th>rating_count</th>\n",
       "      <th>review_time</th>\n",
       "      <th>review</th>\n",
       "      <th>rating</th>\n",
       "    </tr>\n",
       "  </thead>\n",
       "  <tbody>\n",
       "    <tr>\n",
       "      <th>22141</th>\n",
       "      <td>22142</td>\n",
       "      <td>McDonald's</td>\n",
       "      <td>Fast food restaurant</td>\n",
       "      <td>2476 Kalï¿½ï¿½ï¿½ï¿½ï¿½ï¿½ï¿½ï¿½ï¿½ï¿½ï¿½ï¿½ï¿...</td>\n",
       "      <td>NaN</td>\n",
       "      <td>NaN</td>\n",
       "      <td>2,175</td>\n",
       "      <td>3 months ago</td>\n",
       "      <td>Breakfast specials are good. The sausage burri...</td>\n",
       "      <td>4 stars</td>\n",
       "    </tr>\n",
       "    <tr>\n",
       "      <th>22142</th>\n",
       "      <td>22143</td>\n",
       "      <td>McDonald's</td>\n",
       "      <td>Fast food restaurant</td>\n",
       "      <td>2476 Kalï¿½ï¿½ï¿½ï¿½ï¿½ï¿½ï¿½ï¿½ï¿½ï¿½ï¿½ï¿½ï¿...</td>\n",
       "      <td>NaN</td>\n",
       "      <td>NaN</td>\n",
       "      <td>2,175</td>\n",
       "      <td>a year ago</td>\n",
       "      <td>This isn't your typical McDonald's. This place...</td>\n",
       "      <td>5 stars</td>\n",
       "    </tr>\n",
       "    <tr>\n",
       "      <th>22143</th>\n",
       "      <td>22144</td>\n",
       "      <td>McDonald's</td>\n",
       "      <td>Fast food restaurant</td>\n",
       "      <td>2476 Kalï¿½ï¿½ï¿½ï¿½ï¿½ï¿½ï¿½ï¿½ï¿½ï¿½ï¿½ï¿½ï¿...</td>\n",
       "      <td>NaN</td>\n",
       "      <td>NaN</td>\n",
       "      <td>2,175</td>\n",
       "      <td>2 weeks ago</td>\n",
       "      <td>This place was serving good quality breakfast ...</td>\n",
       "      <td>4 stars</td>\n",
       "    </tr>\n",
       "  </tbody>\n",
       "</table>\n",
       "</div>"
      ],
      "text/plain": [
       "       reviewer_id  store_name              category  \\\n",
       "22141        22142  McDonald's  Fast food restaurant   \n",
       "22142        22143  McDonald's  Fast food restaurant   \n",
       "22143        22144  McDonald's  Fast food restaurant   \n",
       "\n",
       "                                           store_address  latitude   \\\n",
       "22141  2476 Kalï¿½ï¿½ï¿½ï¿½ï¿½ï¿½ï¿½ï¿½ï¿½ï¿½ï¿½ï¿½ï¿...        NaN   \n",
       "22142  2476 Kalï¿½ï¿½ï¿½ï¿½ï¿½ï¿½ï¿½ï¿½ï¿½ï¿½ï¿½ï¿½ï¿...        NaN   \n",
       "22143  2476 Kalï¿½ï¿½ï¿½ï¿½ï¿½ï¿½ï¿½ï¿½ï¿½ï¿½ï¿½ï¿½ï¿...        NaN   \n",
       "\n",
       "       longitude rating_count   review_time  \\\n",
       "22141        NaN        2,175  3 months ago   \n",
       "22142        NaN        2,175    a year ago   \n",
       "22143        NaN        2,175   2 weeks ago   \n",
       "\n",
       "                                                  review   rating  \n",
       "22141  Breakfast specials are good. The sausage burri...  4 stars  \n",
       "22142  This isn't your typical McDonald's. This place...  5 stars  \n",
       "22143  This place was serving good quality breakfast ...  4 stars  "
      ]
     },
     "execution_count": 41,
     "metadata": {},
     "output_type": "execute_result"
    }
   ],
   "source": [
    "df[df.isnull().any(axis = 1)].head(3)\n",
    "#les valeurs longitudes et latitudes manquantes ont également des adresses incorrectes."
   ]
  },
  {
   "cell_type": "code",
   "execution_count": 42,
   "id": "c98ee6ca",
   "metadata": {},
   "outputs": [
    {
     "data": {
      "text/plain": [
       "store_name\n",
       "McDonald's       33325\n",
       "ýýýMcDonald's       71\n",
       "Name: count, dtype: int64"
      ]
     },
     "execution_count": 42,
     "metadata": {},
     "output_type": "execute_result"
    }
   ],
   "source": [
    "df.store_name.value_counts()\n",
    "#pas de distinction notable sur les les store_name mal écrits"
   ]
  },
  {
   "cell_type": "code",
   "execution_count": 43,
   "id": "89a87931",
   "metadata": {},
   "outputs": [
    {
     "data": {
      "text/plain": [
       "6163     ýýýýýýýýýýýýýýýýýýýýýýýýýýýýýýýýýýýýýýýýýýýýýý...\n",
       "29362                    ýýýýýýýýýýýýýýýýýýýýýýýýýýýýýýýýý\n",
       "4898                  ýýýýýýýýýýýýýýýýýýýýýýýýýýýýýýýý ýýý\n",
       "15018                                ýýýýýýýýýýýýýýýýýýýýý\n",
       "12379                             ýýýýýýýýýýýýýýýýýýýý ýýý\n",
       "                               ...                        \n",
       "21773                   \"24 hour\" store that is closed....\n",
       "7110     !! Fraud location !! !!!Fraud location !!!, th...\n",
       "700                  waiting time was longer than expected\n",
       "661                  waiting time was longer than expected\n",
       "656                          staff was rude and dismissive\n",
       "Name: review, Length: 33396, dtype: object"
      ]
     },
     "execution_count": 43,
     "metadata": {},
     "output_type": "execute_result"
    }
   ],
   "source": [
    "df.review.sort_values(ascending=False) #des reviews avec des caractères illisibles"
   ]
  },
  {
   "cell_type": "markdown",
   "id": "c1574388",
   "metadata": {},
   "source": [
    "# Cleaning"
   ]
  },
  {
   "cell_type": "code",
   "execution_count": 144,
   "id": "382f0a6b",
   "metadata": {},
   "outputs": [],
   "source": [
    "df1=df.copy()"
   ]
  },
  {
   "cell_type": "code",
   "execution_count": 145,
   "id": "8789b8aa",
   "metadata": {},
   "outputs": [],
   "source": [
    "# Correcting review_time\n",
    "df1.loc[df1['review_time'].str.startswith('a'), 'review_time'] = \\\n",
    "    df1.loc[df1['review_time'].str.startswith('a'), 'review_time'].str.replace('a', '1', n=1)"
   ]
  },
  {
   "cell_type": "code",
   "execution_count": 146,
   "id": "4c2c460e",
   "metadata": {},
   "outputs": [],
   "source": [
    "# Correcting store_address\n",
    "df1['store_address'] = df1['store_address'].str.replace('ï¿½', '')\n",
    "\n",
    "df1.loc[df1['store_address'] == '2476 Kal', 'store_address'] = '2476 Kalakaua Ave, Honolulu, HI 96815, United States'\n",
    "\n",
    "mask = df1['store_address'] == '2476 Kalakaua Ave, Honolulu, HI 96815, United States'\n",
    "df1.loc[mask, ['latitude ', 'longitude']] = df1.loc[mask, ['latitude ', 'longitude']].fillna({\n",
    "    'latitude ': 21.274506, \n",
    "    'longitude': -157.824215\n",
    "})"
   ]
  },
  {
   "cell_type": "code",
   "execution_count": 147,
   "id": "69910616",
   "metadata": {},
   "outputs": [],
   "source": [
    "# Correcting latitude\n",
    "df1.rename(columns={'latitude ': 'latitude'}, inplace=True)"
   ]
  },
  {
   "cell_type": "markdown",
   "id": "e681a850",
   "metadata": {},
   "source": [
    "## Feature engineering"
   ]
  },
  {
   "cell_type": "markdown",
   "id": "eb12dd29",
   "metadata": {},
   "source": [
    "### Feauture engineering on review_time column"
   ]
  },
  {
   "cell_type": "code",
   "execution_count": 148,
   "id": "ae9f1c19",
   "metadata": {},
   "outputs": [],
   "source": [
    "# Create function to parse the column review_time with the current date\n",
    "def parse_relative_date(s, current_date):\n",
    "\n",
    "    parts = s.strip().split()\n",
    "    if len(parts) != 3:\n",
    "        return None\n",
    "\n",
    "    # This checks if the number is represented as \"a\" or \"an\" , as shown the dataset\n",
    "    # we have columns that says a monthh ago which equivalent to 1 month ago\n",
    "    num_str = parts[0].lower()\n",
    "    if num_str in ['a', 'an']:\n",
    "        num = 1\n",
    "    else:\n",
    "        try:\n",
    "            num = int(num_str)\n",
    "        except ValueError:\n",
    "            return None\n",
    "\n",
    "    unit = parts[1].lower()\n",
    "\n",
    "    # This adjusts the current date based on the chosen unit\n",
    "    if 'day' in unit:\n",
    "        abs_date = current_date - pd.Timedelta(days=num)\n",
    "    elif 'month' in unit:\n",
    "        abs_date = current_date - relativedelta(months=num)\n",
    "    elif 'year' in unit:\n",
    "        abs_date = current_date - relativedelta(years=num)\n",
    "    else:\n",
    "        return None\n",
    "\n",
    "    # Normalize to remove the time (sets time to 00:00:00)\n",
    "    return abs_date.normalize()\n",
    "\n",
    "# Current date timestamp\n",
    "current_date = pd.Timestamp.now()\n",
    "\n",
    "# Apply the function to create a new column with the actual dates\n",
    "df1['review_date'] = df1['review_time'].apply(lambda x: parse_relative_date(x, current_date))\n",
    "\n",
    "# Drop the column df1['review_time']\n",
    "df1 = df1.drop(columns='review_time')\n",
    "\n"
   ]
  },
  {
   "cell_type": "markdown",
   "id": "2f59437f",
   "metadata": {},
   "source": [
    "### Feauture engineering on store_address column"
   ]
  },
  {
   "cell_type": "code",
   "execution_count": 149,
   "id": "40a64745",
   "metadata": {},
   "outputs": [],
   "source": [
    "df1[['City', 'State']] = df1['store_address'].apply(lambda x: pd.Series(x.split(', ')[-3:-1]))"
   ]
  },
  {
   "cell_type": "code",
   "execution_count": 150,
   "id": "a90a84da",
   "metadata": {},
   "outputs": [],
   "source": [
    "df1[\"State\"]=df1[\"State\"].str.split().str[0]"
   ]
  },
  {
   "cell_type": "code",
   "execution_count": 151,
   "id": "a9a1bef8",
   "metadata": {},
   "outputs": [],
   "source": [
    "df1[\"store_address\"]=df1[\"store_address\"].str.split(\",\").str[0]"
   ]
  },
  {
   "cell_type": "code",
   "execution_count": 152,
   "id": "4b9cdc1f",
   "metadata": {},
   "outputs": [],
   "source": [
    "df1=df1[['reviewer_id',\n",
    "        'store_name','category','store_address', 'latitude', 'longitude','City', 'State',\n",
    "        'rating_count','review','rating', 'review_date']]"
   ]
  },
  {
   "cell_type": "markdown",
   "id": "fe4363fe",
   "metadata": {},
   "source": [
    "### Feauture engineering on rating column"
   ]
  },
  {
   "cell_type": "code",
   "execution_count": 153,
   "id": "5386df9b",
   "metadata": {},
   "outputs": [],
   "source": [
    "# Remove the 'star' in the column rating \n",
    "df1[\"rating\"] = (df1[\"rating\"].str.split(\" \").str[0].astype(int))"
   ]
  },
  {
   "cell_type": "markdown",
   "id": "d32bc6f2",
   "metadata": {},
   "source": [
    "### Drop unnecessary columns"
   ]
  },
  {
   "cell_type": "code",
   "execution_count": 154,
   "id": "755db0ee",
   "metadata": {},
   "outputs": [],
   "source": [
    "# Drop columns, 'store_name', 'category','rating_count'\n",
    "df1 = df1.drop(columns=['store_name', 'category','rating_count'])"
   ]
  },
  {
   "cell_type": "markdown",
   "id": "891bcb2e",
   "metadata": {},
   "source": [
    "## Check unique values and duplicates"
   ]
  },
  {
   "cell_type": "code",
   "execution_count": 155,
   "id": "54479d72",
   "metadata": {},
   "outputs": [
    {
     "name": "stdout",
     "output_type": "stream",
     "text": [
      "reviewer_id      33396\n",
      "store_address       40\n",
      "latitude            40\n",
      "longitude           40\n",
      "City                27\n",
      "State               12\n",
      "review           22285\n",
      "rating               5\n",
      "review_date         29\n",
      "dtype: int64\n"
     ]
    }
   ],
   "source": [
    "# Check unique values\n",
    "columns_to_check = ['reviewer_id', 'store_address', 'latitude', 'longitude', 'City', 'State','review',\n",
    "       'rating', 'review_date' ]\n",
    "\n",
    "unique_counts = df1[columns_to_check].nunique()\n",
    "\n",
    "print(unique_counts)"
   ]
  },
  {
   "cell_type": "code",
   "execution_count": 156,
   "id": "3c5b7470",
   "metadata": {},
   "outputs": [
    {
     "name": "stdout",
     "output_type": "stream",
     "text": [
      "Total duplicate rows: 0\n"
     ]
    }
   ],
   "source": [
    "# Check for duplicates\n",
    "duplicate_rows = df1[df1.duplicated()]\n",
    "print(f\"Total duplicate rows: {duplicate_rows.shape[0]}\")"
   ]
  },
  {
   "cell_type": "markdown",
   "id": "12aa8be8",
   "metadata": {},
   "source": [
    "## Clean column 'review' and remove special characters"
   ]
  },
  {
   "cell_type": "code",
   "execution_count": 157,
   "id": "2b173aeb",
   "metadata": {},
   "outputs": [],
   "source": [
    "df2 = df1.copy()"
   ]
  },
  {
   "cell_type": "code",
   "execution_count": 158,
   "id": "a30ff1cd",
   "metadata": {},
   "outputs": [
    {
     "name": "stdout",
     "output_type": "stream",
     "text": [
      "                                           clean_reviews\n",
      "0      Why does it look like someone spit on my food ...\n",
      "1      Itd McDonalds It is what it is as far as the f...\n",
      "2      Made a mobile order got to the speaker and che...\n",
      "3      My mc Crispy chicken sandwich was customer ser...\n",
      "4      I repeat my order times in the drive thru and ...\n",
      "...                                                  ...\n",
      "33391                         They treated me very badly\n",
      "33392                           The service is very good\n",
      "33393                         To remove hunger is enough\n",
      "33394   Its good but lately it has become very expensive\n",
      "33395                          they took good care of me\n",
      "\n",
      "[33396 rows x 1 columns]\n"
     ]
    }
   ],
   "source": [
    "# Create function to remove special characters in the review column\n",
    "def clean_review(review):\n",
    "    #review = review.lower()\n",
    "    review = review.replace('½ï', '').replace('ý', '')\n",
    "    review = re.sub(r'[^a-zA-Z\\s]', '', review)\n",
    "    review = re.sub(r'\\s+', ' ', review).strip()\n",
    "    return review\n",
    "\n",
    "df2['clean_reviews'] = df2['review'].apply(clean_review)\n",
    "\n",
    "print(df2[['clean_reviews']])"
   ]
  },
  {
   "cell_type": "code",
   "execution_count": 159,
   "id": "83b097b2",
   "metadata": {},
   "outputs": [
    {
     "name": "stdout",
     "output_type": "stream",
     "text": [
      "                                                  review\n",
      "0      Why does it look like someone spit on my food?...\n",
      "1      It'd McDonalds. It is what it is as far as the...\n",
      "2      Made a mobile order got to the speaker and che...\n",
      "3      My mc. Crispy chicken sandwich was ..............\n",
      "4      I repeat my order 3 times in the drive thru, a...\n",
      "...                                                  ...\n",
      "33391                        They treated me very badly.\n",
      "33392                           The service is very good\n",
      "33393                         To remove hunger is enough\n",
      "33394  It's good, but lately it has become very expen...\n",
      "33395                          they took good care of me\n",
      "\n",
      "[33396 rows x 1 columns]\n"
     ]
    }
   ],
   "source": [
    "# replace special characters in the review column\n",
    "def review(review):\n",
    "    review = review.replace('½ï', '.').replace('ý', '.').replace('ï','.').replace('¿','.')\n",
    "    review = re.sub(r'\\s+', ' ', review).strip()\n",
    "    return review\n",
    "\n",
    "df2['review'] = df2['review'].apply(review)\n",
    "\n",
    "print(df2[['review']])"
   ]
  },
  {
   "cell_type": "markdown",
   "id": "107df243",
   "metadata": {},
   "source": [
    "## Create new column 'actual_sentiment' and assign sentiments(negative, positive and neutral) for each rating"
   ]
  },
  {
   "cell_type": "code",
   "execution_count": 160,
   "id": "b26dfc1c",
   "metadata": {},
   "outputs": [],
   "source": [
    "# Function to add column for the actual review: positive : ratings > 3,\n",
    "# neutral: ratings == 3, negative : ratings <3.\n",
    "def actual_sentiment(data):\n",
    "    if data['rating'] > 3:\n",
    "        return \"positive\" \n",
    "    elif data[\"rating\"] == 3:\n",
    "        return \"neutral\"\n",
    "    else:\n",
    "        return \"negative\"\n",
    "\n",
    "# Apply the function to each row\n",
    "df2['actual_sentiment'] = df2.apply(actual_sentiment, axis=1)"
   ]
  },
  {
   "cell_type": "markdown",
   "id": "134c4511",
   "metadata": {},
   "source": [
    "## Check duplicates in the 'clean_review' column"
   ]
  },
  {
   "cell_type": "code",
   "execution_count": 161,
   "id": "5286a917",
   "metadata": {},
   "outputs": [
    {
     "name": "stdout",
     "output_type": "stream",
     "text": [
      "Total duplicate reviews: 11581\n"
     ]
    },
    {
     "data": {
      "text/html": [
       "<div>\n",
       "<style scoped>\n",
       "    .dataframe tbody tr th:only-of-type {\n",
       "        vertical-align: middle;\n",
       "    }\n",
       "\n",
       "    .dataframe tbody tr th {\n",
       "        vertical-align: top;\n",
       "    }\n",
       "\n",
       "    .dataframe thead th {\n",
       "        text-align: right;\n",
       "    }\n",
       "</style>\n",
       "<table border=\"1\" class=\"dataframe\">\n",
       "  <thead>\n",
       "    <tr style=\"text-align: right;\">\n",
       "      <th></th>\n",
       "      <th>reviewer_id</th>\n",
       "      <th>store_address</th>\n",
       "      <th>latitude</th>\n",
       "      <th>longitude</th>\n",
       "      <th>City</th>\n",
       "      <th>State</th>\n",
       "      <th>review</th>\n",
       "      <th>rating</th>\n",
       "      <th>review_date</th>\n",
       "      <th>clean_reviews</th>\n",
       "      <th>actual_sentiment</th>\n",
       "    </tr>\n",
       "  </thead>\n",
       "  <tbody>\n",
       "    <tr>\n",
       "      <th>426</th>\n",
       "      <td>427</td>\n",
       "      <td>13749 US-183 Hwy</td>\n",
       "      <td>30.460718</td>\n",
       "      <td>-97.792874</td>\n",
       "      <td>Austin</td>\n",
       "      <td>TX</td>\n",
       "      <td>Good food and good service</td>\n",
       "      <td>5</td>\n",
       "      <td>2021-04-14</td>\n",
       "      <td>Good food and good service</td>\n",
       "      <td>positive</td>\n",
       "    </tr>\n",
       "    <tr>\n",
       "      <th>463</th>\n",
       "      <td>464</td>\n",
       "      <td>13749 US-183 Hwy</td>\n",
       "      <td>30.460718</td>\n",
       "      <td>-97.792874</td>\n",
       "      <td>Austin</td>\n",
       "      <td>TX</td>\n",
       "      <td>Good</td>\n",
       "      <td>5</td>\n",
       "      <td>2024-04-14</td>\n",
       "      <td>Good</td>\n",
       "      <td>positive</td>\n",
       "    </tr>\n",
       "    <tr>\n",
       "      <th>470</th>\n",
       "      <td>471</td>\n",
       "      <td>13749 US-183 Hwy</td>\n",
       "      <td>30.460718</td>\n",
       "      <td>-97.792874</td>\n",
       "      <td>Austin</td>\n",
       "      <td>TX</td>\n",
       "      <td>Great service</td>\n",
       "      <td>4</td>\n",
       "      <td>2024-04-14</td>\n",
       "      <td>Great service</td>\n",
       "      <td>positive</td>\n",
       "    </tr>\n",
       "    <tr>\n",
       "      <th>479</th>\n",
       "      <td>480</td>\n",
       "      <td>13749 US-183 Hwy</td>\n",
       "      <td>30.460718</td>\n",
       "      <td>-97.792874</td>\n",
       "      <td>Austin</td>\n",
       "      <td>TX</td>\n",
       "      <td>Fast.</td>\n",
       "      <td>3</td>\n",
       "      <td>2020-04-14</td>\n",
       "      <td>Fast</td>\n",
       "      <td>neutral</td>\n",
       "    </tr>\n",
       "    <tr>\n",
       "      <th>495</th>\n",
       "      <td>496</td>\n",
       "      <td>13749 US-183 Hwy</td>\n",
       "      <td>30.460718</td>\n",
       "      <td>-97.792874</td>\n",
       "      <td>Austin</td>\n",
       "      <td>TX</td>\n",
       "      <td>Great service</td>\n",
       "      <td>4</td>\n",
       "      <td>2022-04-14</td>\n",
       "      <td>Great service</td>\n",
       "      <td>positive</td>\n",
       "    </tr>\n",
       "  </tbody>\n",
       "</table>\n",
       "</div>"
      ],
      "text/plain": [
       "     reviewer_id     store_address   latitude  longitude    City State  \\\n",
       "426          427  13749 US-183 Hwy  30.460718 -97.792874  Austin    TX   \n",
       "463          464  13749 US-183 Hwy  30.460718 -97.792874  Austin    TX   \n",
       "470          471  13749 US-183 Hwy  30.460718 -97.792874  Austin    TX   \n",
       "479          480  13749 US-183 Hwy  30.460718 -97.792874  Austin    TX   \n",
       "495          496  13749 US-183 Hwy  30.460718 -97.792874  Austin    TX   \n",
       "\n",
       "                         review  rating review_date  \\\n",
       "426  Good food and good service       5  2021-04-14   \n",
       "463                        Good       5  2024-04-14   \n",
       "470               Great service       4  2024-04-14   \n",
       "479                       Fast.       3  2020-04-14   \n",
       "495               Great service       4  2022-04-14   \n",
       "\n",
       "                  clean_reviews actual_sentiment  \n",
       "426  Good food and good service         positive  \n",
       "463                        Good         positive  \n",
       "470               Great service         positive  \n",
       "479                        Fast          neutral  \n",
       "495               Great service         positive  "
      ]
     },
     "execution_count": 161,
     "metadata": {},
     "output_type": "execute_result"
    }
   ],
   "source": [
    "duplicates = df2[df2['clean_reviews'].duplicated()]\n",
    "print(f\"Total duplicate reviews: {duplicates.shape[0]}\")\n",
    "duplicates.head()"
   ]
  },
  {
   "cell_type": "code",
   "execution_count": 162,
   "id": "40790ac4",
   "metadata": {},
   "outputs": [
    {
     "name": "stdout",
     "output_type": "stream",
     "text": [
      "New dataset size: 21815\n"
     ]
    }
   ],
   "source": [
    "# Drop duplicates in the column\n",
    "df2 = df2.drop_duplicates(subset='clean_reviews')\n",
    "print(f\"New dataset size: {df2.shape[0]}\")"
   ]
  },
  {
   "cell_type": "markdown",
   "id": "793472d9",
   "metadata": {},
   "source": [
    " ## Fill Missing Values"
   ]
  },
  {
   "cell_type": "code",
   "execution_count": 163,
   "id": "d4e6e90f",
   "metadata": {},
   "outputs": [
    {
     "data": {
      "text/plain": [
       "reviewer_id           0\n",
       "store_address         0\n",
       "latitude              0\n",
       "longitude             0\n",
       "City                  0\n",
       "State                 0\n",
       "review                0\n",
       "rating                0\n",
       "review_date         308\n",
       "clean_reviews         0\n",
       "actual_sentiment      0\n",
       "dtype: int64"
      ]
     },
     "execution_count": 163,
     "metadata": {},
     "output_type": "execute_result"
    }
   ],
   "source": [
    "df2.isnull().sum()"
   ]
  },
  {
   "cell_type": "code",
   "execution_count": 164,
   "id": "d1775d03",
   "metadata": {},
   "outputs": [],
   "source": [
    "#Fill missing dates of today's date\n",
    "\n",
    "# Get yesterday's date and normalize to remove the time component\n",
    "yesterday = (pd.Timestamp('today') - pd.Timedelta(days=1)).normalize()\n",
    "\n",
    "# Fill missing values in the 'review_date' column with yesterday's date\n",
    "df2['review_date'] = df2['review_date'].fillna(yesterday)"
   ]
  },
  {
   "cell_type": "code",
   "execution_count": 165,
   "id": "b1b5eac3",
   "metadata": {},
   "outputs": [
    {
     "data": {
      "text/html": [
       "<div>\n",
       "<style scoped>\n",
       "    .dataframe tbody tr th:only-of-type {\n",
       "        vertical-align: middle;\n",
       "    }\n",
       "\n",
       "    .dataframe tbody tr th {\n",
       "        vertical-align: top;\n",
       "    }\n",
       "\n",
       "    .dataframe thead th {\n",
       "        text-align: right;\n",
       "    }\n",
       "</style>\n",
       "<table border=\"1\" class=\"dataframe\">\n",
       "  <thead>\n",
       "    <tr style=\"text-align: right;\">\n",
       "      <th></th>\n",
       "      <th>reviewer_id</th>\n",
       "      <th>store_address</th>\n",
       "      <th>latitude</th>\n",
       "      <th>longitude</th>\n",
       "      <th>City</th>\n",
       "      <th>State</th>\n",
       "      <th>review</th>\n",
       "      <th>rating</th>\n",
       "      <th>review_date</th>\n",
       "      <th>clean_reviews</th>\n",
       "      <th>actual_sentiment</th>\n",
       "    </tr>\n",
       "  </thead>\n",
       "  <tbody>\n",
       "    <tr>\n",
       "      <th>0</th>\n",
       "      <td>1</td>\n",
       "      <td>13749 US-183 Hwy</td>\n",
       "      <td>30.460718</td>\n",
       "      <td>-97.792874</td>\n",
       "      <td>Austin</td>\n",
       "      <td>TX</td>\n",
       "      <td>Why does it look like someone spit on my food?...</td>\n",
       "      <td>1</td>\n",
       "      <td>2025-01-14</td>\n",
       "      <td>Why does it look like someone spit on my food ...</td>\n",
       "      <td>negative</td>\n",
       "    </tr>\n",
       "    <tr>\n",
       "      <th>1</th>\n",
       "      <td>2</td>\n",
       "      <td>13749 US-183 Hwy</td>\n",
       "      <td>30.460718</td>\n",
       "      <td>-97.792874</td>\n",
       "      <td>Austin</td>\n",
       "      <td>TX</td>\n",
       "      <td>It'd McDonalds. It is what it is as far as the...</td>\n",
       "      <td>4</td>\n",
       "      <td>2025-04-09</td>\n",
       "      <td>Itd McDonalds It is what it is as far as the f...</td>\n",
       "      <td>positive</td>\n",
       "    </tr>\n",
       "    <tr>\n",
       "      <th>2</th>\n",
       "      <td>3</td>\n",
       "      <td>13749 US-183 Hwy</td>\n",
       "      <td>30.460718</td>\n",
       "      <td>-97.792874</td>\n",
       "      <td>Austin</td>\n",
       "      <td>TX</td>\n",
       "      <td>Made a mobile order got to the speaker and che...</td>\n",
       "      <td>1</td>\n",
       "      <td>2025-04-09</td>\n",
       "      <td>Made a mobile order got to the speaker and che...</td>\n",
       "      <td>negative</td>\n",
       "    </tr>\n",
       "    <tr>\n",
       "      <th>3</th>\n",
       "      <td>4</td>\n",
       "      <td>13749 US-183 Hwy</td>\n",
       "      <td>30.460718</td>\n",
       "      <td>-97.792874</td>\n",
       "      <td>Austin</td>\n",
       "      <td>TX</td>\n",
       "      <td>My mc. Crispy chicken sandwich was ..............</td>\n",
       "      <td>5</td>\n",
       "      <td>2025-03-14</td>\n",
       "      <td>My mc Crispy chicken sandwich was customer ser...</td>\n",
       "      <td>positive</td>\n",
       "    </tr>\n",
       "    <tr>\n",
       "      <th>4</th>\n",
       "      <td>5</td>\n",
       "      <td>13749 US-183 Hwy</td>\n",
       "      <td>30.460718</td>\n",
       "      <td>-97.792874</td>\n",
       "      <td>Austin</td>\n",
       "      <td>TX</td>\n",
       "      <td>I repeat my order 3 times in the drive thru, a...</td>\n",
       "      <td>1</td>\n",
       "      <td>2025-02-14</td>\n",
       "      <td>I repeat my order times in the drive thru and ...</td>\n",
       "      <td>negative</td>\n",
       "    </tr>\n",
       "  </tbody>\n",
       "</table>\n",
       "</div>"
      ],
      "text/plain": [
       "   reviewer_id     store_address   latitude  longitude    City State  \\\n",
       "0            1  13749 US-183 Hwy  30.460718 -97.792874  Austin    TX   \n",
       "1            2  13749 US-183 Hwy  30.460718 -97.792874  Austin    TX   \n",
       "2            3  13749 US-183 Hwy  30.460718 -97.792874  Austin    TX   \n",
       "3            4  13749 US-183 Hwy  30.460718 -97.792874  Austin    TX   \n",
       "4            5  13749 US-183 Hwy  30.460718 -97.792874  Austin    TX   \n",
       "\n",
       "                                              review  rating review_date  \\\n",
       "0  Why does it look like someone spit on my food?...       1  2025-01-14   \n",
       "1  It'd McDonalds. It is what it is as far as the...       4  2025-04-09   \n",
       "2  Made a mobile order got to the speaker and che...       1  2025-04-09   \n",
       "3  My mc. Crispy chicken sandwich was ..............       5  2025-03-14   \n",
       "4  I repeat my order 3 times in the drive thru, a...       1  2025-02-14   \n",
       "\n",
       "                                       clean_reviews actual_sentiment  \n",
       "0  Why does it look like someone spit on my food ...         negative  \n",
       "1  Itd McDonalds It is what it is as far as the f...         positive  \n",
       "2  Made a mobile order got to the speaker and che...         negative  \n",
       "3  My mc Crispy chicken sandwich was customer ser...         positive  \n",
       "4  I repeat my order times in the drive thru and ...         negative  "
      ]
     },
     "execution_count": 165,
     "metadata": {},
     "output_type": "execute_result"
    }
   ],
   "source": [
    "df2.head()"
   ]
  },
  {
   "cell_type": "markdown",
   "id": "d62fa127",
   "metadata": {},
   "source": [
    "## Save clean Dataset"
   ]
  },
  {
   "cell_type": "code",
   "execution_count": 166,
   "id": "42fa2244",
   "metadata": {},
   "outputs": [],
   "source": [
    "df2.to_csv('data/cleaned_data.csv',index=False)"
   ]
  },
  {
   "cell_type": "code",
   "execution_count": null,
   "id": "61564ecf",
   "metadata": {},
   "outputs": [],
   "source": []
  },
  {
   "cell_type": "code",
   "execution_count": null,
   "id": "64f20428",
   "metadata": {},
   "outputs": [],
   "source": []
  }
 ],
 "metadata": {
  "kernelspec": {
   "display_name": "myenv",
   "language": "python",
   "name": "python3"
  },
  "language_info": {
   "codemirror_mode": {
    "name": "ipython",
    "version": 3
   },
   "file_extension": ".py",
   "mimetype": "text/x-python",
   "name": "python",
   "nbconvert_exporter": "python",
   "pygments_lexer": "ipython3",
   "version": "3.10.13"
  }
 },
 "nbformat": 4,
 "nbformat_minor": 5
}
